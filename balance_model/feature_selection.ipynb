{
 "cells": [
  {
   "cell_type": "code",
   "execution_count": 35,
   "id": "5face035-3bd8-4d5f-ab21-b123299aa69f",
   "metadata": {},
   "outputs": [],
   "source": [
    "import numpy as np\n",
    "import pandas as pd\n",
    "import seaborn as sns\n",
    "import matplotlib.pyplot as plt\n",
    "from sklearn.utils import shuffle\n",
    "from sklearn.metrics import confusion_matrix, accuracy_score,  classification_report\n",
    "from sklearn.model_selection import train_test_split \n",
    "from sklearn import preprocessing\n",
    "import ipaddress\n",
    "\n",
    "import warnings\n",
    "warnings.simplefilter('ignore')"
   ]
  },
  {
   "cell_type": "code",
   "execution_count": 36,
   "id": "d736ca38-40fe-4cb8-8f00-bed5642bb61f",
   "metadata": {},
   "outputs": [],
   "source": [
    "#DATADIR = '/home/infres/abiapo/prim/data'\n",
    "DATADIR = '/home/infres/sagbo-21/Documents/PRIM/PRIM/data'"
   ]
  },
  {
   "cell_type": "code",
   "execution_count": 3,
   "id": "b1e4a656-0b0b-424e-89a3-bb335c05638c",
   "metadata": {},
   "outputs": [
    {
     "data": {
      "text/html": [
       "<div>\n",
       "<style scoped>\n",
       "    .dataframe tbody tr th:only-of-type {\n",
       "        vertical-align: middle;\n",
       "    }\n",
       "\n",
       "    .dataframe tbody tr th {\n",
       "        vertical-align: top;\n",
       "    }\n",
       "\n",
       "    .dataframe thead th {\n",
       "        text-align: right;\n",
       "    }\n",
       "</style>\n",
       "<table border=\"1\" class=\"dataframe\">\n",
       "  <thead>\n",
       "    <tr style=\"text-align: right;\">\n",
       "      <th></th>\n",
       "      <th>Unnamed:_0</th>\n",
       "      <th>Flow_ID</th>\n",
       "      <th>Source_IP</th>\n",
       "      <th>Source_Port</th>\n",
       "      <th>Destination_IP</th>\n",
       "      <th>Destination_Port</th>\n",
       "      <th>Protocol</th>\n",
       "      <th>Timestamp</th>\n",
       "      <th>Flow_Duration</th>\n",
       "      <th>Total_Fwd_Packets</th>\n",
       "      <th>...</th>\n",
       "      <th>Active_Max</th>\n",
       "      <th>Active_Min</th>\n",
       "      <th>Idle_Mean</th>\n",
       "      <th>Idle_Std</th>\n",
       "      <th>Idle_Max</th>\n",
       "      <th>Idle_Min</th>\n",
       "      <th>SimillarHTTP</th>\n",
       "      <th>Inbound</th>\n",
       "      <th>Label</th>\n",
       "      <th>label</th>\n",
       "    </tr>\n",
       "  </thead>\n",
       "  <tbody>\n",
       "    <tr>\n",
       "      <th>0</th>\n",
       "      <td>112140</td>\n",
       "      <td>172.16.0.5-192.168.50.1-44231-8387-17</td>\n",
       "      <td>172.16.0.5</td>\n",
       "      <td>44231</td>\n",
       "      <td>192.168.50.1</td>\n",
       "      <td>8387</td>\n",
       "      <td>17</td>\n",
       "      <td>2018-12-01 13:45:46.994571</td>\n",
       "      <td>0</td>\n",
       "      <td>2</td>\n",
       "      <td>...</td>\n",
       "      <td>0.0</td>\n",
       "      <td>0.0</td>\n",
       "      <td>0.0</td>\n",
       "      <td>0.0</td>\n",
       "      <td>0.0</td>\n",
       "      <td>0.0</td>\n",
       "      <td>0</td>\n",
       "      <td>1</td>\n",
       "      <td>TFTP</td>\n",
       "      <td>1</td>\n",
       "    </tr>\n",
       "    <tr>\n",
       "      <th>1</th>\n",
       "      <td>25309</td>\n",
       "      <td>172.16.0.5-192.168.50.1-891-63192-17</td>\n",
       "      <td>172.16.0.5</td>\n",
       "      <td>891</td>\n",
       "      <td>192.168.50.1</td>\n",
       "      <td>63192</td>\n",
       "      <td>17</td>\n",
       "      <td>2018-12-01 12:14:48.493601</td>\n",
       "      <td>2</td>\n",
       "      <td>2</td>\n",
       "      <td>...</td>\n",
       "      <td>0.0</td>\n",
       "      <td>0.0</td>\n",
       "      <td>0.0</td>\n",
       "      <td>0.0</td>\n",
       "      <td>0.0</td>\n",
       "      <td>0.0</td>\n",
       "      <td>0</td>\n",
       "      <td>1</td>\n",
       "      <td>DrDoS_SNMP</td>\n",
       "      <td>1</td>\n",
       "    </tr>\n",
       "    <tr>\n",
       "      <th>2</th>\n",
       "      <td>3538</td>\n",
       "      <td>172.16.0.5-192.168.50.1-649-33920-17</td>\n",
       "      <td>172.16.0.5</td>\n",
       "      <td>649</td>\n",
       "      <td>192.168.50.1</td>\n",
       "      <td>33920</td>\n",
       "      <td>17</td>\n",
       "      <td>2018-12-01 10:36:57.214865</td>\n",
       "      <td>1620</td>\n",
       "      <td>126</td>\n",
       "      <td>...</td>\n",
       "      <td>0.0</td>\n",
       "      <td>0.0</td>\n",
       "      <td>0.0</td>\n",
       "      <td>0.0</td>\n",
       "      <td>0.0</td>\n",
       "      <td>0.0</td>\n",
       "      <td>0</td>\n",
       "      <td>1</td>\n",
       "      <td>DrDoS_NTP</td>\n",
       "      <td>1</td>\n",
       "    </tr>\n",
       "    <tr>\n",
       "      <th>3</th>\n",
       "      <td>11531</td>\n",
       "      <td>192.168.10.50-192.168.50.6-22-56370-6</td>\n",
       "      <td>192.168.50.6</td>\n",
       "      <td>56370</td>\n",
       "      <td>192.168.10.50</td>\n",
       "      <td>22</td>\n",
       "      <td>6</td>\n",
       "      <td>2018-11-03 12:46:39.696861</td>\n",
       "      <td>8996366</td>\n",
       "      <td>6</td>\n",
       "      <td>...</td>\n",
       "      <td>2995940.0</td>\n",
       "      <td>2995940.0</td>\n",
       "      <td>6000423.0</td>\n",
       "      <td>0.0</td>\n",
       "      <td>6000423.0</td>\n",
       "      <td>6000423.0</td>\n",
       "      <td>0</td>\n",
       "      <td>1</td>\n",
       "      <td>BENIGN</td>\n",
       "      <td>0</td>\n",
       "    </tr>\n",
       "    <tr>\n",
       "      <th>4</th>\n",
       "      <td>1489</td>\n",
       "      <td>192.168.50.6-4.2.2.4-58840-53-17</td>\n",
       "      <td>192.168.50.6</td>\n",
       "      <td>58840</td>\n",
       "      <td>4.2.2.4</td>\n",
       "      <td>53</td>\n",
       "      <td>17</td>\n",
       "      <td>2018-12-01 10:59:03.241570</td>\n",
       "      <td>20681</td>\n",
       "      <td>2</td>\n",
       "      <td>...</td>\n",
       "      <td>0.0</td>\n",
       "      <td>0.0</td>\n",
       "      <td>0.0</td>\n",
       "      <td>0.0</td>\n",
       "      <td>0.0</td>\n",
       "      <td>0.0</td>\n",
       "      <td>0</td>\n",
       "      <td>0</td>\n",
       "      <td>BENIGN</td>\n",
       "      <td>0</td>\n",
       "    </tr>\n",
       "  </tbody>\n",
       "</table>\n",
       "<p>5 rows × 89 columns</p>\n",
       "</div>"
      ],
      "text/plain": [
       "   Unnamed:_0                                Flow_ID     Source_IP  \\\n",
       "0      112140  172.16.0.5-192.168.50.1-44231-8387-17    172.16.0.5   \n",
       "1       25309   172.16.0.5-192.168.50.1-891-63192-17    172.16.0.5   \n",
       "2        3538   172.16.0.5-192.168.50.1-649-33920-17    172.16.0.5   \n",
       "3       11531  192.168.10.50-192.168.50.6-22-56370-6  192.168.50.6   \n",
       "4        1489       192.168.50.6-4.2.2.4-58840-53-17  192.168.50.6   \n",
       "\n",
       "   Source_Port Destination_IP  Destination_Port  Protocol  \\\n",
       "0        44231   192.168.50.1              8387        17   \n",
       "1          891   192.168.50.1             63192        17   \n",
       "2          649   192.168.50.1             33920        17   \n",
       "3        56370  192.168.10.50                22         6   \n",
       "4        58840        4.2.2.4                53        17   \n",
       "\n",
       "                    Timestamp  Flow_Duration  Total_Fwd_Packets  ...  \\\n",
       "0  2018-12-01 13:45:46.994571              0                  2  ...   \n",
       "1  2018-12-01 12:14:48.493601              2                  2  ...   \n",
       "2  2018-12-01 10:36:57.214865           1620                126  ...   \n",
       "3  2018-11-03 12:46:39.696861        8996366                  6  ...   \n",
       "4  2018-12-01 10:59:03.241570          20681                  2  ...   \n",
       "\n",
       "   Active_Max  Active_Min  Idle_Mean  Idle_Std   Idle_Max   Idle_Min  \\\n",
       "0         0.0         0.0        0.0       0.0        0.0        0.0   \n",
       "1         0.0         0.0        0.0       0.0        0.0        0.0   \n",
       "2         0.0         0.0        0.0       0.0        0.0        0.0   \n",
       "3   2995940.0   2995940.0  6000423.0       0.0  6000423.0  6000423.0   \n",
       "4         0.0         0.0        0.0       0.0        0.0        0.0   \n",
       "\n",
       "   SimillarHTTP  Inbound       Label  label  \n",
       "0             0        1        TFTP      1  \n",
       "1             0        1  DrDoS_SNMP      1  \n",
       "2             0        1   DrDoS_NTP      1  \n",
       "3             0        1      BENIGN      0  \n",
       "4             0        0      BENIGN      0  \n",
       "\n",
       "[5 rows x 89 columns]"
      ]
     },
     "execution_count": 3,
     "metadata": {},
     "output_type": "execute_result"
    }
   ],
   "source": [
    "data = pd.read_csv(DATADIR+'/balance_mix_data.csv')\n",
    "data.head()"
   ]
  },
  {
   "cell_type": "code",
   "execution_count": 4,
   "id": "63dad6e2-c27a-4ed5-8742-097cb7b76c6d",
   "metadata": {},
   "outputs": [],
   "source": [
    "data = data.drop(['Unnamed:_0'],axis=1)"
   ]
  },
  {
   "cell_type": "code",
   "execution_count": 5,
   "id": "9ebcdfeb-a538-4ee0-ac84-89d1fe37d1f4",
   "metadata": {},
   "outputs": [],
   "source": [
    "data['Source_IP'] = data['Source_IP'].apply(lambda ip: int(ipaddress.ip_address(ip)))\n",
    "data['Destination_IP'] = data['Destination_IP'].apply(lambda ip: int(ipaddress.ip_address(ip)))"
   ]
  },
  {
   "cell_type": "code",
   "execution_count": 6,
   "id": "9d46c3be-94fc-48f1-b4b4-ec1d77469e36",
   "metadata": {},
   "outputs": [],
   "source": [
    "data = data.drop(['Flow_ID'],axis=1)"
   ]
  },
  {
   "cell_type": "code",
   "execution_count": 7,
   "id": "9c63f495-3e4f-43d7-ae3e-b1a65004fc2e",
   "metadata": {},
   "outputs": [],
   "source": [
    "data = data.drop(['Timestamp'],axis=1)"
   ]
  },
  {
   "cell_type": "markdown",
   "id": "a4a7d550-28d9-48ca-9a95-2ccd59149df7",
   "metadata": {},
   "source": [
    "SimilarHTTP has a different structure. Maybe we could perform a wordembedding to transform the string to numerical value. For the moment we will delete this feature."
   ]
  },
  {
   "cell_type": "code",
   "execution_count": null,
   "id": "3abc12a8-e95b-4779-ad8d-59a59c020afc",
   "metadata": {},
   "outputs": [],
   "source": [
    "data = data.drop(['SimillarHTTP'],axis=1)"
   ]
  },
  {
   "cell_type": "code",
   "execution_count": 11,
   "id": "5dbab957-7ca2-4722-b70d-d8c12a9b1ab8",
   "metadata": {},
   "outputs": [],
   "source": [
    "data = data[~data.isin([np.nan, np.inf, -np.inf]).any(1)]"
   ]
  },
  {
   "cell_type": "code",
   "execution_count": 12,
   "id": "75b62dfe-a9df-4b74-834c-199432edbe25",
   "metadata": {},
   "outputs": [],
   "source": [
    "X = data.iloc[:,:-2]\n",
    "y = data.iloc[:,-1].to_numpy()"
   ]
  },
  {
   "cell_type": "code",
   "execution_count": 13,
   "id": "5fa1de15-5ea9-4c14-a16c-a9ddf0bc0fb0",
   "metadata": {},
   "outputs": [
    {
     "data": {
      "text/plain": [
       "True"
      ]
     },
     "execution_count": 13,
     "metadata": {},
     "output_type": "execute_result"
    }
   ],
   "source": [
    "all(X>0)"
   ]
  },
  {
   "cell_type": "code",
   "execution_count": 14,
   "id": "32511aa8-e484-46cd-a912-1d71c8d8b129",
   "metadata": {},
   "outputs": [
    {
     "data": {
      "text/html": [
       "<div>\n",
       "<style scoped>\n",
       "    .dataframe tbody tr th:only-of-type {\n",
       "        vertical-align: middle;\n",
       "    }\n",
       "\n",
       "    .dataframe tbody tr th {\n",
       "        vertical-align: top;\n",
       "    }\n",
       "\n",
       "    .dataframe thead th {\n",
       "        text-align: right;\n",
       "    }\n",
       "</style>\n",
       "<table border=\"1\" class=\"dataframe\">\n",
       "  <thead>\n",
       "    <tr style=\"text-align: right;\">\n",
       "      <th></th>\n",
       "      <th>Bwd_PSH_Flags</th>\n",
       "      <th>Fwd_URG_Flags</th>\n",
       "      <th>Bwd_URG_Flags</th>\n",
       "      <th>FIN_Flag_Count</th>\n",
       "      <th>PSH_Flag_Count</th>\n",
       "      <th>ECE_Flag_Count</th>\n",
       "      <th>Fwd_Avg_Bytes_Bulk</th>\n",
       "      <th>Fwd_Avg_Packets_Bulk</th>\n",
       "      <th>Fwd_Avg_Bulk_Rate</th>\n",
       "      <th>Bwd_Avg_Bytes_Bulk</th>\n",
       "      <th>Bwd_Avg_Packets_Bulk</th>\n",
       "      <th>Bwd_Avg_Bulk_Rate</th>\n",
       "    </tr>\n",
       "  </thead>\n",
       "  <tbody>\n",
       "    <tr>\n",
       "      <th>1</th>\n",
       "      <td>0</td>\n",
       "      <td>0</td>\n",
       "      <td>0</td>\n",
       "      <td>0</td>\n",
       "      <td>0</td>\n",
       "      <td>0</td>\n",
       "      <td>0</td>\n",
       "      <td>0</td>\n",
       "      <td>0</td>\n",
       "      <td>0</td>\n",
       "      <td>0</td>\n",
       "      <td>0</td>\n",
       "    </tr>\n",
       "    <tr>\n",
       "      <th>2</th>\n",
       "      <td>0</td>\n",
       "      <td>0</td>\n",
       "      <td>0</td>\n",
       "      <td>0</td>\n",
       "      <td>0</td>\n",
       "      <td>0</td>\n",
       "      <td>0</td>\n",
       "      <td>0</td>\n",
       "      <td>0</td>\n",
       "      <td>0</td>\n",
       "      <td>0</td>\n",
       "      <td>0</td>\n",
       "    </tr>\n",
       "    <tr>\n",
       "      <th>3</th>\n",
       "      <td>0</td>\n",
       "      <td>0</td>\n",
       "      <td>0</td>\n",
       "      <td>0</td>\n",
       "      <td>0</td>\n",
       "      <td>0</td>\n",
       "      <td>0</td>\n",
       "      <td>0</td>\n",
       "      <td>0</td>\n",
       "      <td>0</td>\n",
       "      <td>0</td>\n",
       "      <td>0</td>\n",
       "    </tr>\n",
       "    <tr>\n",
       "      <th>4</th>\n",
       "      <td>0</td>\n",
       "      <td>0</td>\n",
       "      <td>0</td>\n",
       "      <td>0</td>\n",
       "      <td>0</td>\n",
       "      <td>0</td>\n",
       "      <td>0</td>\n",
       "      <td>0</td>\n",
       "      <td>0</td>\n",
       "      <td>0</td>\n",
       "      <td>0</td>\n",
       "      <td>0</td>\n",
       "    </tr>\n",
       "    <tr>\n",
       "      <th>5</th>\n",
       "      <td>0</td>\n",
       "      <td>0</td>\n",
       "      <td>0</td>\n",
       "      <td>0</td>\n",
       "      <td>0</td>\n",
       "      <td>0</td>\n",
       "      <td>0</td>\n",
       "      <td>0</td>\n",
       "      <td>0</td>\n",
       "      <td>0</td>\n",
       "      <td>0</td>\n",
       "      <td>0</td>\n",
       "    </tr>\n",
       "    <tr>\n",
       "      <th>...</th>\n",
       "      <td>...</td>\n",
       "      <td>...</td>\n",
       "      <td>...</td>\n",
       "      <td>...</td>\n",
       "      <td>...</td>\n",
       "      <td>...</td>\n",
       "      <td>...</td>\n",
       "      <td>...</td>\n",
       "      <td>...</td>\n",
       "      <td>...</td>\n",
       "      <td>...</td>\n",
       "      <td>...</td>\n",
       "    </tr>\n",
       "    <tr>\n",
       "      <th>218537</th>\n",
       "      <td>0</td>\n",
       "      <td>0</td>\n",
       "      <td>0</td>\n",
       "      <td>0</td>\n",
       "      <td>0</td>\n",
       "      <td>0</td>\n",
       "      <td>0</td>\n",
       "      <td>0</td>\n",
       "      <td>0</td>\n",
       "      <td>0</td>\n",
       "      <td>0</td>\n",
       "      <td>0</td>\n",
       "    </tr>\n",
       "    <tr>\n",
       "      <th>218538</th>\n",
       "      <td>0</td>\n",
       "      <td>0</td>\n",
       "      <td>0</td>\n",
       "      <td>0</td>\n",
       "      <td>0</td>\n",
       "      <td>0</td>\n",
       "      <td>0</td>\n",
       "      <td>0</td>\n",
       "      <td>0</td>\n",
       "      <td>0</td>\n",
       "      <td>0</td>\n",
       "      <td>0</td>\n",
       "    </tr>\n",
       "    <tr>\n",
       "      <th>218539</th>\n",
       "      <td>0</td>\n",
       "      <td>0</td>\n",
       "      <td>0</td>\n",
       "      <td>0</td>\n",
       "      <td>0</td>\n",
       "      <td>0</td>\n",
       "      <td>0</td>\n",
       "      <td>0</td>\n",
       "      <td>0</td>\n",
       "      <td>0</td>\n",
       "      <td>0</td>\n",
       "      <td>0</td>\n",
       "    </tr>\n",
       "    <tr>\n",
       "      <th>218540</th>\n",
       "      <td>0</td>\n",
       "      <td>0</td>\n",
       "      <td>0</td>\n",
       "      <td>0</td>\n",
       "      <td>0</td>\n",
       "      <td>0</td>\n",
       "      <td>0</td>\n",
       "      <td>0</td>\n",
       "      <td>0</td>\n",
       "      <td>0</td>\n",
       "      <td>0</td>\n",
       "      <td>0</td>\n",
       "    </tr>\n",
       "    <tr>\n",
       "      <th>218541</th>\n",
       "      <td>0</td>\n",
       "      <td>0</td>\n",
       "      <td>0</td>\n",
       "      <td>0</td>\n",
       "      <td>0</td>\n",
       "      <td>0</td>\n",
       "      <td>0</td>\n",
       "      <td>0</td>\n",
       "      <td>0</td>\n",
       "      <td>0</td>\n",
       "      <td>0</td>\n",
       "      <td>0</td>\n",
       "    </tr>\n",
       "  </tbody>\n",
       "</table>\n",
       "<p>214736 rows × 12 columns</p>\n",
       "</div>"
      ],
      "text/plain": [
       "        Bwd_PSH_Flags  Fwd_URG_Flags  Bwd_URG_Flags  FIN_Flag_Count  \\\n",
       "1                   0              0              0               0   \n",
       "2                   0              0              0               0   \n",
       "3                   0              0              0               0   \n",
       "4                   0              0              0               0   \n",
       "5                   0              0              0               0   \n",
       "...               ...            ...            ...             ...   \n",
       "218537              0              0              0               0   \n",
       "218538              0              0              0               0   \n",
       "218539              0              0              0               0   \n",
       "218540              0              0              0               0   \n",
       "218541              0              0              0               0   \n",
       "\n",
       "        PSH_Flag_Count  ECE_Flag_Count  Fwd_Avg_Bytes_Bulk  \\\n",
       "1                    0               0                   0   \n",
       "2                    0               0                   0   \n",
       "3                    0               0                   0   \n",
       "4                    0               0                   0   \n",
       "5                    0               0                   0   \n",
       "...                ...             ...                 ...   \n",
       "218537               0               0                   0   \n",
       "218538               0               0                   0   \n",
       "218539               0               0                   0   \n",
       "218540               0               0                   0   \n",
       "218541               0               0                   0   \n",
       "\n",
       "        Fwd_Avg_Packets_Bulk  Fwd_Avg_Bulk_Rate  Bwd_Avg_Bytes_Bulk  \\\n",
       "1                          0                  0                   0   \n",
       "2                          0                  0                   0   \n",
       "3                          0                  0                   0   \n",
       "4                          0                  0                   0   \n",
       "5                          0                  0                   0   \n",
       "...                      ...                ...                 ...   \n",
       "218537                     0                  0                   0   \n",
       "218538                     0                  0                   0   \n",
       "218539                     0                  0                   0   \n",
       "218540                     0                  0                   0   \n",
       "218541                     0                  0                   0   \n",
       "\n",
       "        Bwd_Avg_Packets_Bulk  Bwd_Avg_Bulk_Rate  \n",
       "1                          0                  0  \n",
       "2                          0                  0  \n",
       "3                          0                  0  \n",
       "4                          0                  0  \n",
       "5                          0                  0  \n",
       "...                      ...                ...  \n",
       "218537                     0                  0  \n",
       "218538                     0                  0  \n",
       "218539                     0                  0  \n",
       "218540                     0                  0  \n",
       "218541                     0                  0  \n",
       "\n",
       "[214736 rows x 12 columns]"
      ]
     },
     "execution_count": 14,
     "metadata": {},
     "output_type": "execute_result"
    }
   ],
   "source": [
    "X.iloc[:,[35,36,37,47,50,54,60,61,62,63,64,65]]"
   ]
  },
  {
   "cell_type": "markdown",
   "id": "5064c30e-64c1-48ed-8adb-8e1f77128b54",
   "metadata": {},
   "source": [
    "# Feature selection : Filter Methods"
   ]
  },
  {
   "cell_type": "markdown",
   "id": "3d5cab5f-e943-4516-8901-c8a842aa58ae",
   "metadata": {},
   "source": [
    "**Definition**\n",
    "Filter methods select features from a dataset independently for any machine learning algorithm. \n",
    "These methods rely only on the characteristics of these variables, so features are filtered out of the data before learning begins.\n",
    "These methods are powerful and simple and help to quickly remove features— and they are generally the first step in any feature selection pipeline\n",
    "\n",
    "**Avantages**\n",
    "- Selected features can be used in any machine learning algorithm,\n",
    "- They’re computationally inexpensive—you can process thousands of features in a matter of seconds.\n",
    "\n",
    "Filter methods are very good for eliminating irrelevant, redundant, constant, duplicated, and correlated features."
   ]
  },
  {
   "cell_type": "markdown",
   "id": "17165813-ab96-427c-b16d-156727ff457e",
   "metadata": {},
   "source": [
    "## Statistical & Ranking Filter Methods"
   ]
  },
  {
   "cell_type": "markdown",
   "id": "d4fdb5b4-0b49-401c-8969-e270ecdcad77",
   "metadata": {},
   "source": [
    "These methods are statistical tests that evaluate each feature individually. By shedding light on the target, they evaluate whether the variable is important in order to discriminate against the target.\n",
    "Essentially, these methods rank the features based on certain criteria or metrics and then select the features with the highest ranking."
   ]
  },
  {
   "cell_type": "markdown",
   "id": "a8022f8d-a423-49e3-b28a-061b5ffd6f93",
   "metadata": {},
   "source": [
    "### ANOVA Univariate Test\n",
    "\n",
    "A univariate test, or more specifically ANOVA ( — short for ANalysis Of VAriance), is similar to the previous scores, as it measures the dependence of two variables.\n",
    "ANOVA assumes a linear relationship between the variables and the target, and also that the variables are normally distributed."
   ]
  },
  {
   "cell_type": "code",
   "execution_count": 15,
   "id": "50b1c1f0-63dd-4981-b7ce-4f66c9e70df4",
   "metadata": {},
   "outputs": [],
   "source": [
    "from sklearn.feature_selection import SelectKBest, chi2, f_classif, mutual_info_classif, RFE, SelectFromModel"
   ]
  },
  {
   "cell_type": "code",
   "execution_count": 16,
   "id": "b3c6dad0-a541-4f9f-bd7a-41a47158844d",
   "metadata": {},
   "outputs": [],
   "source": [
    "#Select top 2 features based on f_classif\n",
    "selector = SelectKBest(f_classif, k = 20).fit(X, y)\n",
    "dfscores = pd.DataFrame(selector.scores_)\n",
    "dfcolumns = pd.DataFrame(X.columns)"
   ]
  },
  {
   "cell_type": "code",
   "execution_count": 17,
   "id": "4688c11d-f250-4e81-8358-14473ce7d74c",
   "metadata": {},
   "outputs": [
    {
     "data": {
      "text/html": [
       "<div>\n",
       "<style scoped>\n",
       "    .dataframe tbody tr th:only-of-type {\n",
       "        vertical-align: middle;\n",
       "    }\n",
       "\n",
       "    .dataframe tbody tr th {\n",
       "        vertical-align: top;\n",
       "    }\n",
       "\n",
       "    .dataframe thead th {\n",
       "        text-align: right;\n",
       "    }\n",
       "</style>\n",
       "<table border=\"1\" class=\"dataframe\">\n",
       "  <thead>\n",
       "    <tr style=\"text-align: right;\">\n",
       "      <th></th>\n",
       "      <th>Specs</th>\n",
       "      <th>Score</th>\n",
       "    </tr>\n",
       "  </thead>\n",
       "  <tbody>\n",
       "    <tr>\n",
       "      <th>0</th>\n",
       "      <td>Source_IP</td>\n",
       "      <td>3088.218495</td>\n",
       "    </tr>\n",
       "    <tr>\n",
       "      <th>1</th>\n",
       "      <td>Source_Port</td>\n",
       "      <td>14484.364758</td>\n",
       "    </tr>\n",
       "    <tr>\n",
       "      <th>2</th>\n",
       "      <td>Destination_IP</td>\n",
       "      <td>131892.416410</td>\n",
       "    </tr>\n",
       "    <tr>\n",
       "      <th>3</th>\n",
       "      <td>Destination_Port</td>\n",
       "      <td>69646.428307</td>\n",
       "    </tr>\n",
       "    <tr>\n",
       "      <th>4</th>\n",
       "      <td>Protocol</td>\n",
       "      <td>116197.690449</td>\n",
       "    </tr>\n",
       "  </tbody>\n",
       "</table>\n",
       "</div>"
      ],
      "text/plain": [
       "              Specs          Score\n",
       "0         Source_IP    3088.218495\n",
       "1       Source_Port   14484.364758\n",
       "2    Destination_IP  131892.416410\n",
       "3  Destination_Port   69646.428307\n",
       "4          Protocol  116197.690449"
      ]
     },
     "execution_count": 17,
     "metadata": {},
     "output_type": "execute_result"
    }
   ],
   "source": [
    "featureScores = pd.concat([dfcolumns,dfscores],axis=1)\n",
    "featureScores.columns = ['Specs','Score']\n",
    "featureScores.head()"
   ]
  },
  {
   "cell_type": "code",
   "execution_count": 18,
   "id": "ef73e0ea-056b-4c93-a371-ed838f2814fa",
   "metadata": {},
   "outputs": [
    {
     "name": "stdout",
     "output_type": "stream",
     "text": [
      "                     Specs          Score\n",
      "82                 Inbound  462266.190790\n",
      "42       Min_Packet_Length  177346.597914\n",
      "11   Fwd_Packet_Length_Min  175117.476648\n",
      "12  Fwd_Packet_Length_Mean  157338.314600\n",
      "57    Avg_Fwd_Segment_Size  157338.314600\n",
      "56     Average_Packet_Size  131976.869431\n",
      "2           Destination_IP  131892.416410\n",
      "44      Packet_Length_Mean  130341.451580\n",
      "4                 Protocol  116197.690449\n",
      "52          URG_Flag_Count   88834.372220\n",
      "55           Down_Up_Ratio   81668.099475\n",
      "40           Fwd_Packets_s   80583.814754\n",
      "19          Flow_Packets_s   79184.437235\n",
      "18            Flow_Bytes_s   76059.089470\n",
      "3         Destination_Port   69646.428307\n",
      "10   Fwd_Packet_Length_Max   57386.778973\n",
      "15   Bwd_Packet_Length_Min   34612.381219\n",
      "53          CWE_Flag_Count   27753.063947\n",
      "16  Bwd_Packet_Length_Mean   19628.956456\n",
      "58    Avg_Bwd_Segment_Size   19628.956456\n"
     ]
    }
   ],
   "source": [
    "print(featureScores.nlargest(20,'Score'))"
   ]
  },
  {
   "cell_type": "code",
   "execution_count": 19,
   "id": "ccb86f30-ab92-4c53-ab7e-936630a44d37",
   "metadata": {},
   "outputs": [
    {
     "data": {
      "text/plain": [
       "<matplotlib.axes._subplots.AxesSubplot at 0x7fd187610b80>"
      ]
     },
     "execution_count": 19,
     "metadata": {},
     "output_type": "execute_result"
    },
    {
     "data": {
      "image/png": "[encoded data removed]",
      "text/plain": [
       "<Figure size 864x576 with 1 Axes>"
      ]
     },
     "metadata": {},
     "output_type": "display_data"
    }
   ],
   "source": [
    "sns.set(rc={'figure.figsize':(12,8)})\n",
    "sns.barplot(data = featureScores.nlargest(20,'Score'), x = \"Score\", y = \"Specs\")"
   ]
  },
  {
   "cell_type": "markdown",
   "id": "6568ff87-cd15-4549-baf4-b2a37a5acb3e",
   "metadata": {},
   "source": [
    "### Mutual Information\n",
    "Mutual information a measure of the mutual dependence of two variables. It measures the amount of information obtained about one variable through observing the other variable. In other words, it determines how much we can know about one variable by understanding another—it’s a little bit like correlation, but mutual information is more general.\n"
   ]
  },
  {
   "cell_type": "code",
   "execution_count": 21,
   "id": "f02f03ce-4726-4e12-bd11-1293f354e1b4",
   "metadata": {},
   "outputs": [],
   "source": [
    "#Select top 2 features based on mutual_info_classif\n",
    "selector = SelectKBest(mutual_info_classif, k = 20).fit(X, y)\n",
    "dfscores = pd.DataFrame(selector.scores_)\n",
    "dfcolumns = pd.DataFrame(X.columns)"
   ]
  },
  {
   "cell_type": "code",
   "execution_count": 22,
   "id": "8b021faf-e4b6-40cd-806f-c335e030f030",
   "metadata": {},
   "outputs": [
    {
     "data": {
      "text/html": [
       "<div>\n",
       "<style scoped>\n",
       "    .dataframe tbody tr th:only-of-type {\n",
       "        vertical-align: middle;\n",
       "    }\n",
       "\n",
       "    .dataframe tbody tr th {\n",
       "        vertical-align: top;\n",
       "    }\n",
       "\n",
       "    .dataframe thead th {\n",
       "        text-align: right;\n",
       "    }\n",
       "</style>\n",
       "<table border=\"1\" class=\"dataframe\">\n",
       "  <thead>\n",
       "    <tr style=\"text-align: right;\">\n",
       "      <th></th>\n",
       "      <th>Specs</th>\n",
       "      <th>Score</th>\n",
       "    </tr>\n",
       "  </thead>\n",
       "  <tbody>\n",
       "    <tr>\n",
       "      <th>0</th>\n",
       "      <td>Source_IP</td>\n",
       "      <td>0.707124</td>\n",
       "    </tr>\n",
       "    <tr>\n",
       "      <th>1</th>\n",
       "      <td>Source_Port</td>\n",
       "      <td>0.435841</td>\n",
       "    </tr>\n",
       "    <tr>\n",
       "      <th>2</th>\n",
       "      <td>Destination_IP</td>\n",
       "      <td>0.695366</td>\n",
       "    </tr>\n",
       "    <tr>\n",
       "      <th>3</th>\n",
       "      <td>Destination_Port</td>\n",
       "      <td>0.544799</td>\n",
       "    </tr>\n",
       "    <tr>\n",
       "      <th>4</th>\n",
       "      <td>Protocol</td>\n",
       "      <td>0.216677</td>\n",
       "    </tr>\n",
       "  </tbody>\n",
       "</table>\n",
       "</div>"
      ],
      "text/plain": [
       "              Specs     Score\n",
       "0         Source_IP  0.707124\n",
       "1       Source_Port  0.435841\n",
       "2    Destination_IP  0.695366\n",
       "3  Destination_Port  0.544799\n",
       "4          Protocol  0.216677"
      ]
     },
     "execution_count": 22,
     "metadata": {},
     "output_type": "execute_result"
    }
   ],
   "source": [
    "featureScores = pd.concat([dfcolumns,dfscores],axis=1)\n",
    "featureScores.columns = ['Specs','Score']\n",
    "featureScores.head()"
   ]
  },
  {
   "cell_type": "code",
   "execution_count": 23,
   "id": "f7ea8d46-7596-4fa9-b2e1-994a8fafb207",
   "metadata": {},
   "outputs": [
    {
     "name": "stdout",
     "output_type": "stream",
     "text": [
      "                          Specs     Score\n",
      "0                     Source_IP  0.707124\n",
      "2                Destination_IP  0.695366\n",
      "56          Average_Packet_Size  0.594324\n",
      "42            Min_Packet_Length  0.579059\n",
      "57         Avg_Fwd_Segment_Size  0.578970\n",
      "44           Packet_Length_Mean  0.578718\n",
      "12       Fwd_Packet_Length_Mean  0.578700\n",
      "11        Fwd_Packet_Length_Min  0.577470\n",
      "43            Max_Packet_Length  0.561941\n",
      "18                 Flow_Bytes_s  0.559120\n",
      "8   Total_Length_of_Fwd_Packets  0.555750\n",
      "67            Subflow_Fwd_Bytes  0.555084\n",
      "3              Destination_Port  0.544799\n",
      "10        Fwd_Packet_Length_Max  0.541167\n",
      "19               Flow_Packets_s  0.462307\n",
      "40                Fwd_Packets_s  0.457755\n",
      "22                 Flow_IAT_Max  0.452783\n",
      "20                Flow_IAT_Mean  0.447246\n",
      "82                      Inbound  0.446021\n",
      "5                 Flow_Duration  0.442198\n"
     ]
    }
   ],
   "source": [
    "print(featureScores.nlargest(20,'Score'))"
   ]
  },
  {
   "cell_type": "code",
   "execution_count": 24,
   "id": "d750847a-8eba-43eb-ab3a-4de92f9de984",
   "metadata": {},
   "outputs": [
    {
     "data": {
      "text/plain": [
       "<matplotlib.axes._subplots.AxesSubplot at 0x7fd18761fd90>"
      ]
     },
     "execution_count": 24,
     "metadata": {},
     "output_type": "execute_result"
    },
    {
     "data": {
      "image/png": "[encoded data removed]",
      "text/plain": [
       "<Figure size 864x576 with 1 Axes>"
      ]
     },
     "metadata": {},
     "output_type": "display_data"
    }
   ],
   "source": [
    "sns.set(rc={'figure.figsize':(12,8)})\n",
    "sns.barplot(data = featureScores.nlargest(20,'Score'), x = \"Score\", y = \"Specs\")"
   ]
  },
  {
   "cell_type": "markdown",
   "id": "2cd6ad55-a784-487e-8ab2-942b472e2409",
   "metadata": {},
   "source": [
    "To choose a value of $k$ we must compare the performance of the model with classification report of serveral techniques. Now we focus on the different selection techniques"
   ]
  },
  {
   "cell_type": "markdown",
   "id": "84ec227a-c171-40cd-93b6-baf6ef4856aa",
   "metadata": {},
   "source": [
    "## Feature Correlation Method"
   ]
  },
  {
   "cell_type": "code",
   "execution_count": 25,
   "id": "7f2161b3-c4cf-4b74-986a-355bef5e5f36",
   "metadata": {},
   "outputs": [
    {
     "data": {
      "image/png": "[encoded data removed]",
      "text/plain": [
       "<Figure size 864x576 with 1 Axes>"
      ]
     },
     "metadata": {},
     "output_type": "display_data"
    }
   ],
   "source": [
    "# determine 20 most correlated features\n",
    "plt.figure(figsize=(12,8))\n",
    "data_corr_label = data.corr()['label'].sort_values(ascending=False).head(21)\n",
    "top_corr_features = data_corr_label.index\n",
    "# plot top 20 most correlated features to our target (HEALTH)\n",
    "data_corr_label.plot(kind='barh')\n",
    "plt.show()"
   ]
  },
  {
   "cell_type": "code",
   "execution_count": 26,
   "id": "841dfab8-f001-4298-a8f8-625c1923e2dc",
   "metadata": {},
   "outputs": [
    {
     "name": "stdout",
     "output_type": "stream",
     "text": [
      "label                          1.000000\n",
      "Inbound                        0.826326\n",
      "Min_Packet_Length              0.672549\n",
      "Fwd_Packet_Length_Min          0.670217\n",
      "Avg_Fwd_Segment_Size           0.650285\n",
      "Fwd_Packet_Length_Mean         0.650285\n",
      "Average_Packet_Size            0.616972\n",
      "Destination_IP                 0.616849\n",
      "Packet_Length_Mean             0.614588\n",
      "Protocol                       0.592556\n",
      "Fwd_Packets_s                  0.522371\n",
      "Flow_Packets_s                 0.519047\n",
      "Flow_Bytes_s                   0.511427\n",
      "Destination_Port               0.494880\n",
      "Fwd_Packet_Length_Max          0.459225\n",
      "Max_Packet_Length              0.167869\n",
      "Bwd_Header_Length              0.027629\n",
      "Total_Length_of_Fwd_Packets    0.012894\n",
      "Subflow_Fwd_Bytes              0.012894\n",
      "Total_Fwd_Packets             -0.004159\n",
      "Subflow_Fwd_Packets           -0.004159\n",
      "Name: label, dtype: float64\n"
     ]
    }
   ],
   "source": [
    "print(data_corr_label)"
   ]
  },
  {
   "cell_type": "markdown",
   "id": "d4eab10c-8766-43da-95fa-5484a47623fc",
   "metadata": {},
   "source": [
    "# Embedded Method"
   ]
  },
  {
   "cell_type": "markdown",
   "id": "398ca096-f556-4331-9b0e-6d8a46f9a159",
   "metadata": {},
   "source": [
    "**Definition**\n",
    "Embedded methods complete the feature selection process within the construction of the machine learning algorithm itself. In other words, they perform feature selection during the model training, which is why we call them embedded methods.\n",
    "\n",
    "A learning algorithm takes advantage of its own variable selection process and performs feature selection and classification/regression at the same time.\n",
    "\n",
    "**Advantages**\n",
    "The embedded method solves both issues we encountered with the filter and wrapper methods by combining their advantages. Here’s how:\n",
    "- They take into consideration the interaction of features like wrapper methods do.\n",
    "- They are faster like filter methods.\n",
    "- They are more accurate than filter methods.\n",
    "- They find the feature subset for the algorithm being trained.\n",
    "- They are much less prone to overfitting."
   ]
  },
  {
   "cell_type": "markdown",
   "id": "1d1c722e-b229-43bd-b01e-a57b8a1edd5e",
   "metadata": {
    "tags": []
   },
   "source": [
    "### Tree-based feature importance"
   ]
  },
  {
   "cell_type": "markdown",
   "id": "b6ae3c79-6b43-4c23-ac56-057540ca1a9e",
   "metadata": {},
   "source": [
    "Tree-based algorithms and models (i.e. random forest) are well-established algorithms that not only offer good predictive performance but can also provide us with what we call feature importance as a way to select features.\n",
    "\n",
    "**Feature importance**\n",
    "\n",
    "Feature importance tells us which variables are more important in making accurate predictions on the target variable/class. In other words, it identifies which features are the most used by the machine learning algorithm in order to predict the target."
   ]
  },
  {
   "cell_type": "markdown",
   "id": "740ef1aa-6125-4b98-b683-1f7a45d12b6e",
   "metadata": {},
   "source": [
    "#### Extra Tree Classifier "
   ]
  },
  {
   "cell_type": "code",
   "execution_count": 27,
   "id": "7c82ca65-ad53-4e1d-aee8-9e0c08d1d861",
   "metadata": {},
   "outputs": [
    {
     "data": {
      "image/png": "[encoded data removed]",
      "text/plain": [
       "<Figure size 864x576 with 1 Axes>"
      ]
     },
     "metadata": {},
     "output_type": "display_data"
    }
   ],
   "source": [
    "from sklearn.ensemble import ExtraTreesClassifier\n",
    "model = ExtraTreesClassifier()\n",
    "model.fit(X,y)\n",
    "#print(model.feature_importances_) #use inbuilt class feature_importances of tree based classifiers\n",
    "#plot graph of feature importances for better visualization\n",
    "feat_importances = pd.Series(model.feature_importances_, index=X.columns)\n",
    "feat_importances.nlargest(20).plot(kind='barh')\n",
    "plt.show()"
   ]
  },
  {
   "cell_type": "markdown",
   "id": "bd2191e8-115b-44b8-9972-178d07cfbb5c",
   "metadata": {},
   "source": [
    "#### RandomForest Classifier"
   ]
  },
  {
   "cell_type": "code",
   "execution_count": 28,
   "id": "7cfa2908-a6fa-491f-b5b7-934d1cf74e27",
   "metadata": {},
   "outputs": [
    {
     "data": {
      "image/png": "[encoded data removed]",
      "text/plain": [
       "<Figure size 864x576 with 1 Axes>"
      ]
     },
     "metadata": {},
     "output_type": "display_data"
    }
   ],
   "source": [
    "from sklearn.ensemble import RandomForestClassifier\n",
    "model = RandomForestClassifier()\n",
    "model.fit(X,y)\n",
    "#print(model.feature_importances_) #use inbuilt class feature_importances of tree based classifiers\n",
    "#plot graph of feature importances for better visualization\n",
    "feat_importances = pd.Series(model.feature_importances_, index=X.columns)\n",
    "feat_importances.nlargest(20).plot(kind='barh')\n",
    "plt.show()"
   ]
  },
  {
   "cell_type": "markdown",
   "id": "f9b4e9a6-0dfd-4b65-986e-5f108c52ad5d",
   "metadata": {},
   "source": [
    "### Feature Selection via SelectFromModel"
   ]
  },
  {
   "cell_type": "code",
   "execution_count": 29,
   "id": "5195d27e-3963-43b7-ab20-326d45fbb19d",
   "metadata": {},
   "outputs": [],
   "source": [
    "from sklearn.linear_model import Lasso, LogisticRegression"
   ]
  },
  {
   "cell_type": "code",
   "execution_count": 30,
   "id": "2cd7db58-3cfa-4f2c-bf98-199cbaa73f3b",
   "metadata": {},
   "outputs": [
    {
     "data": {
      "text/plain": [
       "Index(['Source_IP', 'Destination_IP', 'Destination_Port', 'Protocol',\n",
       "       'Total_Backward_Packets', 'Total_Length_of_Fwd_Packets',\n",
       "       'Fwd_Packet_Length_Max', 'Fwd_Packet_Length_Min',\n",
       "       'Fwd_Packet_Length_Mean', 'Bwd_Header_Length', 'Bwd_Packets_s',\n",
       "       'Min_Packet_Length', 'Packet_Length_Mean', 'ACK_Flag_Count',\n",
       "       'URG_Flag_Count', 'Average_Packet_Size', 'Avg_Fwd_Segment_Size',\n",
       "       'Subflow_Fwd_Bytes', 'Subflow_Bwd_Packets', 'Init_Win_bytes_forward',\n",
       "       'Inbound'],\n",
       "      dtype='object')"
      ]
     },
     "execution_count": 30,
     "metadata": {},
     "output_type": "execute_result"
    }
   ],
   "source": [
    "sfm_selector = SelectFromModel(estimator = RandomForestClassifier())\n",
    "sfm_selector.fit(X, y)\n",
    "X.columns[sfm_selector.get_support()]"
   ]
  },
  {
   "cell_type": "code",
   "execution_count": 31,
   "id": "ca9b79d8-6994-4df4-ad7d-b8adf0372c87",
   "metadata": {},
   "outputs": [
    {
     "data": {
      "text/plain": [
       "Index(['Flow_Duration', 'Flow_Packets_s', 'Flow_IAT_Mean', 'Flow_IAT_Std',\n",
       "       'Flow_IAT_Max', 'Fwd_IAT_Mean', 'Fwd_IAT_Std', 'Fwd_IAT_Max',\n",
       "       'Bwd_IAT_Total', 'Bwd_IAT_Mean', 'Bwd_IAT_Std', 'Bwd_IAT_Max',\n",
       "       'Bwd_Header_Length', 'Fwd_Packets_s', 'Active_Mean', 'Active_Max',\n",
       "       'Active_Min', 'Idle_Mean', 'Idle_Max', 'Idle_Min'],\n",
       "      dtype='object')"
      ]
     },
     "execution_count": 31,
     "metadata": {},
     "output_type": "execute_result"
    }
   ],
   "source": [
    "sfm_selector = SelectFromModel(estimator = LogisticRegression(C=1, penalty='l2'))\n",
    "sfm_selector.fit(X, y)\n",
    "X.columns[sfm_selector.get_support()]"
   ]
  },
  {
   "cell_type": "markdown",
   "id": "3a012bda-e109-4ab1-b4d3-951ca408c5ab",
   "metadata": {},
   "source": [
    "# Wrapper Methods"
   ]
  },
  {
   "cell_type": "markdown",
   "id": "98b3cb34-57b1-4f15-b1f0-b6f3bf71d4a5",
   "metadata": {},
   "source": [
    "**Definition**\n",
    "\n",
    "Wrapper methods work by evaluating a subset of features using a machine learning algorithm that employs a search strategy to look through the space of possible feature subsets, evaluating each subset based on the quality of the performance of a given algorithm.\n",
    "\n",
    "These methods are called greedy algorithms because they aim to find the best possible combination of features that result in the best performant model— which will be computationally expensive, and often impractical in the case of exhaustive search.\n",
    "\n",
    "Practically any combination of a search strategy and a machine learning algorithm can be used as a wrapper.\n",
    "\n",
    "**Advantages**\n",
    "\n",
    "Given the issues we encountered using filter methods, wrapper methods present two main advantages that deal with those issues:\n",
    "\n",
    "- They detect the interaction between variables\n",
    "- They find the optimal feature subset for the desired machine learning algorithm\n",
    "\n",
    "The wrapper methods usually result in better predictive accuracy than filter methods."
   ]
  },
  {
   "cell_type": "markdown",
   "id": "33698c5c-bd3d-4161-81fa-3b0d24470ec0",
   "metadata": {},
   "source": [
    "## Recursive Feature Elimination"
   ]
  },
  {
   "cell_type": "code",
   "execution_count": 33,
   "id": "109a2f06-4425-4962-95d0-e6557f7a1f8b",
   "metadata": {},
   "outputs": [
    {
     "data": {
      "text/plain": [
       "RFE(estimator=RandomForestClassifier(), n_features_to_select=20)"
      ]
     },
     "execution_count": 33,
     "metadata": {},
     "output_type": "execute_result"
    }
   ],
   "source": [
    "rfe_selector = RFE(estimator=RandomForestClassifier(),n_features_to_select = 20, step = 1)\n",
    "rfe_selector.fit(X,y)"
   ]
  },
  {
   "cell_type": "code",
   "execution_count": null,
   "id": "11eb48e8-e425-46f2-b945-189032729641",
   "metadata": {},
   "outputs": [],
   "source": [
    "print(X.loc[:,rfe_selector.support_].columns.to_numpy())"
   ]
  },
  {
   "cell_type": "markdown",
   "id": "c24e10ee-482f-4b8d-92c7-c77ab8fd76ce",
   "metadata": {},
   "source": [
    "## Sequential Feature Selection (SFS)"
   ]
  },
  {
   "cell_type": "markdown",
   "id": "2a794c73-f5f1-4950-bc46-0565c445969b",
   "metadata": {},
   "source": [
    "Source: https://heartbeat.comet.ml/hands-on-with-feature-selection-techniques-an-introduction-1d8dc6d86c16 "
   ]
  },
  {
   "cell_type": "markdown",
   "id": "4302df09-840a-46e3-a2b8-a32e3c8f1357",
   "metadata": {},
   "source": [
    "# Hybrid methods"
   ]
  },
  {
   "cell_type": "markdown",
   "id": "6ff082a6-72fb-4466-a6ba-edcc5d044500",
   "metadata": {},
   "source": [
    "## Filter + Embedded"
   ]
  },
  {
   "cell_type": "code",
   "execution_count": null,
   "id": "c1771c5a-b663-4832-80d6-9daf606d4bae",
   "metadata": {},
   "outputs": [],
   "source": [
    "from sklearn.feature_selection import SelectKBest, chi2, f_classif, mutual_info_classif, RFE, SelectFromModel\n",
    "from sklearn.ensemble import RandomForestClassifier"
   ]
  },
  {
   "cell_type": "code",
   "execution_count": null,
   "id": "39b997c8-656f-402e-852b-ba42cfb877cb",
   "metadata": {},
   "outputs": [],
   "source": [
    "#Select top 2 features based on f_classif\n",
    "selector = SelectKBest(f_classif, k = 25).fit(X, y)\n",
    "dfscores = pd.DataFrame(selector.scores_)\n",
    "dfcolumns = pd.DataFrame(X.columns)\n",
    "\n",
    "featureScores = pd.concat([dfcolumns,dfscores],axis=1)\n",
    "featureScores.columns = ['Specs','Score']\n",
    "preselect_feature = featureScores.nlargest(25,'Score')['Specs'].to_list()"
   ]
  },
  {
   "cell_type": "code",
   "execution_count": null,
   "id": "26bcc7df-9f23-4c85-8e4c-ac5a6b6f2cb6",
   "metadata": {},
   "outputs": [],
   "source": [
    "plt.figure(figsize=(12,8))\n",
    "from sklearn.ensemble import ExtraTreesClassifier\n",
    "model = ExtraTreesClassifier()\n",
    "model.fit(X[preselect_feature],y)\n",
    "#print(model.feature_importances_) #use inbuilt class feature_importances of tree based classifiers\n",
    "#plot graph of feature importances for better visualization\n",
    "feat_importances = pd.Series(model.feature_importances_, index=X[preselect_feature].columns)\n",
    "feat_importances.nlargest(20).plot(kind='barh')\n",
    "plt.show()"
   ]
  },
  {
   "cell_type": "code",
   "execution_count": null,
   "id": "1cd85b09-6798-48f8-9eaa-ed0ebb6bb492",
   "metadata": {},
   "outputs": [],
   "source": [
    "print(feat_importances.nlargest(20).index.to_list())"
   ]
  },
  {
   "cell_type": "code",
   "execution_count": null,
   "id": "34a09f8d-77ce-465b-b4a0-e3329576401a",
   "metadata": {},
   "outputs": [],
   "source": [
    "#Select top 2 features based on mutual_info\n",
    "selector = SelectKBest(f_classif, k = 25).fit(X, y)\n",
    "dfscores = pd.DataFrame(selector.scores_)\n",
    "dfcolumns = pd.DataFrame(X.columns)\n",
    "\n",
    "featureScores = pd.concat([dfcolumns,dfscores],axis=1)\n",
    "featureScores.columns = ['Specs','Score']\n",
    "preselect_feature = featureScores.nlargest(25,'Score')['Specs'].to_list()"
   ]
  },
  {
   "cell_type": "code",
   "execution_count": null,
   "id": "d1aa34f1-e90f-40e7-a1de-cf13cf44103f",
   "metadata": {},
   "outputs": [],
   "source": [
    "plt.figure(figsize=(12,8))\n",
    "from sklearn.ensemble import ExtraTreesClassifier\n",
    "model = ExtraTreesClassifier()\n",
    "model.fit(X[preselect_feature],y)\n",
    "#print(model.feature_importances_) #use inbuilt class feature_importances of tree based classifiers\n",
    "#plot graph of feature importances for better visualization\n",
    "feat_importances = pd.Series(model.feature_importances_, index=X[preselect_feature].columns)\n",
    "feat_importances.nlargest(20).plot(kind='barh')\n",
    "plt.show()"
   ]
  },
  {
   "cell_type": "code",
   "execution_count": null,
   "id": "1643b4f9-c859-4932-b7d0-0aa881623672",
   "metadata": {},
   "outputs": [],
   "source": [
    "print(feat_importances.nlargest(20).index.to_list())"
   ]
  },
  {
   "cell_type": "markdown",
   "id": "1d5cdf95-68f7-486d-bf18-c1b2d0bf142e",
   "metadata": {},
   "source": [
    "## Filter + Wrapper "
   ]
  },
  {
   "cell_type": "code",
   "execution_count": null,
   "id": "c3ac7f34-4bf4-4044-ab60-d3f62230084d",
   "metadata": {},
   "outputs": [],
   "source": [
    "#Select top 2 features based on f_classif\n",
    "selector = SelectKBest(f_classif, k = 25).fit(X, y)\n",
    "dfscores = pd.DataFrame(selector.scores_)\n",
    "dfcolumns = pd.DataFrame(X.columns)\n",
    "\n",
    "featureScores = pd.concat([dfcolumns,dfscores],axis=1)\n",
    "featureScores.columns = ['Specs','Score']\n",
    "preselect_feature = featureScores.nlargest(25,'Score')['Specs'].to_list()"
   ]
  },
  {
   "cell_type": "code",
   "execution_count": null,
   "id": "26b89936-5b91-44ba-90d5-fc46fe248f7a",
   "metadata": {},
   "outputs": [],
   "source": [
    "rfe_selector = RFE(estimator=RandomForestClassifier(),n_features_to_select = 20, step = 1)\n",
    "rfe_selector.fit(X[preselect_feature],y)\n",
    "print(X[preselect_feature].loc[:,rfe_selector.support_].columns.to_list())"
   ]
  },
  {
   "cell_type": "code",
   "execution_count": null,
   "id": "30cf1fb8-68d5-4caf-b678-4befe1737304",
   "metadata": {},
   "outputs": [],
   "source": [
    "#Select top 2 features based on mutual_info\n",
    "selector = SelectKBest(f_classif, k = 25).fit(X, y)\n",
    "dfscores = pd.DataFrame(selector.scores_)\n",
    "dfcolumns = pd.DataFrame(X.columns)\n",
    "\n",
    "featureScores = pd.concat([dfcolumns,dfscores],axis=1)\n",
    "featureScores.columns = ['Specs','Score']\n",
    "preselect_feature = featureScores.nlargest(25,'Score')['Specs'].to_list()"
   ]
  },
  {
   "cell_type": "code",
   "execution_count": null,
   "id": "e7e7f4e2-a4f9-473b-b373-4623d2f18465",
   "metadata": {},
   "outputs": [],
   "source": [
    "rfe_selector = RFE(estimator=RandomForestClassifier(),n_features_to_select = 20, step = 1)\n",
    "rfe_selector.fit(X[preselect_feature],y)\n",
    "print(X[preselect_feature].loc[:,rfe_selector.support_].columns.to_list())"
   ]
  },
  {
   "cell_type": "markdown",
   "id": "e81bb20e-cb65-4064-95dd-94e64b5c6235",
   "metadata": {},
   "source": [
    "## Embedded + Wrapper"
   ]
  },
  {
   "cell_type": "code",
   "execution_count": null,
   "id": "f0db4fac-e64f-4f52-8b50-9c01729be772",
   "metadata": {},
   "outputs": [],
   "source": [
    "plt.figure(figsize=(12,8))\n",
    "from sklearn.ensemble import ExtraTreesClassifier\n",
    "model = ExtraTreesClassifier()\n",
    "model.fit(X,y)\n",
    "feat_importances = pd.Series(model.feature_importances_, index=X.columns)\n",
    "feat_importances.nlargest(25).plot(kind='barh')\n",
    "plt.show()"
   ]
  },
  {
   "cell_type": "code",
   "execution_count": null,
   "id": "57388a0b-c47d-4dc0-836d-769daad48247",
   "metadata": {},
   "outputs": [],
   "source": [
    "feature_preselect = feat_importances.nlargest(25).index.to_list()"
   ]
  },
  {
   "cell_type": "code",
   "execution_count": null,
   "id": "66bf756c-40bd-47bf-9f06-23995f277aae",
   "metadata": {},
   "outputs": [],
   "source": [
    "from sklearn.tree import DecisionTreeClassifier\n",
    "rfe_selector = RFE(estimator=DecisionTreeClassifier(),n_features_to_select = 20, step = 1)\n",
    "rfe_selector.fit(X[feature_preselect],y)\n",
    "print(X[feature_preselect].loc[:,rfe_selector.support_].columns.to_list())"
   ]
  },
  {
   "cell_type": "markdown",
   "id": "188943d8-80c6-4dd2-95bb-2aeec26cc9f8",
   "metadata": {},
   "source": [
    "# SHAP"
   ]
  },
  {
   "cell_type": "code",
   "execution_count": null,
   "id": "d23ede12-0dd9-44d8-a7a4-c2d559814098",
   "metadata": {},
   "outputs": [],
   "source": [
    "import shap\n",
    "import xgboost as xgb\n",
    "import lightgbm"
   ]
  },
  {
   "cell_type": "code",
   "execution_count": null,
   "id": "19a53e48-d31b-40e7-9726-da7e11c75412",
   "metadata": {},
   "outputs": [],
   "source": [
    "X_train, X_test, y_train, y_test = train_test_split(X, y, test_size = 0.3, random_state = 42)   "
   ]
  },
  {
   "cell_type": "code",
   "execution_count": null,
   "id": "1e19f383-439d-4835-a438-12d7132c4f09",
   "metadata": {},
   "outputs": [],
   "source": [
    "xgb_model = xgb.train({'objective':'binary:logitraw'}, xgb.DMatrix(X_train, label=y_train))\n",
    "#xgb_model = xgb.train({'objective':'binary:logistic'}, xgb.DMatrix(X_train, label=y_train))"
   ]
  },
  {
   "cell_type": "code",
   "execution_count": null,
   "id": "74791489-d1ee-4ca9-aa9c-3599fb3860e5",
   "metadata": {},
   "outputs": [],
   "source": [
    "# Tree on XGBoost\n",
    "explainerXGB = shap.TreeExplainer(xgb_model)\n",
    "shap_values_XGB_test = explainerXGB.shap_values(X_test)\n",
    "shap_values_XGB_train = explainerXGB.shap_values(X_train)"
   ]
  },
  {
   "cell_type": "code",
   "execution_count": null,
   "id": "34f10810-db20-44c6-93e9-5b99396549c6",
   "metadata": {},
   "outputs": [],
   "source": [
    "# XGBoost\n",
    "df_shap_XGB_test = pd.DataFrame(shap_values_XGB_test, columns=X_test.columns.values)\n",
    "df_shap_XGB_train = pd.DataFrame(shap_values_XGB_train, columns=X_train.columns.values)"
   ]
  },
  {
   "cell_type": "code",
   "execution_count": null,
   "id": "41710d22-3c26-45af-a840-22600829f449",
   "metadata": {},
   "outputs": [],
   "source": [
    "# j will be the record we explain\n",
    "j = 0\n",
    "# initialize js for SHAP\n",
    "shap.initjs()"
   ]
  },
  {
   "cell_type": "code",
   "execution_count": null,
   "id": "93964ee6-c4e4-490f-b81d-a2c0e0150b49",
   "metadata": {},
   "outputs": [],
   "source": [
    "shap.force_plot(explainerXGB.expected_value, shap_values_XGB_test[j], X_test.iloc[[j]])"
   ]
  },
  {
   "cell_type": "code",
   "execution_count": null,
   "id": "1f174885-97e2-4e60-932d-5249ffe86173",
   "metadata": {},
   "outputs": [],
   "source": [
    "shap.summary_plot(shap_values_XGB_train, X_train, plot_type=\"bar\")"
   ]
  },
  {
   "cell_type": "code",
   "execution_count": null,
   "id": "2488a895-6c88-4703-8eb1-61fe292fdd4a",
   "metadata": {},
   "outputs": [],
   "source": [
    "shap.summary_plot(shap_values_XGB_train, X_train)"
   ]
  }
 ],
 "metadata": {
  "kernelspec": {
   "display_name": "prim_ml",
   "language": "python",
   "name": "prim_ml"
  },
  "language_info": {
   "codemirror_mode": {
    "name": "ipython",
    "version": 3
   },
   "file_extension": ".py",
   "mimetype": "text/x-python",
   "name": "python",
   "nbconvert_exporter": "python",
   "pygments_lexer": "ipython3",
   "version": "3.8.10"
  },
  "toc-autonumbering": true
 },
 "nbformat": 4,
 "nbformat_minor": 5
}
