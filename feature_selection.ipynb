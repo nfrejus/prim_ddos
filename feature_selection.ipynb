{
 "cells": [
  {
   "cell_type": "code",
   "execution_count": 8,
   "id": "5face035-3bd8-4d5f-ab21-b123299aa69f",
   "metadata": {},
   "outputs": [],
   "source": [
    "import numpy as np\n",
    "import pandas as pd\n",
    "import seaborn as sns\n",
    "import matplotlib.pyplot as plt\n",
    "from sklearn.utils import shuffle\n",
    "from sklearn.metrics import confusion_matrix, accuracy_score,  classification_report\n",
    "from sklearn.model_selection import train_test_split \n",
    "from sklearn import preprocessing\n",
    "import ipaddress"
   ]
  },
  {
   "cell_type": "code",
   "execution_count": 2,
   "id": "d736ca38-40fe-4cb8-8f00-bed5642bb61f",
   "metadata": {},
   "outputs": [],
   "source": [
    "DATADIR = '/home/infres/abiapo/prim/data'"
   ]
  },
  {
   "cell_type": "code",
   "execution_count": 4,
   "id": "b1e4a656-0b0b-424e-89a3-bb335c05638c",
   "metadata": {},
   "outputs": [
    {
     "data": {
      "text/html": [
       "<div>\n",
       "<style scoped>\n",
       "    .dataframe tbody tr th:only-of-type {\n",
       "        vertical-align: middle;\n",
       "    }\n",
       "\n",
       "    .dataframe tbody tr th {\n",
       "        vertical-align: top;\n",
       "    }\n",
       "\n",
       "    .dataframe thead th {\n",
       "        text-align: right;\n",
       "    }\n",
       "</style>\n",
       "<table border=\"1\" class=\"dataframe\">\n",
       "  <thead>\n",
       "    <tr style=\"text-align: right;\">\n",
       "      <th></th>\n",
       "      <th>Unnamed:_0</th>\n",
       "      <th>Flow_ID</th>\n",
       "      <th>Source_IP</th>\n",
       "      <th>Source_Port</th>\n",
       "      <th>Destination_IP</th>\n",
       "      <th>Destination_Port</th>\n",
       "      <th>Protocol</th>\n",
       "      <th>Timestamp</th>\n",
       "      <th>Flow_Duration</th>\n",
       "      <th>Total_Fwd_Packets</th>\n",
       "      <th>...</th>\n",
       "      <th>Active_Max</th>\n",
       "      <th>Active_Min</th>\n",
       "      <th>Idle_Mean</th>\n",
       "      <th>Idle_Std</th>\n",
       "      <th>Idle_Max</th>\n",
       "      <th>Idle_Min</th>\n",
       "      <th>SimillarHTTP</th>\n",
       "      <th>Inbound</th>\n",
       "      <th>Label</th>\n",
       "      <th>label</th>\n",
       "    </tr>\n",
       "  </thead>\n",
       "  <tbody>\n",
       "    <tr>\n",
       "      <th>0</th>\n",
       "      <td>112140</td>\n",
       "      <td>172.16.0.5-192.168.50.1-44231-8387-17</td>\n",
       "      <td>172.16.0.5</td>\n",
       "      <td>44231</td>\n",
       "      <td>192.168.50.1</td>\n",
       "      <td>8387</td>\n",
       "      <td>17</td>\n",
       "      <td>2018-12-01 13:45:46.994571</td>\n",
       "      <td>0</td>\n",
       "      <td>2</td>\n",
       "      <td>...</td>\n",
       "      <td>0.0</td>\n",
       "      <td>0.0</td>\n",
       "      <td>0.0</td>\n",
       "      <td>0.0</td>\n",
       "      <td>0.0</td>\n",
       "      <td>0.0</td>\n",
       "      <td>0</td>\n",
       "      <td>1</td>\n",
       "      <td>TFTP</td>\n",
       "      <td>1</td>\n",
       "    </tr>\n",
       "    <tr>\n",
       "      <th>1</th>\n",
       "      <td>25309</td>\n",
       "      <td>172.16.0.5-192.168.50.1-891-63192-17</td>\n",
       "      <td>172.16.0.5</td>\n",
       "      <td>891</td>\n",
       "      <td>192.168.50.1</td>\n",
       "      <td>63192</td>\n",
       "      <td>17</td>\n",
       "      <td>2018-12-01 12:14:48.493601</td>\n",
       "      <td>2</td>\n",
       "      <td>2</td>\n",
       "      <td>...</td>\n",
       "      <td>0.0</td>\n",
       "      <td>0.0</td>\n",
       "      <td>0.0</td>\n",
       "      <td>0.0</td>\n",
       "      <td>0.0</td>\n",
       "      <td>0.0</td>\n",
       "      <td>0</td>\n",
       "      <td>1</td>\n",
       "      <td>DrDoS_SNMP</td>\n",
       "      <td>1</td>\n",
       "    </tr>\n",
       "    <tr>\n",
       "      <th>2</th>\n",
       "      <td>3538</td>\n",
       "      <td>172.16.0.5-192.168.50.1-649-33920-17</td>\n",
       "      <td>172.16.0.5</td>\n",
       "      <td>649</td>\n",
       "      <td>192.168.50.1</td>\n",
       "      <td>33920</td>\n",
       "      <td>17</td>\n",
       "      <td>2018-12-01 10:36:57.214865</td>\n",
       "      <td>1620</td>\n",
       "      <td>126</td>\n",
       "      <td>...</td>\n",
       "      <td>0.0</td>\n",
       "      <td>0.0</td>\n",
       "      <td>0.0</td>\n",
       "      <td>0.0</td>\n",
       "      <td>0.0</td>\n",
       "      <td>0.0</td>\n",
       "      <td>0</td>\n",
       "      <td>1</td>\n",
       "      <td>DrDoS_NTP</td>\n",
       "      <td>1</td>\n",
       "    </tr>\n",
       "    <tr>\n",
       "      <th>3</th>\n",
       "      <td>11531</td>\n",
       "      <td>192.168.10.50-192.168.50.6-22-56370-6</td>\n",
       "      <td>192.168.50.6</td>\n",
       "      <td>56370</td>\n",
       "      <td>192.168.10.50</td>\n",
       "      <td>22</td>\n",
       "      <td>6</td>\n",
       "      <td>2018-11-03 12:46:39.696861</td>\n",
       "      <td>8996366</td>\n",
       "      <td>6</td>\n",
       "      <td>...</td>\n",
       "      <td>2995940.0</td>\n",
       "      <td>2995940.0</td>\n",
       "      <td>6000423.0</td>\n",
       "      <td>0.0</td>\n",
       "      <td>6000423.0</td>\n",
       "      <td>6000423.0</td>\n",
       "      <td>0</td>\n",
       "      <td>1</td>\n",
       "      <td>BENIGN</td>\n",
       "      <td>0</td>\n",
       "    </tr>\n",
       "    <tr>\n",
       "      <th>4</th>\n",
       "      <td>1489</td>\n",
       "      <td>192.168.50.6-4.2.2.4-58840-53-17</td>\n",
       "      <td>192.168.50.6</td>\n",
       "      <td>58840</td>\n",
       "      <td>4.2.2.4</td>\n",
       "      <td>53</td>\n",
       "      <td>17</td>\n",
       "      <td>2018-12-01 10:59:03.241570</td>\n",
       "      <td>20681</td>\n",
       "      <td>2</td>\n",
       "      <td>...</td>\n",
       "      <td>0.0</td>\n",
       "      <td>0.0</td>\n",
       "      <td>0.0</td>\n",
       "      <td>0.0</td>\n",
       "      <td>0.0</td>\n",
       "      <td>0.0</td>\n",
       "      <td>0</td>\n",
       "      <td>0</td>\n",
       "      <td>BENIGN</td>\n",
       "      <td>0</td>\n",
       "    </tr>\n",
       "  </tbody>\n",
       "</table>\n",
       "<p>5 rows × 89 columns</p>\n",
       "</div>"
      ],
      "text/plain": [
       "   Unnamed:_0                                Flow_ID     Source_IP  \\\n",
       "0      112140  172.16.0.5-192.168.50.1-44231-8387-17    172.16.0.5   \n",
       "1       25309   172.16.0.5-192.168.50.1-891-63192-17    172.16.0.5   \n",
       "2        3538   172.16.0.5-192.168.50.1-649-33920-17    172.16.0.5   \n",
       "3       11531  192.168.10.50-192.168.50.6-22-56370-6  192.168.50.6   \n",
       "4        1489       192.168.50.6-4.2.2.4-58840-53-17  192.168.50.6   \n",
       "\n",
       "   Source_Port Destination_IP  Destination_Port  Protocol  \\\n",
       "0        44231   192.168.50.1              8387        17   \n",
       "1          891   192.168.50.1             63192        17   \n",
       "2          649   192.168.50.1             33920        17   \n",
       "3        56370  192.168.10.50                22         6   \n",
       "4        58840        4.2.2.4                53        17   \n",
       "\n",
       "                    Timestamp  Flow_Duration  Total_Fwd_Packets  ...  \\\n",
       "0  2018-12-01 13:45:46.994571              0                  2  ...   \n",
       "1  2018-12-01 12:14:48.493601              2                  2  ...   \n",
       "2  2018-12-01 10:36:57.214865           1620                126  ...   \n",
       "3  2018-11-03 12:46:39.696861        8996366                  6  ...   \n",
       "4  2018-12-01 10:59:03.241570          20681                  2  ...   \n",
       "\n",
       "   Active_Max  Active_Min  Idle_Mean  Idle_Std   Idle_Max   Idle_Min  \\\n",
       "0         0.0         0.0        0.0       0.0        0.0        0.0   \n",
       "1         0.0         0.0        0.0       0.0        0.0        0.0   \n",
       "2         0.0         0.0        0.0       0.0        0.0        0.0   \n",
       "3   2995940.0   2995940.0  6000423.0       0.0  6000423.0  6000423.0   \n",
       "4         0.0         0.0        0.0       0.0        0.0        0.0   \n",
       "\n",
       "   SimillarHTTP  Inbound       Label  label  \n",
       "0             0        1        TFTP      1  \n",
       "1             0        1  DrDoS_SNMP      1  \n",
       "2             0        1   DrDoS_NTP      1  \n",
       "3             0        1      BENIGN      0  \n",
       "4             0        0      BENIGN      0  \n",
       "\n",
       "[5 rows x 89 columns]"
      ]
     },
     "execution_count": 4,
     "metadata": {},
     "output_type": "execute_result"
    }
   ],
   "source": [
    "data = pd.read_csv(DATADIR+'/balance_mix_data.csv')\n",
    "data.head()"
   ]
  },
  {
   "cell_type": "code",
   "execution_count": 5,
   "id": "63dad6e2-c27a-4ed5-8742-097cb7b76c6d",
   "metadata": {},
   "outputs": [],
   "source": [
    "data = data.drop(['Unnamed:_0'],axis=1)"
   ]
  },
  {
   "cell_type": "code",
   "execution_count": 12,
   "id": "9ebcdfeb-a538-4ee0-ac84-89d1fe37d1f4",
   "metadata": {},
   "outputs": [],
   "source": [
    "data['Source_IP'] = data['Source_IP'].apply(lambda ip: int(ipaddress.ip_address(ip)))\n",
    "data['Destination_IP'] = data['Destination_IP'].apply(lambda ip: int(ipaddress.ip_address(ip)))"
   ]
  },
  {
   "cell_type": "code",
   "execution_count": 11,
   "id": "50b34521-2019-4395-8cfa-d1f83721649d",
   "metadata": {},
   "outputs": [
    {
     "data": {
      "text/plain": [
       "168430090"
      ]
     },
     "execution_count": 11,
     "metadata": {},
     "output_type": "execute_result"
    }
   ],
   "source": [
    "int(ipaddress.ip_address('10.10.10.10'))"
   ]
  },
  {
   "cell_type": "code",
   "execution_count": 22,
   "id": "22fd5a01-871a-40aa-8454-2d7fa7c7092a",
   "metadata": {},
   "outputs": [
    {
     "data": {
      "text/html": [
       "<div>\n",
       "<style scoped>\n",
       "    .dataframe tbody tr th:only-of-type {\n",
       "        vertical-align: middle;\n",
       "    }\n",
       "\n",
       "    .dataframe tbody tr th {\n",
       "        vertical-align: top;\n",
       "    }\n",
       "\n",
       "    .dataframe thead th {\n",
       "        text-align: right;\n",
       "    }\n",
       "</style>\n",
       "<table border=\"1\" class=\"dataframe\">\n",
       "  <thead>\n",
       "    <tr style=\"text-align: right;\">\n",
       "      <th></th>\n",
       "      <th>Source_IP</th>\n",
       "      <th>Source_Port</th>\n",
       "      <th>Destination_IP</th>\n",
       "      <th>Destination_Port</th>\n",
       "      <th>Protocol</th>\n",
       "      <th>Timestamp</th>\n",
       "      <th>Flow_Duration</th>\n",
       "      <th>Total_Fwd_Packets</th>\n",
       "      <th>Total_Backward_Packets</th>\n",
       "      <th>Total_Length_of_Fwd_Packets</th>\n",
       "      <th>...</th>\n",
       "      <th>Active_Max</th>\n",
       "      <th>Active_Min</th>\n",
       "      <th>Idle_Mean</th>\n",
       "      <th>Idle_Std</th>\n",
       "      <th>Idle_Max</th>\n",
       "      <th>Idle_Min</th>\n",
       "      <th>SimillarHTTP</th>\n",
       "      <th>Inbound</th>\n",
       "      <th>Label</th>\n",
       "      <th>label</th>\n",
       "    </tr>\n",
       "  </thead>\n",
       "  <tbody>\n",
       "    <tr>\n",
       "      <th>0</th>\n",
       "      <td>2886729733</td>\n",
       "      <td>44231</td>\n",
       "      <td>3232248321</td>\n",
       "      <td>8387</td>\n",
       "      <td>17</td>\n",
       "      <td>2018-12-01 13:45:46.994571</td>\n",
       "      <td>0</td>\n",
       "      <td>2</td>\n",
       "      <td>0</td>\n",
       "      <td>1032.0</td>\n",
       "      <td>...</td>\n",
       "      <td>0.0</td>\n",
       "      <td>0.0</td>\n",
       "      <td>0.0</td>\n",
       "      <td>0.0</td>\n",
       "      <td>0.0</td>\n",
       "      <td>0.0</td>\n",
       "      <td>0</td>\n",
       "      <td>1</td>\n",
       "      <td>TFTP</td>\n",
       "      <td>1</td>\n",
       "    </tr>\n",
       "    <tr>\n",
       "      <th>1</th>\n",
       "      <td>2886729733</td>\n",
       "      <td>891</td>\n",
       "      <td>3232248321</td>\n",
       "      <td>63192</td>\n",
       "      <td>17</td>\n",
       "      <td>2018-12-01 12:14:48.493601</td>\n",
       "      <td>2</td>\n",
       "      <td>2</td>\n",
       "      <td>0</td>\n",
       "      <td>2944.0</td>\n",
       "      <td>...</td>\n",
       "      <td>0.0</td>\n",
       "      <td>0.0</td>\n",
       "      <td>0.0</td>\n",
       "      <td>0.0</td>\n",
       "      <td>0.0</td>\n",
       "      <td>0.0</td>\n",
       "      <td>0</td>\n",
       "      <td>1</td>\n",
       "      <td>DrDoS_SNMP</td>\n",
       "      <td>1</td>\n",
       "    </tr>\n",
       "    <tr>\n",
       "      <th>2</th>\n",
       "      <td>2886729733</td>\n",
       "      <td>649</td>\n",
       "      <td>3232248321</td>\n",
       "      <td>33920</td>\n",
       "      <td>17</td>\n",
       "      <td>2018-12-01 10:36:57.214865</td>\n",
       "      <td>1620</td>\n",
       "      <td>126</td>\n",
       "      <td>0</td>\n",
       "      <td>55440.0</td>\n",
       "      <td>...</td>\n",
       "      <td>0.0</td>\n",
       "      <td>0.0</td>\n",
       "      <td>0.0</td>\n",
       "      <td>0.0</td>\n",
       "      <td>0.0</td>\n",
       "      <td>0.0</td>\n",
       "      <td>0</td>\n",
       "      <td>1</td>\n",
       "      <td>DrDoS_NTP</td>\n",
       "      <td>1</td>\n",
       "    </tr>\n",
       "    <tr>\n",
       "      <th>3</th>\n",
       "      <td>3232248326</td>\n",
       "      <td>56370</td>\n",
       "      <td>3232238130</td>\n",
       "      <td>22</td>\n",
       "      <td>6</td>\n",
       "      <td>2018-11-03 12:46:39.696861</td>\n",
       "      <td>8996366</td>\n",
       "      <td>6</td>\n",
       "      <td>0</td>\n",
       "      <td>0.0</td>\n",
       "      <td>...</td>\n",
       "      <td>2995940.0</td>\n",
       "      <td>2995940.0</td>\n",
       "      <td>6000423.0</td>\n",
       "      <td>0.0</td>\n",
       "      <td>6000423.0</td>\n",
       "      <td>6000423.0</td>\n",
       "      <td>0</td>\n",
       "      <td>1</td>\n",
       "      <td>BENIGN</td>\n",
       "      <td>0</td>\n",
       "    </tr>\n",
       "    <tr>\n",
       "      <th>4</th>\n",
       "      <td>3232248326</td>\n",
       "      <td>58840</td>\n",
       "      <td>67240452</td>\n",
       "      <td>53</td>\n",
       "      <td>17</td>\n",
       "      <td>2018-12-01 10:59:03.241570</td>\n",
       "      <td>20681</td>\n",
       "      <td>2</td>\n",
       "      <td>2</td>\n",
       "      <td>50.0</td>\n",
       "      <td>...</td>\n",
       "      <td>0.0</td>\n",
       "      <td>0.0</td>\n",
       "      <td>0.0</td>\n",
       "      <td>0.0</td>\n",
       "      <td>0.0</td>\n",
       "      <td>0.0</td>\n",
       "      <td>0</td>\n",
       "      <td>0</td>\n",
       "      <td>BENIGN</td>\n",
       "      <td>0</td>\n",
       "    </tr>\n",
       "  </tbody>\n",
       "</table>\n",
       "<p>5 rows × 87 columns</p>\n",
       "</div>"
      ],
      "text/plain": [
       "    Source_IP  Source_Port  Destination_IP  Destination_Port  Protocol  \\\n",
       "0  2886729733        44231      3232248321              8387        17   \n",
       "1  2886729733          891      3232248321             63192        17   \n",
       "2  2886729733          649      3232248321             33920        17   \n",
       "3  3232248326        56370      3232238130                22         6   \n",
       "4  3232248326        58840        67240452                53        17   \n",
       "\n",
       "                    Timestamp  Flow_Duration  Total_Fwd_Packets  \\\n",
       "0  2018-12-01 13:45:46.994571              0                  2   \n",
       "1  2018-12-01 12:14:48.493601              2                  2   \n",
       "2  2018-12-01 10:36:57.214865           1620                126   \n",
       "3  2018-11-03 12:46:39.696861        8996366                  6   \n",
       "4  2018-12-01 10:59:03.241570          20681                  2   \n",
       "\n",
       "   Total_Backward_Packets  Total_Length_of_Fwd_Packets  ...  Active_Max  \\\n",
       "0                       0                       1032.0  ...         0.0   \n",
       "1                       0                       2944.0  ...         0.0   \n",
       "2                       0                      55440.0  ...         0.0   \n",
       "3                       0                          0.0  ...   2995940.0   \n",
       "4                       2                         50.0  ...         0.0   \n",
       "\n",
       "   Active_Min  Idle_Mean  Idle_Std   Idle_Max   Idle_Min  SimillarHTTP  \\\n",
       "0         0.0        0.0       0.0        0.0        0.0             0   \n",
       "1         0.0        0.0       0.0        0.0        0.0             0   \n",
       "2         0.0        0.0       0.0        0.0        0.0             0   \n",
       "3   2995940.0  6000423.0       0.0  6000423.0  6000423.0             0   \n",
       "4         0.0        0.0       0.0        0.0        0.0             0   \n",
       "\n",
       "   Inbound       Label  label  \n",
       "0        1        TFTP      1  \n",
       "1        1  DrDoS_SNMP      1  \n",
       "2        1   DrDoS_NTP      1  \n",
       "3        1      BENIGN      0  \n",
       "4        0      BENIGN      0  \n",
       "\n",
       "[5 rows x 87 columns]"
      ]
     },
     "execution_count": 22,
     "metadata": {},
     "output_type": "execute_result"
    }
   ],
   "source": [
    "data.head()"
   ]
  },
  {
   "cell_type": "code",
   "execution_count": 92,
   "id": "8e03796e-b296-47e3-9ea3-36c29381b165",
   "metadata": {},
   "outputs": [
    {
     "data": {
      "text/plain": [
       "Index(['Source_IP', 'Source_Port', 'Destination_IP', 'Destination_Port',\n",
       "       'Protocol', 'Flow_Duration', 'Total_Fwd_Packets',\n",
       "       'Total_Backward_Packets', 'Total_Length_of_Fwd_Packets',\n",
       "       'Total_Length_of_Bwd_Packets', 'Fwd_Packet_Length_Max',\n",
       "       'Fwd_Packet_Length_Min', 'Fwd_Packet_Length_Mean',\n",
       "       'Fwd_Packet_Length_Std', 'Bwd_Packet_Length_Max',\n",
       "       'Bwd_Packet_Length_Min', 'Bwd_Packet_Length_Mean',\n",
       "       'Bwd_Packet_Length_Std', 'Flow_Bytes_s', 'Flow_Packets_s',\n",
       "       'Flow_IAT_Mean', 'Flow_IAT_Std', 'Flow_IAT_Max', 'Flow_IAT_Min',\n",
       "       'Fwd_IAT_Total', 'Fwd_IAT_Mean', 'Fwd_IAT_Std', 'Fwd_IAT_Max',\n",
       "       'Fwd_IAT_Min', 'Bwd_IAT_Total', 'Bwd_IAT_Mean', 'Bwd_IAT_Std',\n",
       "       'Bwd_IAT_Max', 'Bwd_IAT_Min', 'Fwd_PSH_Flags', 'Bwd_PSH_Flags',\n",
       "       'Fwd_URG_Flags', 'Bwd_URG_Flags', 'Fwd_Header_Length',\n",
       "       'Bwd_Header_Length', 'Fwd_Packets_s', 'Bwd_Packets_s',\n",
       "       'Min_Packet_Length', 'Max_Packet_Length', 'Packet_Length_Mean',\n",
       "       'Packet_Length_Std', 'Packet_Length_Variance', 'FIN_Flag_Count',\n",
       "       'SYN_Flag_Count', 'RST_Flag_Count', 'PSH_Flag_Count', 'ACK_Flag_Count',\n",
       "       'URG_Flag_Count', 'CWE_Flag_Count', 'ECE_Flag_Count', 'Down_Up_Ratio',\n",
       "       'Average_Packet_Size', 'Avg_Fwd_Segment_Size', 'Avg_Bwd_Segment_Size',\n",
       "       'Fwd_Header_Length.1', 'Fwd_Avg_Bytes_Bulk', 'Fwd_Avg_Packets_Bulk',\n",
       "       'Fwd_Avg_Bulk_Rate', 'Bwd_Avg_Bytes_Bulk', 'Bwd_Avg_Packets_Bulk',\n",
       "       'Bwd_Avg_Bulk_Rate', 'Subflow_Fwd_Packets', 'Subflow_Fwd_Bytes',\n",
       "       'Subflow_Bwd_Packets', 'Subflow_Bwd_Bytes', 'Init_Win_bytes_forward',\n",
       "       'Init_Win_bytes_backward', 'act_data_pkt_fwd', 'min_seg_size_forward',\n",
       "       'Active_Mean', 'Active_Std', 'Active_Max', 'Active_Min', 'Idle_Mean',\n",
       "       'Idle_Std', 'Idle_Max', 'Idle_Min', 'SimillarHTTP', 'Inbound', 'Label',\n",
       "       'label'],\n",
       "      dtype='object')"
      ]
     },
     "execution_count": 92,
     "metadata": {},
     "output_type": "execute_result"
    }
   ],
   "source": [
    "data.columns"
   ]
  },
  {
   "cell_type": "code",
   "execution_count": 18,
   "id": "d4c19504-02ee-4ae7-a65f-a7855e8f65ad",
   "metadata": {},
   "outputs": [
    {
     "data": {
      "text/plain": [
       "'172.16.0.5-192.168.50.1-44231-8387-17'"
      ]
     },
     "execution_count": 18,
     "metadata": {},
     "output_type": "execute_result"
    }
   ],
   "source": [
    "data['Flow_ID'][0]"
   ]
  },
  {
   "cell_type": "code",
   "execution_count": 21,
   "id": "9d46c3be-94fc-48f1-b4b4-ec1d77469e36",
   "metadata": {},
   "outputs": [],
   "source": [
    "data = data.drop(['Flow_ID'],axis=1)"
   ]
  },
  {
   "cell_type": "code",
   "execution_count": 23,
   "id": "256625af-104c-412b-b33e-e0c6fb848f68",
   "metadata": {},
   "outputs": [
    {
     "data": {
      "text/plain": [
       "'2018-12-01 13:45:46.994571'"
      ]
     },
     "execution_count": 23,
     "metadata": {},
     "output_type": "execute_result"
    }
   ],
   "source": [
    "data['Timestamp'][0]"
   ]
  },
  {
   "cell_type": "code",
   "execution_count": 41,
   "id": "c44e22d1-8634-4d68-880f-d069aea6cbeb",
   "metadata": {},
   "outputs": [],
   "source": [
    "data['Timestamp'] = pd.to_datetime(data['Timestamp'])"
   ]
  },
  {
   "cell_type": "code",
   "execution_count": 44,
   "id": "9c63f495-3e4f-43d7-ae3e-b1a65004fc2e",
   "metadata": {},
   "outputs": [],
   "source": [
    "data = data.drop(['Timestamp'],axis=1)"
   ]
  },
  {
   "cell_type": "code",
   "execution_count": 83,
   "id": "9c9f984f-98ea-4c85-b542-afdaca318fbe",
   "metadata": {},
   "outputs": [],
   "source": [
    "data['SimillarHTTP'] = data['SimillarHTTP'].convert_dtypes()"
   ]
  },
  {
   "cell_type": "code",
   "execution_count": null,
   "id": "c9a5c585-d354-4fbc-b788-f270449473e9",
   "metadata": {},
   "outputs": [],
   "source": [
    "data['SimillarHTTP'].iloc[np.where(data['SimillarHTTP']!='0')].to_list()"
   ]
  },
  {
   "cell_type": "markdown",
   "id": "a4a7d550-28d9-48ca-9a95-2ccd59149df7",
   "metadata": {},
   "source": [
    "SimilarHTTP has a different structure. Maybe we could perform a wordembedding to transform the string to numerical value. For the moment we will delete this feature."
   ]
  },
  {
   "cell_type": "code",
   "execution_count": 96,
   "id": "3abc12a8-e95b-4779-ad8d-59a59c020afc",
   "metadata": {},
   "outputs": [],
   "source": [
    "data = data.drop(['SimillarHTTP'],axis=1)"
   ]
  },
  {
   "cell_type": "code",
   "execution_count": 111,
   "id": "5dbab957-7ca2-4722-b70d-d8c12a9b1ab8",
   "metadata": {},
   "outputs": [],
   "source": [
    "data = data[~data.isin([np.nan, np.inf, -np.inf]).any(1)]"
   ]
  },
  {
   "cell_type": "code",
   "execution_count": 113,
   "id": "75b62dfe-a9df-4b74-834c-199432edbe25",
   "metadata": {},
   "outputs": [],
   "source": [
    "X = data.iloc[:,:-2]\n",
    "y = data.iloc[:,-1].to_numpy()"
   ]
  },
  {
   "cell_type": "code",
   "execution_count": 123,
   "id": "5fa1de15-5ea9-4c14-a16c-a9ddf0bc0fb0",
   "metadata": {},
   "outputs": [
    {
     "data": {
      "text/plain": [
       "True"
      ]
     },
     "execution_count": 123,
     "metadata": {},
     "output_type": "execute_result"
    }
   ],
   "source": [
    "all(X>0)"
   ]
  },
  {
   "cell_type": "code",
   "execution_count": 127,
   "id": "32511aa8-e484-46cd-a912-1d71c8d8b129",
   "metadata": {},
   "outputs": [
    {
     "data": {
      "text/html": [
       "<div>\n",
       "<style scoped>\n",
       "    .dataframe tbody tr th:only-of-type {\n",
       "        vertical-align: middle;\n",
       "    }\n",
       "\n",
       "    .dataframe tbody tr th {\n",
       "        vertical-align: top;\n",
       "    }\n",
       "\n",
       "    .dataframe thead th {\n",
       "        text-align: right;\n",
       "    }\n",
       "</style>\n",
       "<table border=\"1\" class=\"dataframe\">\n",
       "  <thead>\n",
       "    <tr style=\"text-align: right;\">\n",
       "      <th></th>\n",
       "      <th>Bwd_PSH_Flags</th>\n",
       "      <th>Fwd_URG_Flags</th>\n",
       "      <th>Bwd_URG_Flags</th>\n",
       "      <th>FIN_Flag_Count</th>\n",
       "      <th>PSH_Flag_Count</th>\n",
       "      <th>ECE_Flag_Count</th>\n",
       "      <th>Fwd_Avg_Bytes_Bulk</th>\n",
       "      <th>Fwd_Avg_Packets_Bulk</th>\n",
       "      <th>Fwd_Avg_Bulk_Rate</th>\n",
       "      <th>Bwd_Avg_Bytes_Bulk</th>\n",
       "      <th>Bwd_Avg_Packets_Bulk</th>\n",
       "      <th>Bwd_Avg_Bulk_Rate</th>\n",
       "    </tr>\n",
       "  </thead>\n",
       "  <tbody>\n",
       "    <tr>\n",
       "      <th>1</th>\n",
       "      <td>0</td>\n",
       "      <td>0</td>\n",
       "      <td>0</td>\n",
       "      <td>0</td>\n",
       "      <td>0</td>\n",
       "      <td>0</td>\n",
       "      <td>0</td>\n",
       "      <td>0</td>\n",
       "      <td>0</td>\n",
       "      <td>0</td>\n",
       "      <td>0</td>\n",
       "      <td>0</td>\n",
       "    </tr>\n",
       "    <tr>\n",
       "      <th>2</th>\n",
       "      <td>0</td>\n",
       "      <td>0</td>\n",
       "      <td>0</td>\n",
       "      <td>0</td>\n",
       "      <td>0</td>\n",
       "      <td>0</td>\n",
       "      <td>0</td>\n",
       "      <td>0</td>\n",
       "      <td>0</td>\n",
       "      <td>0</td>\n",
       "      <td>0</td>\n",
       "      <td>0</td>\n",
       "    </tr>\n",
       "    <tr>\n",
       "      <th>3</th>\n",
       "      <td>0</td>\n",
       "      <td>0</td>\n",
       "      <td>0</td>\n",
       "      <td>0</td>\n",
       "      <td>0</td>\n",
       "      <td>0</td>\n",
       "      <td>0</td>\n",
       "      <td>0</td>\n",
       "      <td>0</td>\n",
       "      <td>0</td>\n",
       "      <td>0</td>\n",
       "      <td>0</td>\n",
       "    </tr>\n",
       "    <tr>\n",
       "      <th>4</th>\n",
       "      <td>0</td>\n",
       "      <td>0</td>\n",
       "      <td>0</td>\n",
       "      <td>0</td>\n",
       "      <td>0</td>\n",
       "      <td>0</td>\n",
       "      <td>0</td>\n",
       "      <td>0</td>\n",
       "      <td>0</td>\n",
       "      <td>0</td>\n",
       "      <td>0</td>\n",
       "      <td>0</td>\n",
       "    </tr>\n",
       "    <tr>\n",
       "      <th>5</th>\n",
       "      <td>0</td>\n",
       "      <td>0</td>\n",
       "      <td>0</td>\n",
       "      <td>0</td>\n",
       "      <td>0</td>\n",
       "      <td>0</td>\n",
       "      <td>0</td>\n",
       "      <td>0</td>\n",
       "      <td>0</td>\n",
       "      <td>0</td>\n",
       "      <td>0</td>\n",
       "      <td>0</td>\n",
       "    </tr>\n",
       "    <tr>\n",
       "      <th>...</th>\n",
       "      <td>...</td>\n",
       "      <td>...</td>\n",
       "      <td>...</td>\n",
       "      <td>...</td>\n",
       "      <td>...</td>\n",
       "      <td>...</td>\n",
       "      <td>...</td>\n",
       "      <td>...</td>\n",
       "      <td>...</td>\n",
       "      <td>...</td>\n",
       "      <td>...</td>\n",
       "      <td>...</td>\n",
       "    </tr>\n",
       "    <tr>\n",
       "      <th>218537</th>\n",
       "      <td>0</td>\n",
       "      <td>0</td>\n",
       "      <td>0</td>\n",
       "      <td>0</td>\n",
       "      <td>0</td>\n",
       "      <td>0</td>\n",
       "      <td>0</td>\n",
       "      <td>0</td>\n",
       "      <td>0</td>\n",
       "      <td>0</td>\n",
       "      <td>0</td>\n",
       "      <td>0</td>\n",
       "    </tr>\n",
       "    <tr>\n",
       "      <th>218538</th>\n",
       "      <td>0</td>\n",
       "      <td>0</td>\n",
       "      <td>0</td>\n",
       "      <td>0</td>\n",
       "      <td>0</td>\n",
       "      <td>0</td>\n",
       "      <td>0</td>\n",
       "      <td>0</td>\n",
       "      <td>0</td>\n",
       "      <td>0</td>\n",
       "      <td>0</td>\n",
       "      <td>0</td>\n",
       "    </tr>\n",
       "    <tr>\n",
       "      <th>218539</th>\n",
       "      <td>0</td>\n",
       "      <td>0</td>\n",
       "      <td>0</td>\n",
       "      <td>0</td>\n",
       "      <td>0</td>\n",
       "      <td>0</td>\n",
       "      <td>0</td>\n",
       "      <td>0</td>\n",
       "      <td>0</td>\n",
       "      <td>0</td>\n",
       "      <td>0</td>\n",
       "      <td>0</td>\n",
       "    </tr>\n",
       "    <tr>\n",
       "      <th>218540</th>\n",
       "      <td>0</td>\n",
       "      <td>0</td>\n",
       "      <td>0</td>\n",
       "      <td>0</td>\n",
       "      <td>0</td>\n",
       "      <td>0</td>\n",
       "      <td>0</td>\n",
       "      <td>0</td>\n",
       "      <td>0</td>\n",
       "      <td>0</td>\n",
       "      <td>0</td>\n",
       "      <td>0</td>\n",
       "    </tr>\n",
       "    <tr>\n",
       "      <th>218541</th>\n",
       "      <td>0</td>\n",
       "      <td>0</td>\n",
       "      <td>0</td>\n",
       "      <td>0</td>\n",
       "      <td>0</td>\n",
       "      <td>0</td>\n",
       "      <td>0</td>\n",
       "      <td>0</td>\n",
       "      <td>0</td>\n",
       "      <td>0</td>\n",
       "      <td>0</td>\n",
       "      <td>0</td>\n",
       "    </tr>\n",
       "  </tbody>\n",
       "</table>\n",
       "<p>214736 rows × 12 columns</p>\n",
       "</div>"
      ],
      "text/plain": [
       "        Bwd_PSH_Flags  Fwd_URG_Flags  Bwd_URG_Flags  FIN_Flag_Count  \\\n",
       "1                   0              0              0               0   \n",
       "2                   0              0              0               0   \n",
       "3                   0              0              0               0   \n",
       "4                   0              0              0               0   \n",
       "5                   0              0              0               0   \n",
       "...               ...            ...            ...             ...   \n",
       "218537              0              0              0               0   \n",
       "218538              0              0              0               0   \n",
       "218539              0              0              0               0   \n",
       "218540              0              0              0               0   \n",
       "218541              0              0              0               0   \n",
       "\n",
       "        PSH_Flag_Count  ECE_Flag_Count  Fwd_Avg_Bytes_Bulk  \\\n",
       "1                    0               0                   0   \n",
       "2                    0               0                   0   \n",
       "3                    0               0                   0   \n",
       "4                    0               0                   0   \n",
       "5                    0               0                   0   \n",
       "...                ...             ...                 ...   \n",
       "218537               0               0                   0   \n",
       "218538               0               0                   0   \n",
       "218539               0               0                   0   \n",
       "218540               0               0                   0   \n",
       "218541               0               0                   0   \n",
       "\n",
       "        Fwd_Avg_Packets_Bulk  Fwd_Avg_Bulk_Rate  Bwd_Avg_Bytes_Bulk  \\\n",
       "1                          0                  0                   0   \n",
       "2                          0                  0                   0   \n",
       "3                          0                  0                   0   \n",
       "4                          0                  0                   0   \n",
       "5                          0                  0                   0   \n",
       "...                      ...                ...                 ...   \n",
       "218537                     0                  0                   0   \n",
       "218538                     0                  0                   0   \n",
       "218539                     0                  0                   0   \n",
       "218540                     0                  0                   0   \n",
       "218541                     0                  0                   0   \n",
       "\n",
       "        Bwd_Avg_Packets_Bulk  Bwd_Avg_Bulk_Rate  \n",
       "1                          0                  0  \n",
       "2                          0                  0  \n",
       "3                          0                  0  \n",
       "4                          0                  0  \n",
       "5                          0                  0  \n",
       "...                      ...                ...  \n",
       "218537                     0                  0  \n",
       "218538                     0                  0  \n",
       "218539                     0                  0  \n",
       "218540                     0                  0  \n",
       "218541                     0                  0  \n",
       "\n",
       "[214736 rows x 12 columns]"
      ]
     },
     "execution_count": 127,
     "metadata": {},
     "output_type": "execute_result"
    }
   ],
   "source": [
    "X.iloc[:,[35,36,37,47,50,54,60,61,62,63,64,65]]"
   ]
  },
  {
   "cell_type": "markdown",
   "id": "5064c30e-64c1-48ed-8adb-8e1f77128b54",
   "metadata": {},
   "source": [
    "# Feature selection"
   ]
  },
  {
   "cell_type": "markdown",
   "id": "17165813-ab96-427c-b16d-156727ff457e",
   "metadata": {},
   "source": [
    "## Univariate method"
   ]
  },
  {
   "cell_type": "code",
   "execution_count": 214,
   "id": "50b1c1f0-63dd-4981-b7ce-4f66c9e70df4",
   "metadata": {},
   "outputs": [],
   "source": [
    "from sklearn.feature_selection import SelectKBest, chi2, f_classif, mutual_info_classif, RFE, SelectFromModel"
   ]
  },
  {
   "cell_type": "code",
   "execution_count": 187,
   "id": "b3c6dad0-a541-4f9f-bd7a-41a47158844d",
   "metadata": {},
   "outputs": [
    {
     "name": "stderr",
     "output_type": "stream",
     "text": [
      "/home/infres/abiapo/prim_ml/lib/python3.8/site-packages/sklearn/feature_selection/_univariate_selection.py:112: UserWarning: Features [35 36 37 47 50 54 60 61 62 63 64 65] are constant.\n",
      "  warnings.warn(\"Features %s are constant.\" % constant_features_idx, UserWarning)\n",
      "/home/infres/abiapo/prim_ml/lib/python3.8/site-packages/sklearn/feature_selection/_univariate_selection.py:113: RuntimeWarning: invalid value encountered in true_divide\n",
      "  f = msb / msw\n"
     ]
    }
   ],
   "source": [
    "#Select top 2 features based on f_classif\n",
    "selector = SelectKBest(f_classif, k = 20).fit(X, y)\n",
    "dfscores = pd.DataFrame(selector.scores_)\n",
    "dfcolumns = pd.DataFrame(X.columns)"
   ]
  },
  {
   "cell_type": "code",
   "execution_count": 188,
   "id": "4688c11d-f250-4e81-8358-14473ce7d74c",
   "metadata": {},
   "outputs": [
    {
     "data": {
      "text/html": [
       "<div>\n",
       "<style scoped>\n",
       "    .dataframe tbody tr th:only-of-type {\n",
       "        vertical-align: middle;\n",
       "    }\n",
       "\n",
       "    .dataframe tbody tr th {\n",
       "        vertical-align: top;\n",
       "    }\n",
       "\n",
       "    .dataframe thead th {\n",
       "        text-align: right;\n",
       "    }\n",
       "</style>\n",
       "<table border=\"1\" class=\"dataframe\">\n",
       "  <thead>\n",
       "    <tr style=\"text-align: right;\">\n",
       "      <th></th>\n",
       "      <th>Specs</th>\n",
       "      <th>Score</th>\n",
       "    </tr>\n",
       "  </thead>\n",
       "  <tbody>\n",
       "    <tr>\n",
       "      <th>0</th>\n",
       "      <td>Source_IP</td>\n",
       "      <td>3088.218495</td>\n",
       "    </tr>\n",
       "    <tr>\n",
       "      <th>1</th>\n",
       "      <td>Source_Port</td>\n",
       "      <td>14484.364758</td>\n",
       "    </tr>\n",
       "    <tr>\n",
       "      <th>2</th>\n",
       "      <td>Destination_IP</td>\n",
       "      <td>131892.416410</td>\n",
       "    </tr>\n",
       "    <tr>\n",
       "      <th>3</th>\n",
       "      <td>Destination_Port</td>\n",
       "      <td>69646.428307</td>\n",
       "    </tr>\n",
       "    <tr>\n",
       "      <th>4</th>\n",
       "      <td>Protocol</td>\n",
       "      <td>116197.690449</td>\n",
       "    </tr>\n",
       "  </tbody>\n",
       "</table>\n",
       "</div>"
      ],
      "text/plain": [
       "              Specs          Score\n",
       "0         Source_IP    3088.218495\n",
       "1       Source_Port   14484.364758\n",
       "2    Destination_IP  131892.416410\n",
       "3  Destination_Port   69646.428307\n",
       "4          Protocol  116197.690449"
      ]
     },
     "execution_count": 188,
     "metadata": {},
     "output_type": "execute_result"
    }
   ],
   "source": [
    "featureScores = pd.concat([dfcolumns,dfscores],axis=1)\n",
    "featureScores.columns = ['Specs','Score']\n",
    "featureScores.head()"
   ]
  },
  {
   "cell_type": "code",
   "execution_count": 189,
   "id": "ef73e0ea-056b-4c93-a371-ed838f2814fa",
   "metadata": {},
   "outputs": [
    {
     "name": "stdout",
     "output_type": "stream",
     "text": [
      "                     Specs          Score\n",
      "82                 Inbound  462266.190790\n",
      "42       Min_Packet_Length  177346.597914\n",
      "11   Fwd_Packet_Length_Min  175117.476648\n",
      "12  Fwd_Packet_Length_Mean  157338.314600\n",
      "57    Avg_Fwd_Segment_Size  157338.314600\n",
      "56     Average_Packet_Size  131976.869431\n",
      "2           Destination_IP  131892.416410\n",
      "44      Packet_Length_Mean  130341.451580\n",
      "4                 Protocol  116197.690449\n",
      "52          URG_Flag_Count   88834.372220\n",
      "55           Down_Up_Ratio   81668.099475\n",
      "40           Fwd_Packets_s   80583.814754\n",
      "19          Flow_Packets_s   79184.437235\n",
      "18            Flow_Bytes_s   76059.089470\n",
      "3         Destination_Port   69646.428307\n",
      "10   Fwd_Packet_Length_Max   57386.778973\n",
      "15   Bwd_Packet_Length_Min   34612.381219\n",
      "53          CWE_Flag_Count   27753.063947\n",
      "16  Bwd_Packet_Length_Mean   19628.956456\n",
      "58    Avg_Bwd_Segment_Size   19628.956456\n"
     ]
    }
   ],
   "source": [
    "print(featureScores.nlargest(20,'Score'))"
   ]
  },
  {
   "cell_type": "code",
   "execution_count": 190,
   "id": "ccb86f30-ab92-4c53-ab7e-936630a44d37",
   "metadata": {},
   "outputs": [
    {
     "data": {
      "text/plain": [
       "<AxesSubplot:xlabel='Score', ylabel='Specs'>"
      ]
     },
     "execution_count": 190,
     "metadata": {},
     "output_type": "execute_result"
    },
    {
     "data": {
      "image/png": "[encoded data removed]",
      "text/plain": [
       "<Figure size 864x576 with 1 Axes>"
      ]
     },
     "metadata": {},
     "output_type": "display_data"
    }
   ],
   "source": [
    "sns.set(rc={'figure.figsize':(12,8)})\n",
    "sns.barplot(data = featureScores.nlargest(20,'Score'), x = \"Score\", y = \"Specs\")"
   ]
  },
  {
   "cell_type": "code",
   "execution_count": 191,
   "id": "f02f03ce-4726-4e12-bd11-1293f354e1b4",
   "metadata": {},
   "outputs": [],
   "source": [
    "#Select top 2 features based on mutual_info_classif\n",
    "selector = SelectKBest(mutual_info_classif, k = 20).fit(X, y)\n",
    "dfscores = pd.DataFrame(selector.scores_)\n",
    "dfcolumns = pd.DataFrame(X.columns)"
   ]
  },
  {
   "cell_type": "code",
   "execution_count": 192,
   "id": "8b021faf-e4b6-40cd-806f-c335e030f030",
   "metadata": {},
   "outputs": [
    {
     "data": {
      "text/html": [
       "<div>\n",
       "<style scoped>\n",
       "    .dataframe tbody tr th:only-of-type {\n",
       "        vertical-align: middle;\n",
       "    }\n",
       "\n",
       "    .dataframe tbody tr th {\n",
       "        vertical-align: top;\n",
       "    }\n",
       "\n",
       "    .dataframe thead th {\n",
       "        text-align: right;\n",
       "    }\n",
       "</style>\n",
       "<table border=\"1\" class=\"dataframe\">\n",
       "  <thead>\n",
       "    <tr style=\"text-align: right;\">\n",
       "      <th></th>\n",
       "      <th>Specs</th>\n",
       "      <th>Score</th>\n",
       "    </tr>\n",
       "  </thead>\n",
       "  <tbody>\n",
       "    <tr>\n",
       "      <th>0</th>\n",
       "      <td>Source_IP</td>\n",
       "      <td>0.707292</td>\n",
       "    </tr>\n",
       "    <tr>\n",
       "      <th>1</th>\n",
       "      <td>Source_Port</td>\n",
       "      <td>0.436162</td>\n",
       "    </tr>\n",
       "    <tr>\n",
       "      <th>2</th>\n",
       "      <td>Destination_IP</td>\n",
       "      <td>0.695403</td>\n",
       "    </tr>\n",
       "    <tr>\n",
       "      <th>3</th>\n",
       "      <td>Destination_Port</td>\n",
       "      <td>0.544111</td>\n",
       "    </tr>\n",
       "    <tr>\n",
       "      <th>4</th>\n",
       "      <td>Protocol</td>\n",
       "      <td>0.217401</td>\n",
       "    </tr>\n",
       "  </tbody>\n",
       "</table>\n",
       "</div>"
      ],
      "text/plain": [
       "              Specs     Score\n",
       "0         Source_IP  0.707292\n",
       "1       Source_Port  0.436162\n",
       "2    Destination_IP  0.695403\n",
       "3  Destination_Port  0.544111\n",
       "4          Protocol  0.217401"
      ]
     },
     "execution_count": 192,
     "metadata": {},
     "output_type": "execute_result"
    }
   ],
   "source": [
    "featureScores = pd.concat([dfcolumns,dfscores],axis=1)\n",
    "featureScores.columns = ['Specs','Score']\n",
    "featureScores.head()"
   ]
  },
  {
   "cell_type": "code",
   "execution_count": 193,
   "id": "f7ea8d46-7596-4fa9-b2e1-994a8fafb207",
   "metadata": {},
   "outputs": [
    {
     "name": "stdout",
     "output_type": "stream",
     "text": [
      "                          Specs     Score\n",
      "0                     Source_IP  0.707292\n",
      "2                Destination_IP  0.695403\n",
      "56          Average_Packet_Size  0.593566\n",
      "44           Packet_Length_Mean  0.579649\n",
      "12       Fwd_Packet_Length_Mean  0.578565\n",
      "57         Avg_Fwd_Segment_Size  0.578327\n",
      "42            Min_Packet_Length  0.578291\n",
      "11        Fwd_Packet_Length_Min  0.576608\n",
      "43            Max_Packet_Length  0.561942\n",
      "18                 Flow_Bytes_s  0.558920\n",
      "8   Total_Length_of_Fwd_Packets  0.556156\n",
      "67            Subflow_Fwd_Bytes  0.555453\n",
      "3              Destination_Port  0.544111\n",
      "10        Fwd_Packet_Length_Max  0.542333\n",
      "19               Flow_Packets_s  0.462044\n",
      "40                Fwd_Packets_s  0.457993\n",
      "22                 Flow_IAT_Max  0.452127\n",
      "20                Flow_IAT_Mean  0.447546\n",
      "82                      Inbound  0.446375\n",
      "5                 Flow_Duration  0.440963\n"
     ]
    }
   ],
   "source": [
    "print(featureScores.nlargest(20,'Score'))"
   ]
  },
  {
   "cell_type": "code",
   "execution_count": 194,
   "id": "d750847a-8eba-43eb-ab3a-4de92f9de984",
   "metadata": {},
   "outputs": [
    {
     "data": {
      "text/plain": [
       "<AxesSubplot:xlabel='Score', ylabel='Specs'>"
      ]
     },
     "execution_count": 194,
     "metadata": {},
     "output_type": "execute_result"
    },
    {
     "data": {
      "image/png": "[encoded data removed]",
      "text/plain": [
       "<Figure size 864x576 with 1 Axes>"
      ]
     },
     "metadata": {},
     "output_type": "display_data"
    }
   ],
   "source": [
    "sns.set(rc={'figure.figsize':(12,8)})\n",
    "sns.barplot(data = featureScores.nlargest(20,'Score'), x = \"Score\", y = \"Specs\")"
   ]
  },
  {
   "cell_type": "markdown",
   "id": "2cd6ad55-a784-487e-8ab2-942b472e2409",
   "metadata": {},
   "source": [
    "To choose a value of $k$ we must compare the performance of the model with classification report of serveral techniques. Now we focus on the different selection techniques"
   ]
  },
  {
   "cell_type": "markdown",
   "id": "84ec227a-c171-40cd-93b6-baf6ef4856aa",
   "metadata": {},
   "source": [
    "## Feature Correlation Method"
   ]
  },
  {
   "cell_type": "code",
   "execution_count": 177,
   "id": "7f2161b3-c4cf-4b74-986a-355bef5e5f36",
   "metadata": {},
   "outputs": [
    {
     "data": {
      "image/png": "[encoded data removed]",
      "text/plain": [
       "<Figure size 864x576 with 1 Axes>"
      ]
     },
     "metadata": {
      "needs_background": "light"
     },
     "output_type": "display_data"
    }
   ],
   "source": [
    "# determine 20 most correlated features\n",
    "plt.figure(figsize=(12,8))\n",
    "data_corr_label = data.corr()['label'].sort_values(ascending=False).head(21)\n",
    "top_corr_features = data_corr_label.index\n",
    "# plot top 20 most correlated features to our target (HEALTH)\n",
    "data_corr_label.plot(kind='barh')\n",
    "plt.show()"
   ]
  },
  {
   "cell_type": "code",
   "execution_count": 182,
   "id": "841dfab8-f001-4298-a8f8-625c1923e2dc",
   "metadata": {},
   "outputs": [
    {
     "name": "stdout",
     "output_type": "stream",
     "text": [
      "label                          1.000000\n",
      "Inbound                        0.826326\n",
      "Min_Packet_Length              0.672549\n",
      "Fwd_Packet_Length_Min          0.670217\n",
      "Avg_Fwd_Segment_Size           0.650285\n",
      "Fwd_Packet_Length_Mean         0.650285\n",
      "Average_Packet_Size            0.616972\n",
      "Destination_IP                 0.616849\n",
      "Packet_Length_Mean             0.614588\n",
      "Protocol                       0.592556\n",
      "Fwd_Packets_s                  0.522371\n",
      "Flow_Packets_s                 0.519047\n",
      "Flow_Bytes_s                   0.511427\n",
      "Destination_Port               0.494880\n",
      "Fwd_Packet_Length_Max          0.459225\n",
      "Max_Packet_Length              0.167869\n",
      "Bwd_Header_Length              0.027629\n",
      "Total_Length_of_Fwd_Packets    0.012894\n",
      "Subflow_Fwd_Bytes              0.012894\n",
      "Total_Fwd_Packets             -0.004159\n",
      "Subflow_Fwd_Packets           -0.004159\n",
      "Name: label, dtype: float64\n"
     ]
    }
   ],
   "source": [
    "# export selected features to .csv\n",
    "#df_corr_health.to_csv('feature_selection_CORRELATION.csv')\n",
    "print(data_corr_label)"
   ]
  },
  {
   "cell_type": "markdown",
   "id": "d4eab10c-8766-43da-95fa-5484a47623fc",
   "metadata": {},
   "source": [
    "## Feature Importance Method"
   ]
  },
  {
   "cell_type": "markdown",
   "id": "740ef1aa-6125-4b98-b683-1f7a45d12b6e",
   "metadata": {},
   "source": [
    "### Extra Tree Classifier "
   ]
  },
  {
   "cell_type": "code",
   "execution_count": 200,
   "id": "7c82ca65-ad53-4e1d-aee8-9e0c08d1d861",
   "metadata": {},
   "outputs": [
    {
     "data": {
      "image/png": "[encoded data removed]",
      "text/plain": [
       "<Figure size 864x576 with 1 Axes>"
      ]
     },
     "metadata": {},
     "output_type": "display_data"
    }
   ],
   "source": [
    "from sklearn.ensemble import ExtraTreesClassifier\n",
    "model = ExtraTreesClassifier()\n",
    "model.fit(X,y)\n",
    "#print(model.feature_importances_) #use inbuilt class feature_importances of tree based classifiers\n",
    "#plot graph of feature importances for better visualization\n",
    "feat_importances = pd.Series(model.feature_importances_, index=X.columns)\n",
    "feat_importances.nlargest(20).plot(kind='barh')\n",
    "plt.show()"
   ]
  },
  {
   "cell_type": "markdown",
   "id": "bd2191e8-115b-44b8-9972-178d07cfbb5c",
   "metadata": {},
   "source": [
    "### RandomForest Classifier"
   ]
  },
  {
   "cell_type": "code",
   "execution_count": 201,
   "id": "7cfa2908-a6fa-491f-b5b7-934d1cf74e27",
   "metadata": {},
   "outputs": [
    {
     "data": {
      "image/png": "[encoded data removed]",
      "text/plain": [
       "<Figure size 864x576 with 1 Axes>"
      ]
     },
     "metadata": {},
     "output_type": "display_data"
    }
   ],
   "source": [
    "from sklearn.ensemble import RandomForestClassifier\n",
    "model = RandomForestClassifier()\n",
    "model.fit(X,y)\n",
    "#print(model.feature_importances_) #use inbuilt class feature_importances of tree based classifiers\n",
    "#plot graph of feature importances for better visualization\n",
    "feat_importances = pd.Series(model.feature_importances_, index=X.columns)\n",
    "feat_importances.nlargest(20).plot(kind='barh')\n",
    "plt.show()"
   ]
  },
  {
   "cell_type": "markdown",
   "id": "33698c5c-bd3d-4161-81fa-3b0d24470ec0",
   "metadata": {},
   "source": [
    "## Recursive Feature Elimination"
   ]
  },
  {
   "cell_type": "code",
   "execution_count": null,
   "id": "109a2f06-4425-4962-95d0-e6557f7a1f8b",
   "metadata": {},
   "outputs": [],
   "source": [
    "rfe_selector = RFE(estimator=RandomForestClassifier(),n_features_to_select = 20, step = 1)\n",
    "rfe_selector.fit(X,y)"
   ]
  },
  {
   "cell_type": "code",
   "execution_count": 213,
   "id": "11eb48e8-e425-46f2-b945-189032729641",
   "metadata": {},
   "outputs": [
    {
     "name": "stdout",
     "output_type": "stream",
     "text": [
      "['Source_IP' 'Source_Port' 'Destination_IP' 'Destination_Port' 'Protocol'\n",
      " 'Fwd_Packet_Length_Max' 'Fwd_Packet_Length_Min' 'Fwd_Packet_Length_Mean'\n",
      " 'Min_Packet_Length' 'Packet_Length_Mean' 'Packet_Length_Std'\n",
      " 'Packet_Length_Variance' 'ACK_Flag_Count' 'URG_Flag_Count'\n",
      " 'Average_Packet_Size' 'Avg_Fwd_Segment_Size' 'Subflow_Bwd_Packets'\n",
      " 'Init_Win_bytes_forward' 'Init_Win_bytes_backward' 'Inbound']\n"
     ]
    }
   ],
   "source": [
    "print(X.loc[:,rfe_selector.support_].columns.to_numpy())"
   ]
  },
  {
   "cell_type": "markdown",
   "id": "f9b4e9a6-0dfd-4b65-986e-5f108c52ad5d",
   "metadata": {},
   "source": [
    "## Feature Selection via SelectFromModel"
   ]
  },
  {
   "cell_type": "code",
   "execution_count": 215,
   "id": "2cd7db58-3cfa-4f2c-bf98-199cbaa73f3b",
   "metadata": {},
   "outputs": [
    {
     "data": {
      "text/plain": [
       "Index(['Source_IP', 'Source_Port', 'Destination_IP', 'Destination_Port',\n",
       "       'Protocol', 'Total_Backward_Packets', 'Total_Length_of_Fwd_Packets',\n",
       "       'Fwd_Packet_Length_Max', 'Fwd_Packet_Length_Min',\n",
       "       'Fwd_Packet_Length_Mean', 'Bwd_Header_Length', 'Bwd_Packets_s',\n",
       "       'Min_Packet_Length', 'Packet_Length_Mean', 'ACK_Flag_Count',\n",
       "       'URG_Flag_Count', 'Average_Packet_Size', 'Avg_Fwd_Segment_Size',\n",
       "       'Init_Win_bytes_forward', 'Inbound'],\n",
       "      dtype='object')"
      ]
     },
     "execution_count": 215,
     "metadata": {},
     "output_type": "execute_result"
    }
   ],
   "source": [
    "sfm_selector = SelectFromModel(estimator = RandomForestClassifier())\n",
    "sfm_selector.fit(X, y)\n",
    "X.columns[sfm_selector.get_support()]"
   ]
  },
  {
   "cell_type": "markdown",
   "id": "c24e10ee-482f-4b8d-92c7-c77ab8fd76ce",
   "metadata": {},
   "source": [
    "## Feature Selection Sequential Feature Selection (SFS)"
   ]
  }
 ],
 "metadata": {
  "kernelspec": {
   "display_name": "prim_ml",
   "language": "python",
   "name": "prim_ml"
  },
  "language_info": {
   "codemirror_mode": {
    "name": "ipython",
    "version": 3
   },
   "file_extension": ".py",
   "mimetype": "text/x-python",
   "name": "python",
   "nbconvert_exporter": "python",
   "pygments_lexer": "ipython3",
   "version": "3.8.10"
  }
 },
 "nbformat": 4,
 "nbformat_minor": 5
}
