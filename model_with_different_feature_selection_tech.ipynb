{
 "cells": [
  {
   "cell_type": "code",
   "execution_count": 2,
   "id": "5face035-3bd8-4d5f-ab21-b123299aa69f",
   "metadata": {},
   "outputs": [],
   "source": [
    "import numpy as np\n",
    "import pandas as pd\n",
    "import seaborn as sns\n",
    "import matplotlib.pyplot as plt\n",
    "from sklearn.utils import shuffle\n",
    "from sklearn.metrics import confusion_matrix, accuracy_score,  classification_report\n",
    "from sklearn.model_selection import train_test_split\n",
    "from sklearn.metrics import ConfusionMatrixDisplay\n",
    "from sklearn.preprocessing import StandardScaler\n",
    "import ipaddress"
   ]
  },
  {
   "cell_type": "code",
   "execution_count": 3,
   "id": "d736ca38-40fe-4cb8-8f00-bed5642bb61f",
   "metadata": {},
   "outputs": [],
   "source": [
    "DATADIR = '/home/infres/abiapo/prim/data'"
   ]
  },
  {
   "cell_type": "code",
   "execution_count": 4,
   "id": "b1e4a656-0b0b-424e-89a3-bb335c05638c",
   "metadata": {},
   "outputs": [
    {
     "data": {
      "text/html": [
       "<div>\n",
       "<style scoped>\n",
       "    .dataframe tbody tr th:only-of-type {\n",
       "        vertical-align: middle;\n",
       "    }\n",
       "\n",
       "    .dataframe tbody tr th {\n",
       "        vertical-align: top;\n",
       "    }\n",
       "\n",
       "    .dataframe thead th {\n",
       "        text-align: right;\n",
       "    }\n",
       "</style>\n",
       "<table border=\"1\" class=\"dataframe\">\n",
       "  <thead>\n",
       "    <tr style=\"text-align: right;\">\n",
       "      <th></th>\n",
       "      <th>Unnamed:_0</th>\n",
       "      <th>Flow_ID</th>\n",
       "      <th>Source_IP</th>\n",
       "      <th>Source_Port</th>\n",
       "      <th>Destination_IP</th>\n",
       "      <th>Destination_Port</th>\n",
       "      <th>Protocol</th>\n",
       "      <th>Timestamp</th>\n",
       "      <th>Flow_Duration</th>\n",
       "      <th>Total_Fwd_Packets</th>\n",
       "      <th>...</th>\n",
       "      <th>Active_Max</th>\n",
       "      <th>Active_Min</th>\n",
       "      <th>Idle_Mean</th>\n",
       "      <th>Idle_Std</th>\n",
       "      <th>Idle_Max</th>\n",
       "      <th>Idle_Min</th>\n",
       "      <th>SimillarHTTP</th>\n",
       "      <th>Inbound</th>\n",
       "      <th>Label</th>\n",
       "      <th>label</th>\n",
       "    </tr>\n",
       "  </thead>\n",
       "  <tbody>\n",
       "    <tr>\n",
       "      <th>0</th>\n",
       "      <td>112140</td>\n",
       "      <td>172.16.0.5-192.168.50.1-44231-8387-17</td>\n",
       "      <td>172.16.0.5</td>\n",
       "      <td>44231</td>\n",
       "      <td>192.168.50.1</td>\n",
       "      <td>8387</td>\n",
       "      <td>17</td>\n",
       "      <td>2018-12-01 13:45:46.994571</td>\n",
       "      <td>0</td>\n",
       "      <td>2</td>\n",
       "      <td>...</td>\n",
       "      <td>0.0</td>\n",
       "      <td>0.0</td>\n",
       "      <td>0.0</td>\n",
       "      <td>0.0</td>\n",
       "      <td>0.0</td>\n",
       "      <td>0.0</td>\n",
       "      <td>0</td>\n",
       "      <td>1</td>\n",
       "      <td>TFTP</td>\n",
       "      <td>1</td>\n",
       "    </tr>\n",
       "    <tr>\n",
       "      <th>1</th>\n",
       "      <td>25309</td>\n",
       "      <td>172.16.0.5-192.168.50.1-891-63192-17</td>\n",
       "      <td>172.16.0.5</td>\n",
       "      <td>891</td>\n",
       "      <td>192.168.50.1</td>\n",
       "      <td>63192</td>\n",
       "      <td>17</td>\n",
       "      <td>2018-12-01 12:14:48.493601</td>\n",
       "      <td>2</td>\n",
       "      <td>2</td>\n",
       "      <td>...</td>\n",
       "      <td>0.0</td>\n",
       "      <td>0.0</td>\n",
       "      <td>0.0</td>\n",
       "      <td>0.0</td>\n",
       "      <td>0.0</td>\n",
       "      <td>0.0</td>\n",
       "      <td>0</td>\n",
       "      <td>1</td>\n",
       "      <td>DrDoS_SNMP</td>\n",
       "      <td>1</td>\n",
       "    </tr>\n",
       "    <tr>\n",
       "      <th>2</th>\n",
       "      <td>3538</td>\n",
       "      <td>172.16.0.5-192.168.50.1-649-33920-17</td>\n",
       "      <td>172.16.0.5</td>\n",
       "      <td>649</td>\n",
       "      <td>192.168.50.1</td>\n",
       "      <td>33920</td>\n",
       "      <td>17</td>\n",
       "      <td>2018-12-01 10:36:57.214865</td>\n",
       "      <td>1620</td>\n",
       "      <td>126</td>\n",
       "      <td>...</td>\n",
       "      <td>0.0</td>\n",
       "      <td>0.0</td>\n",
       "      <td>0.0</td>\n",
       "      <td>0.0</td>\n",
       "      <td>0.0</td>\n",
       "      <td>0.0</td>\n",
       "      <td>0</td>\n",
       "      <td>1</td>\n",
       "      <td>DrDoS_NTP</td>\n",
       "      <td>1</td>\n",
       "    </tr>\n",
       "    <tr>\n",
       "      <th>3</th>\n",
       "      <td>11531</td>\n",
       "      <td>192.168.10.50-192.168.50.6-22-56370-6</td>\n",
       "      <td>192.168.50.6</td>\n",
       "      <td>56370</td>\n",
       "      <td>192.168.10.50</td>\n",
       "      <td>22</td>\n",
       "      <td>6</td>\n",
       "      <td>2018-11-03 12:46:39.696861</td>\n",
       "      <td>8996366</td>\n",
       "      <td>6</td>\n",
       "      <td>...</td>\n",
       "      <td>2995940.0</td>\n",
       "      <td>2995940.0</td>\n",
       "      <td>6000423.0</td>\n",
       "      <td>0.0</td>\n",
       "      <td>6000423.0</td>\n",
       "      <td>6000423.0</td>\n",
       "      <td>0</td>\n",
       "      <td>1</td>\n",
       "      <td>BENIGN</td>\n",
       "      <td>0</td>\n",
       "    </tr>\n",
       "    <tr>\n",
       "      <th>4</th>\n",
       "      <td>1489</td>\n",
       "      <td>192.168.50.6-4.2.2.4-58840-53-17</td>\n",
       "      <td>192.168.50.6</td>\n",
       "      <td>58840</td>\n",
       "      <td>4.2.2.4</td>\n",
       "      <td>53</td>\n",
       "      <td>17</td>\n",
       "      <td>2018-12-01 10:59:03.241570</td>\n",
       "      <td>20681</td>\n",
       "      <td>2</td>\n",
       "      <td>...</td>\n",
       "      <td>0.0</td>\n",
       "      <td>0.0</td>\n",
       "      <td>0.0</td>\n",
       "      <td>0.0</td>\n",
       "      <td>0.0</td>\n",
       "      <td>0.0</td>\n",
       "      <td>0</td>\n",
       "      <td>0</td>\n",
       "      <td>BENIGN</td>\n",
       "      <td>0</td>\n",
       "    </tr>\n",
       "  </tbody>\n",
       "</table>\n",
       "<p>5 rows × 89 columns</p>\n",
       "</div>"
      ],
      "text/plain": [
       "   Unnamed:_0                                Flow_ID     Source_IP  \\\n",
       "0      112140  172.16.0.5-192.168.50.1-44231-8387-17    172.16.0.5   \n",
       "1       25309   172.16.0.5-192.168.50.1-891-63192-17    172.16.0.5   \n",
       "2        3538   172.16.0.5-192.168.50.1-649-33920-17    172.16.0.5   \n",
       "3       11531  192.168.10.50-192.168.50.6-22-56370-6  192.168.50.6   \n",
       "4        1489       192.168.50.6-4.2.2.4-58840-53-17  192.168.50.6   \n",
       "\n",
       "   Source_Port Destination_IP  Destination_Port  Protocol  \\\n",
       "0        44231   192.168.50.1              8387        17   \n",
       "1          891   192.168.50.1             63192        17   \n",
       "2          649   192.168.50.1             33920        17   \n",
       "3        56370  192.168.10.50                22         6   \n",
       "4        58840        4.2.2.4                53        17   \n",
       "\n",
       "                    Timestamp  Flow_Duration  Total_Fwd_Packets  ...  \\\n",
       "0  2018-12-01 13:45:46.994571              0                  2  ...   \n",
       "1  2018-12-01 12:14:48.493601              2                  2  ...   \n",
       "2  2018-12-01 10:36:57.214865           1620                126  ...   \n",
       "3  2018-11-03 12:46:39.696861        8996366                  6  ...   \n",
       "4  2018-12-01 10:59:03.241570          20681                  2  ...   \n",
       "\n",
       "   Active_Max  Active_Min  Idle_Mean  Idle_Std   Idle_Max   Idle_Min  \\\n",
       "0         0.0         0.0        0.0       0.0        0.0        0.0   \n",
       "1         0.0         0.0        0.0       0.0        0.0        0.0   \n",
       "2         0.0         0.0        0.0       0.0        0.0        0.0   \n",
       "3   2995940.0   2995940.0  6000423.0       0.0  6000423.0  6000423.0   \n",
       "4         0.0         0.0        0.0       0.0        0.0        0.0   \n",
       "\n",
       "   SimillarHTTP  Inbound       Label  label  \n",
       "0             0        1        TFTP      1  \n",
       "1             0        1  DrDoS_SNMP      1  \n",
       "2             0        1   DrDoS_NTP      1  \n",
       "3             0        1      BENIGN      0  \n",
       "4             0        0      BENIGN      0  \n",
       "\n",
       "[5 rows x 89 columns]"
      ]
     },
     "execution_count": 4,
     "metadata": {},
     "output_type": "execute_result"
    }
   ],
   "source": [
    "data = pd.read_csv(DATADIR+'/balance_mix_data.csv')\n",
    "data.head()"
   ]
  },
  {
   "cell_type": "code",
   "execution_count": 5,
   "id": "63dad6e2-c27a-4ed5-8742-097cb7b76c6d",
   "metadata": {},
   "outputs": [],
   "source": [
    "data = data.drop(['Unnamed:_0'],axis=1)\n",
    "data['Source_IP'] = data['Source_IP'].apply(lambda ip: int(ipaddress.ip_address(ip)))\n",
    "data['Destination_IP'] = data['Destination_IP'].apply(lambda ip: int(ipaddress.ip_address(ip)))"
   ]
  },
  {
   "cell_type": "code",
   "execution_count": 6,
   "id": "9d46c3be-94fc-48f1-b4b4-ec1d77469e36",
   "metadata": {},
   "outputs": [],
   "source": [
    "data = data.drop(['Flow_ID'],axis=1)\n",
    "data = data.drop(['Timestamp'],axis=1)\n",
    "data = data.drop(['SimillarHTTP'],axis=1)"
   ]
  },
  {
   "cell_type": "code",
   "execution_count": 7,
   "id": "5dbab957-7ca2-4722-b70d-d8c12a9b1ab8",
   "metadata": {},
   "outputs": [],
   "source": [
    "data = data[~data.isin([np.nan, np.inf, -np.inf]).any(1)]"
   ]
  },
  {
   "cell_type": "code",
   "execution_count": 8,
   "id": "75b62dfe-a9df-4b74-834c-199432edbe25",
   "metadata": {},
   "outputs": [],
   "source": [
    "X = data.iloc[:,:-2]\n",
    "y = data.iloc[:,-1].to_numpy()"
   ]
  },
  {
   "cell_type": "code",
   "execution_count": 24,
   "id": "32511aa8-e484-46cd-a912-1d71c8d8b129",
   "metadata": {},
   "outputs": [],
   "source": [
    "col2drop = X.iloc[:,[35,36,37,47,50,54,60,61,62,63,64,65]].columns.to_list()\n",
    "X = X.drop(col2drop,axis=1)"
   ]
  },
  {
   "cell_type": "code",
   "execution_count": 20,
   "id": "078ad941-fbb6-4f89-81f9-b7e33a2fef12",
   "metadata": {},
   "outputs": [
    {
     "data": {
      "text/plain": [
       "['Bwd_PSH_Flags',\n",
       " 'Fwd_URG_Flags',\n",
       " 'Bwd_URG_Flags',\n",
       " 'FIN_Flag_Count',\n",
       " 'PSH_Flag_Count',\n",
       " 'ECE_Flag_Count',\n",
       " 'Fwd_Avg_Bytes_Bulk',\n",
       " 'Fwd_Avg_Packets_Bulk',\n",
       " 'Fwd_Avg_Bulk_Rate',\n",
       " 'Bwd_Avg_Bytes_Bulk',\n",
       " 'Bwd_Avg_Packets_Bulk',\n",
       " 'Bwd_Avg_Bulk_Rate']"
      ]
     },
     "execution_count": 20,
     "metadata": {},
     "output_type": "execute_result"
    }
   ],
   "source": [
    "col2drop"
   ]
  },
  {
   "cell_type": "code",
   "execution_count": 25,
   "id": "2cdb21c3-7ada-4f63-9ae4-db39e7cde0a8",
   "metadata": {},
   "outputs": [
    {
     "data": {
      "text/html": [
       "<div>\n",
       "<style scoped>\n",
       "    .dataframe tbody tr th:only-of-type {\n",
       "        vertical-align: middle;\n",
       "    }\n",
       "\n",
       "    .dataframe tbody tr th {\n",
       "        vertical-align: top;\n",
       "    }\n",
       "\n",
       "    .dataframe thead th {\n",
       "        text-align: right;\n",
       "    }\n",
       "</style>\n",
       "<table border=\"1\" class=\"dataframe\">\n",
       "  <thead>\n",
       "    <tr style=\"text-align: right;\">\n",
       "      <th></th>\n",
       "      <th>Source_IP</th>\n",
       "      <th>Source_Port</th>\n",
       "      <th>Destination_IP</th>\n",
       "      <th>Destination_Port</th>\n",
       "      <th>Protocol</th>\n",
       "      <th>Flow_Duration</th>\n",
       "      <th>Total_Fwd_Packets</th>\n",
       "      <th>Total_Backward_Packets</th>\n",
       "      <th>Total_Length_of_Fwd_Packets</th>\n",
       "      <th>Total_Length_of_Bwd_Packets</th>\n",
       "      <th>...</th>\n",
       "      <th>min_seg_size_forward</th>\n",
       "      <th>Active_Mean</th>\n",
       "      <th>Active_Std</th>\n",
       "      <th>Active_Max</th>\n",
       "      <th>Active_Min</th>\n",
       "      <th>Idle_Mean</th>\n",
       "      <th>Idle_Std</th>\n",
       "      <th>Idle_Max</th>\n",
       "      <th>Idle_Min</th>\n",
       "      <th>Inbound</th>\n",
       "    </tr>\n",
       "  </thead>\n",
       "  <tbody>\n",
       "    <tr>\n",
       "      <th>1</th>\n",
       "      <td>2886729733</td>\n",
       "      <td>891</td>\n",
       "      <td>3232248321</td>\n",
       "      <td>63192</td>\n",
       "      <td>17</td>\n",
       "      <td>2</td>\n",
       "      <td>2</td>\n",
       "      <td>0</td>\n",
       "      <td>2944.0</td>\n",
       "      <td>0.0</td>\n",
       "      <td>...</td>\n",
       "      <td>-1062718975</td>\n",
       "      <td>0.0</td>\n",
       "      <td>0.000000</td>\n",
       "      <td>0.0</td>\n",
       "      <td>0.0</td>\n",
       "      <td>0.0</td>\n",
       "      <td>0.000000</td>\n",
       "      <td>0.0</td>\n",
       "      <td>0.0</td>\n",
       "      <td>1</td>\n",
       "    </tr>\n",
       "    <tr>\n",
       "      <th>2</th>\n",
       "      <td>2886729733</td>\n",
       "      <td>649</td>\n",
       "      <td>3232248321</td>\n",
       "      <td>33920</td>\n",
       "      <td>17</td>\n",
       "      <td>1620</td>\n",
       "      <td>126</td>\n",
       "      <td>0</td>\n",
       "      <td>55440.0</td>\n",
       "      <td>0.0</td>\n",
       "      <td>...</td>\n",
       "      <td>8</td>\n",
       "      <td>0.0</td>\n",
       "      <td>0.000000</td>\n",
       "      <td>0.0</td>\n",
       "      <td>0.0</td>\n",
       "      <td>0.0</td>\n",
       "      <td>0.000000</td>\n",
       "      <td>0.0</td>\n",
       "      <td>0.0</td>\n",
       "      <td>1</td>\n",
       "    </tr>\n",
       "    <tr>\n",
       "      <th>3</th>\n",
       "      <td>3232248326</td>\n",
       "      <td>56370</td>\n",
       "      <td>3232238130</td>\n",
       "      <td>22</td>\n",
       "      <td>6</td>\n",
       "      <td>8996366</td>\n",
       "      <td>6</td>\n",
       "      <td>0</td>\n",
       "      <td>0.0</td>\n",
       "      <td>0.0</td>\n",
       "      <td>...</td>\n",
       "      <td>28</td>\n",
       "      <td>2995940.0</td>\n",
       "      <td>0.000000</td>\n",
       "      <td>2995940.0</td>\n",
       "      <td>2995940.0</td>\n",
       "      <td>6000423.0</td>\n",
       "      <td>0.000000</td>\n",
       "      <td>6000423.0</td>\n",
       "      <td>6000423.0</td>\n",
       "      <td>1</td>\n",
       "    </tr>\n",
       "    <tr>\n",
       "      <th>4</th>\n",
       "      <td>3232248326</td>\n",
       "      <td>58840</td>\n",
       "      <td>67240452</td>\n",
       "      <td>53</td>\n",
       "      <td>17</td>\n",
       "      <td>20681</td>\n",
       "      <td>2</td>\n",
       "      <td>2</td>\n",
       "      <td>50.0</td>\n",
       "      <td>212.0</td>\n",
       "      <td>...</td>\n",
       "      <td>20</td>\n",
       "      <td>0.0</td>\n",
       "      <td>0.000000</td>\n",
       "      <td>0.0</td>\n",
       "      <td>0.0</td>\n",
       "      <td>0.0</td>\n",
       "      <td>0.000000</td>\n",
       "      <td>0.0</td>\n",
       "      <td>0.0</td>\n",
       "      <td>0</td>\n",
       "    </tr>\n",
       "    <tr>\n",
       "      <th>5</th>\n",
       "      <td>3232248326</td>\n",
       "      <td>58424</td>\n",
       "      <td>2899905058</td>\n",
       "      <td>443</td>\n",
       "      <td>6</td>\n",
       "      <td>116830838</td>\n",
       "      <td>28</td>\n",
       "      <td>19</td>\n",
       "      <td>3860.0</td>\n",
       "      <td>6402.0</td>\n",
       "      <td>...</td>\n",
       "      <td>20</td>\n",
       "      <td>122927.5</td>\n",
       "      <td>85854.784051</td>\n",
       "      <td>183636.0</td>\n",
       "      <td>62219.0</td>\n",
       "      <td>58261342.0</td>\n",
       "      <td>323755.910834</td>\n",
       "      <td>58490272.0</td>\n",
       "      <td>58032412.0</td>\n",
       "      <td>0</td>\n",
       "    </tr>\n",
       "  </tbody>\n",
       "</table>\n",
       "<p>5 rows × 71 columns</p>\n",
       "</div>"
      ],
      "text/plain": [
       "    Source_IP  Source_Port  Destination_IP  Destination_Port  Protocol  \\\n",
       "1  2886729733          891      3232248321             63192        17   \n",
       "2  2886729733          649      3232248321             33920        17   \n",
       "3  3232248326        56370      3232238130                22         6   \n",
       "4  3232248326        58840        67240452                53        17   \n",
       "5  3232248326        58424      2899905058               443         6   \n",
       "\n",
       "   Flow_Duration  Total_Fwd_Packets  Total_Backward_Packets  \\\n",
       "1              2                  2                       0   \n",
       "2           1620                126                       0   \n",
       "3        8996366                  6                       0   \n",
       "4          20681                  2                       2   \n",
       "5      116830838                 28                      19   \n",
       "\n",
       "   Total_Length_of_Fwd_Packets  Total_Length_of_Bwd_Packets  ...  \\\n",
       "1                       2944.0                          0.0  ...   \n",
       "2                      55440.0                          0.0  ...   \n",
       "3                          0.0                          0.0  ...   \n",
       "4                         50.0                        212.0  ...   \n",
       "5                       3860.0                       6402.0  ...   \n",
       "\n",
       "   min_seg_size_forward  Active_Mean    Active_Std  Active_Max  Active_Min  \\\n",
       "1           -1062718975          0.0      0.000000         0.0         0.0   \n",
       "2                     8          0.0      0.000000         0.0         0.0   \n",
       "3                    28    2995940.0      0.000000   2995940.0   2995940.0   \n",
       "4                    20          0.0      0.000000         0.0         0.0   \n",
       "5                    20     122927.5  85854.784051    183636.0     62219.0   \n",
       "\n",
       "    Idle_Mean       Idle_Std    Idle_Max    Idle_Min  Inbound  \n",
       "1         0.0       0.000000         0.0         0.0        1  \n",
       "2         0.0       0.000000         0.0         0.0        1  \n",
       "3   6000423.0       0.000000   6000423.0   6000423.0        1  \n",
       "4         0.0       0.000000         0.0         0.0        0  \n",
       "5  58261342.0  323755.910834  58490272.0  58032412.0        0  \n",
       "\n",
       "[5 rows x 71 columns]"
      ]
     },
     "execution_count": 25,
     "metadata": {},
     "output_type": "execute_result"
    }
   ],
   "source": [
    "X.head()"
   ]
  },
  {
   "cell_type": "markdown",
   "id": "5064c30e-64c1-48ed-8adb-8e1f77128b54",
   "metadata": {},
   "source": [
    "# Feature selection"
   ]
  },
  {
   "cell_type": "code",
   "execution_count": 8,
   "id": "0e36f0cd-2da1-46c0-a760-936659dbe206",
   "metadata": {},
   "outputs": [],
   "source": [
    "from sklearn.feature_selection import SelectKBest, chi2, f_classif, mutual_info_classif, RFE, SelectFromModel"
   ]
  },
  {
   "cell_type": "code",
   "execution_count": 9,
   "id": "da3fadf1-f958-40e2-8bbb-c9780ce2d8d3",
   "metadata": {},
   "outputs": [
    {
     "name": "stderr",
     "output_type": "stream",
     "text": [
      "/home/infres/abiapo/prim_ml/lib/python3.8/site-packages/sklearn/feature_selection/_univariate_selection.py:112: UserWarning: Features [35 36 37 47 50 54 60 61 62 63 64 65] are constant.\n",
      "  warnings.warn(\"Features %s are constant.\" % constant_features_idx, UserWarning)\n",
      "/home/infres/abiapo/prim_ml/lib/python3.8/site-packages/sklearn/feature_selection/_univariate_selection.py:113: RuntimeWarning: invalid value encountered in true_divide\n",
      "  f = msb / msw\n"
     ]
    }
   ],
   "source": [
    "#Select top 2 features based on f_classif\n",
    "selector = SelectKBest(f_classif, k = 25).fit(X, y)\n",
    "dfscores = pd.DataFrame(selector.scores_)\n",
    "dfcolumns = pd.DataFrame(X.columns)"
   ]
  },
  {
   "cell_type": "code",
   "execution_count": 10,
   "id": "ff476b03-afce-45b7-ada0-44b94e5dea48",
   "metadata": {},
   "outputs": [
    {
     "data": {
      "text/html": [
       "<div>\n",
       "<style scoped>\n",
       "    .dataframe tbody tr th:only-of-type {\n",
       "        vertical-align: middle;\n",
       "    }\n",
       "\n",
       "    .dataframe tbody tr th {\n",
       "        vertical-align: top;\n",
       "    }\n",
       "\n",
       "    .dataframe thead th {\n",
       "        text-align: right;\n",
       "    }\n",
       "</style>\n",
       "<table border=\"1\" class=\"dataframe\">\n",
       "  <thead>\n",
       "    <tr style=\"text-align: right;\">\n",
       "      <th></th>\n",
       "      <th>Specs</th>\n",
       "      <th>Score</th>\n",
       "    </tr>\n",
       "  </thead>\n",
       "  <tbody>\n",
       "    <tr>\n",
       "      <th>0</th>\n",
       "      <td>Source_IP</td>\n",
       "      <td>3088.218495</td>\n",
       "    </tr>\n",
       "    <tr>\n",
       "      <th>1</th>\n",
       "      <td>Source_Port</td>\n",
       "      <td>14484.364758</td>\n",
       "    </tr>\n",
       "    <tr>\n",
       "      <th>2</th>\n",
       "      <td>Destination_IP</td>\n",
       "      <td>131892.416410</td>\n",
       "    </tr>\n",
       "    <tr>\n",
       "      <th>3</th>\n",
       "      <td>Destination_Port</td>\n",
       "      <td>69646.428307</td>\n",
       "    </tr>\n",
       "    <tr>\n",
       "      <th>4</th>\n",
       "      <td>Protocol</td>\n",
       "      <td>116197.690449</td>\n",
       "    </tr>\n",
       "  </tbody>\n",
       "</table>\n",
       "</div>"
      ],
      "text/plain": [
       "              Specs          Score\n",
       "0         Source_IP    3088.218495\n",
       "1       Source_Port   14484.364758\n",
       "2    Destination_IP  131892.416410\n",
       "3  Destination_Port   69646.428307\n",
       "4          Protocol  116197.690449"
      ]
     },
     "execution_count": 10,
     "metadata": {},
     "output_type": "execute_result"
    }
   ],
   "source": [
    "featureScores = pd.concat([dfcolumns,dfscores],axis=1)\n",
    "featureScores.columns = ['Specs','Score']\n",
    "featureScores.head()"
   ]
  },
  {
   "cell_type": "code",
   "execution_count": 11,
   "id": "49802bdf-663a-4ef9-84bf-cfc4dc296d87",
   "metadata": {},
   "outputs": [],
   "source": [
    "preselect_feature = featureScores.nlargest(20,'Score')['Specs'].to_list()"
   ]
  },
  {
   "cell_type": "markdown",
   "id": "c9e39bbf-8457-41bd-8d1c-d945e697a353",
   "metadata": {},
   "source": [
    "## Feature Importance Method"
   ]
  },
  {
   "cell_type": "markdown",
   "id": "740ef1aa-6125-4b98-b683-1f7a45d12b6e",
   "metadata": {},
   "source": [
    "### Extra Tree Classifier "
   ]
  },
  {
   "cell_type": "code",
   "execution_count": 12,
   "id": "7c82ca65-ad53-4e1d-aee8-9e0c08d1d861",
   "metadata": {},
   "outputs": [
    {
     "data": {
      "image/png": "[encoded data removed]",
      "text/plain": [
       "<Figure size 432x288 with 1 Axes>"
      ]
     },
     "metadata": {
      "needs_background": "light"
     },
     "output_type": "display_data"
    }
   ],
   "source": [
    "from sklearn.ensemble import ExtraTreesClassifier\n",
    "model = ExtraTreesClassifier()\n",
    "model.fit(X[preselect_feature],y)\n",
    "#print(model.feature_importances_) #use inbuilt class feature_importances of tree based classifiers\n",
    "#plot graph of feature importances for better visualization\n",
    "feat_importances = pd.Series(model.feature_importances_, index=X[preselect_feature].columns)\n",
    "feat_importances.nlargest(15).plot(kind='barh')\n",
    "plt.show()"
   ]
  },
  {
   "cell_type": "code",
   "execution_count": 13,
   "id": "dd3b4c9a-568f-406d-a1c1-1d10dfbf15bf",
   "metadata": {},
   "outputs": [],
   "source": [
    "feature_selected = feat_importances.nlargest(15).index.to_list()"
   ]
  },
  {
   "cell_type": "code",
   "execution_count": 24,
   "id": "dfb9b2a1-699f-4d05-a7a9-a59eaebd829f",
   "metadata": {},
   "outputs": [
    {
     "data": {
      "text/plain": [
       "['Inbound',\n",
       " 'URG_Flag_Count',\n",
       " 'Min_Packet_Length',\n",
       " 'Destination_Port',\n",
       " 'Fwd_Packet_Length_Min',\n",
       " 'Protocol',\n",
       " 'Destination_IP',\n",
       " 'Avg_Fwd_Segment_Size',\n",
       " 'CWE_Flag_Count',\n",
       " 'Fwd_Packet_Length_Mean',\n",
       " 'Average_Packet_Size',\n",
       " 'Packet_Length_Mean',\n",
       " 'Flow_Bytes_s',\n",
       " 'Fwd_Packets_s',\n",
       " 'Flow_Packets_s']"
      ]
     },
     "execution_count": 24,
     "metadata": {},
     "output_type": "execute_result"
    }
   ],
   "source": [
    "feature_selected"
   ]
  },
  {
   "cell_type": "markdown",
   "id": "091248a8-3ddb-4bfb-9e69-8559896f6aa7",
   "metadata": {
    "tags": []
   },
   "source": [
    "## Models"
   ]
  },
  {
   "cell_type": "code",
   "execution_count": 14,
   "id": "db7a9197-25b6-4b93-80e9-a6a81c325fd2",
   "metadata": {},
   "outputs": [],
   "source": [
    "def cal_accuracy(y_test, y_pred): \n",
    "    print(\"Confusion Matrix: \")\n",
    "    ConfusionMatrixDisplay.from_predictions(y_test, y_pred)\n",
    "    print (\"Accuracy : \", accuracy_score(y_test,y_pred)*100) \n",
    "    print(\"Report : \", classification_report(y_test, y_pred))"
   ]
  },
  {
   "cell_type": "code",
   "execution_count": 15,
   "id": "f6495cf8-7b7b-4405-aace-bd0c0bfec841",
   "metadata": {},
   "outputs": [],
   "source": [
    "X_train, X_test, y_train, y_test = train_test_split(X[feature_selected], y, test_size = 0.3, random_state = 42)   "
   ]
  },
  {
   "cell_type": "code",
   "execution_count": 29,
   "id": "9d3890fc-3cec-4660-8013-7088a6b998d4",
   "metadata": {},
   "outputs": [],
   "source": [
    "std_scaler = StandardScaler()\n",
    "std_scaler.fit(X_train)\n",
    "X_train_sc = std_scaler.transform(X_train)\n",
    "X_test_sc = std_scaler.transform(X_test)"
   ]
  },
  {
   "cell_type": "markdown",
   "id": "a3f697c1-3934-4b9a-8e38-27c6d5b0129f",
   "metadata": {},
   "source": [
    "#### Decision Tree"
   ]
  },
  {
   "cell_type": "code",
   "execution_count": 16,
   "id": "24cbe87e-1af0-42fa-994e-7db693aff68a",
   "metadata": {},
   "outputs": [
    {
     "name": "stdout",
     "output_type": "stream",
     "text": [
      "Confusion Matrix: \n",
      "Accuracy :  99.96119277875228\n",
      "Report :                precision    recall  f1-score   support\n",
      "\n",
      "           0       1.00      1.00      1.00     32559\n",
      "           1       1.00      1.00      1.00     31862\n",
      "\n",
      "    accuracy                           1.00     64421\n",
      "   macro avg       1.00      1.00      1.00     64421\n",
      "weighted avg       1.00      1.00      1.00     64421\n",
      "\n"
     ]
    },
    {
     "data": {
      "image/png": "[encoded data removed]",
      "text/plain": [
       "<Figure size 432x288 with 2 Axes>"
      ]
     },
     "metadata": {
      "needs_background": "light"
     },
     "output_type": "display_data"
    }
   ],
   "source": [
    "from sklearn.tree import DecisionTreeClassifier \n",
    "clf_entropy = DecisionTreeClassifier(criterion = 'entropy', random_state = 0)\n",
    "clf_entropy.fit(X_train, y_train) \n",
    "y_pred_entropy = clf_entropy.predict(X_test)\n",
    "cal_accuracy(y_test, y_pred_entropy)"
   ]
  },
  {
   "cell_type": "markdown",
   "id": "ac0ef56c-36e2-4ad8-9332-c794c5906ac9",
   "metadata": {},
   "source": [
    "#### Naive Bayes"
   ]
  },
  {
   "cell_type": "code",
   "execution_count": 17,
   "id": "9ebbba0d-ab6f-401c-8d1a-564d3b9f3a68",
   "metadata": {},
   "outputs": [
    {
     "name": "stdout",
     "output_type": "stream",
     "text": [
      "-----------Naive Bayes----------\n",
      "Confusion Matrix: \n",
      "Accuracy :  90.3727045528632\n",
      "Report :                precision    recall  f1-score   support\n",
      "\n",
      "           0       1.00      0.81      0.89     32559\n",
      "           1       0.84      1.00      0.91     31862\n",
      "\n",
      "    accuracy                           0.90     64421\n",
      "   macro avg       0.92      0.90      0.90     64421\n",
      "weighted avg       0.92      0.90      0.90     64421\n",
      "\n"
     ]
    },
    {
     "data": {
      "image/png": "[encoded data removed]",
      "text/plain": [
       "<Figure size 432x288 with 2 Axes>"
      ]
     },
     "metadata": {
      "needs_background": "light"
     },
     "output_type": "display_data"
    }
   ],
   "source": [
    "from sklearn.naive_bayes import GaussianNB \n",
    "gnb = GaussianNB() \n",
    "gnb.fit(X_train, y_train) \n",
    "y_pred_nb = gnb.predict(X_test)\n",
    "cal_accuracy(y_test, y_pred_nb)"
   ]
  },
  {
   "cell_type": "markdown",
   "id": "a83eca14-1090-4679-85c6-d93e19448687",
   "metadata": {},
   "source": [
    "#### Logistic Regression"
   ]
  },
  {
   "cell_type": "code",
   "execution_count": 18,
   "id": "688e89b5-b2f9-4210-be46-93eb42de69fd",
   "metadata": {},
   "outputs": [
    {
     "name": "stdout",
     "output_type": "stream",
     "text": [
      "-----------Logistic Regression----------\n",
      "Confusion Matrix: \n",
      "Accuracy :  74.83118858757237\n",
      "Report :                precision    recall  f1-score   support\n",
      "\n",
      "           0       0.71      0.84      0.77     32559\n",
      "           1       0.80      0.65      0.72     31862\n",
      "\n",
      "    accuracy                           0.75     64421\n",
      "   macro avg       0.76      0.75      0.75     64421\n",
      "weighted avg       0.76      0.75      0.75     64421\n",
      "\n"
     ]
    },
    {
     "data": {
      "image/png": "[encoded data removed]",
      "text/plain": [
       "<Figure size 432x288 with 2 Axes>"
      ]
     },
     "metadata": {
      "needs_background": "light"
     },
     "output_type": "display_data"
    }
   ],
   "source": [
    "from sklearn.linear_model import LogisticRegression\n",
    "logreg = LogisticRegression(solver='lbfgs', random_state = 0)\n",
    "logreg.fit(X_train, y_train)\n",
    "y_pred_lr = logreg.predict(X_test)\n",
    "cal_accuracy(y_test, y_pred_lr)"
   ]
  },
  {
   "cell_type": "markdown",
   "id": "2f2a8320-e65e-43a3-88d1-c1e495d1e329",
   "metadata": {},
   "source": [
    "#### Support Vector Machine with polynomial kernel"
   ]
  },
  {
   "cell_type": "code",
   "execution_count": 19,
   "id": "297b3f8e-0da2-4f01-95bf-711a2196a343",
   "metadata": {},
   "outputs": [
    {
     "name": "stdout",
     "output_type": "stream",
     "text": [
      "-----------Support Vector Machine----------\n",
      "Confusion Matrix: \n",
      "Accuracy :  87.30227720774282\n",
      "Report :                precision    recall  f1-score   support\n",
      "\n",
      "           0       1.00      0.75      0.86     32559\n",
      "           1       0.80      1.00      0.89     31862\n",
      "\n",
      "    accuracy                           0.87     64421\n",
      "   macro avg       0.90      0.87      0.87     64421\n",
      "weighted avg       0.90      0.87      0.87     64421\n",
      "\n"
     ]
    },
    {
     "data": {
      "image/png": "[encoded data removed]",
      "text/plain": [
       "<Figure size 432x288 with 2 Axes>"
      ]
     },
     "metadata": {
      "needs_background": "light"
     },
     "output_type": "display_data"
    }
   ],
   "source": [
    "print(\"-----------Support Vector Machine----------\")\n",
    "from sklearn.svm import SVC\n",
    "clf = SVC(kernel = 'poly', random_state = 0)\n",
    "clf.fit(X_train, y_train)\n",
    "y_pred_svc = clf.predict(X_test)\n",
    "cal_accuracy(y_test, y_pred_svc)"
   ]
  },
  {
   "cell_type": "markdown",
   "id": "6129f41d-5eae-49bd-8a5f-111cf8023e27",
   "metadata": {},
   "source": [
    "#### Support Vector Machine with gaussian kernel"
   ]
  },
  {
   "cell_type": "code",
   "execution_count": 20,
   "id": "9a08cf13-2694-43d8-b819-443bb8e787f2",
   "metadata": {},
   "outputs": [
    {
     "name": "stdout",
     "output_type": "stream",
     "text": [
      "-----------Support Vector Machine----------\n",
      "Confusion Matrix: \n",
      "Accuracy :  89.31249126837521\n",
      "Report :                precision    recall  f1-score   support\n",
      "\n",
      "           0       1.00      0.79      0.88     32559\n",
      "           1       0.82      1.00      0.90     31862\n",
      "\n",
      "    accuracy                           0.89     64421\n",
      "   macro avg       0.91      0.89      0.89     64421\n",
      "weighted avg       0.91      0.89      0.89     64421\n",
      "\n"
     ]
    },
    {
     "data": {
      "image/png": "[encoded data removed]",
      "text/plain": [
       "<Figure size 432x288 with 2 Axes>"
      ]
     },
     "metadata": {
      "needs_background": "light"
     },
     "output_type": "display_data"
    }
   ],
   "source": [
    "from sklearn.svm import SVC\n",
    "clf = SVC(kernel = 'rbf', random_state = 0)\n",
    "clf.fit(X_train, y_train)\n",
    "y_pred_svc = clf.predict(X_test)\n",
    "cal_accuracy(y_test, y_pred_svc)"
   ]
  },
  {
   "cell_type": "markdown",
   "id": "0626caba-dcd2-484f-9d82-59eba6c4c024",
   "metadata": {},
   "source": [
    "#### K Nearest Neighbor"
   ]
  },
  {
   "cell_type": "code",
   "execution_count": null,
   "id": "830c770e-8620-4f43-8f11-d97cba724ea6",
   "metadata": {},
   "outputs": [],
   "source": [
    "from sklearn.neighbors import KNeighborsClassifier\n",
    "knn = KNeighborsClassifier(n_neighbors = 5, metric = 'minkowski', p = 2)\n",
    "knn.fit(X_train, y_train)\n",
    "y_pred_knn = knn.predict(X_test)\n",
    "cal_accuracy(y_test, y_pred_knn)"
   ]
  },
  {
   "cell_type": "markdown",
   "id": "45b27cbe-e6e4-40a9-b252-c8ad7a67d798",
   "metadata": {},
   "source": [
    "#### Random Forest"
   ]
  },
  {
   "cell_type": "code",
   "execution_count": null,
   "id": "90c7e7da-4575-4230-b01d-fd603f76fccb",
   "metadata": {},
   "outputs": [],
   "source": [
    "from sklearn.ensemble import RandomForestClassifier\n",
    "rndForest =RandomForestClassifier(n_estimators = 100, criterion = 'entropy', random_state = 0)\n",
    "rndForest.fit(X_train,y_train)\n",
    "y_pred_rf = rndForest.predict(X_test)\n",
    "cal_accuracy(y_test, y_pred_rf)"
   ]
  },
  {
   "cell_type": "markdown",
   "id": "2cd6ad55-a784-487e-8ab2-942b472e2409",
   "metadata": {},
   "source": [
    "To choose a value of $k$ we must compare the performance of the model with classification report of serveral techniques. Now we focus on the different selection techniques"
   ]
  },
  {
   "cell_type": "markdown",
   "id": "bd2191e8-115b-44b8-9972-178d07cfbb5c",
   "metadata": {},
   "source": [
    "### RandomForest Classifier"
   ]
  },
  {
   "cell_type": "code",
   "execution_count": 33,
   "id": "7cfa2908-a6fa-491f-b5b7-934d1cf74e27",
   "metadata": {},
   "outputs": [
    {
     "data": {
      "image/png": "[encoded data removed]",
      "text/plain": [
       "<Figure size 432x288 with 1 Axes>"
      ]
     },
     "metadata": {
      "needs_background": "light"
     },
     "output_type": "display_data"
    }
   ],
   "source": [
    "from sklearn.ensemble import RandomForestClassifier\n",
    "model = RandomForestClassifier()\n",
    "model.fit(X,y)\n",
    "#print(model.feature_importances_) #use inbuilt class feature_importances of tree based classifiers\n",
    "#plot graph of feature importances for better visualization\n",
    "feat_importances = pd.Series(model.feature_importances_, index=X.columns)\n",
    "feat_importances.nlargest(20).plot(kind='barh')\n",
    "plt.show()"
   ]
  },
  {
   "cell_type": "code",
   "execution_count": 34,
   "id": "725510bb-01ff-437c-a4bc-6a09e8c940aa",
   "metadata": {},
   "outputs": [],
   "source": [
    "feature_selected = feat_importances.nlargest(20).index.to_list()"
   ]
  },
  {
   "cell_type": "code",
   "execution_count": 35,
   "id": "22faff1b-eccd-4ca1-af67-cddd2a077ceb",
   "metadata": {},
   "outputs": [],
   "source": [
    "X_train, X_test, y_train, y_test = train_test_split(X[feature_selected], y, test_size = 0.3, random_state = 42)   "
   ]
  },
  {
   "cell_type": "code",
   "execution_count": 40,
   "id": "31415e27-6588-420e-b417-f2204107e1f6",
   "metadata": {},
   "outputs": [
    {
     "data": {
      "text/html": [
       "<div>\n",
       "<style scoped>\n",
       "    .dataframe tbody tr th:only-of-type {\n",
       "        vertical-align: middle;\n",
       "    }\n",
       "\n",
       "    .dataframe tbody tr th {\n",
       "        vertical-align: top;\n",
       "    }\n",
       "\n",
       "    .dataframe thead th {\n",
       "        text-align: right;\n",
       "    }\n",
       "</style>\n",
       "<table border=\"1\" class=\"dataframe\">\n",
       "  <thead>\n",
       "    <tr style=\"text-align: right;\">\n",
       "      <th></th>\n",
       "      <th>Min_Packet_Length</th>\n",
       "      <th>Source_IP</th>\n",
       "      <th>Fwd_Packet_Length_Min</th>\n",
       "      <th>Inbound</th>\n",
       "      <th>Fwd_Packet_Length_Mean</th>\n",
       "      <th>Avg_Fwd_Segment_Size</th>\n",
       "      <th>Average_Packet_Size</th>\n",
       "      <th>Destination_Port</th>\n",
       "      <th>Destination_IP</th>\n",
       "      <th>Total_Backward_Packets</th>\n",
       "      <th>Packet_Length_Mean</th>\n",
       "      <th>Init_Win_bytes_forward</th>\n",
       "      <th>Total_Length_of_Fwd_Packets</th>\n",
       "      <th>URG_Flag_Count</th>\n",
       "      <th>Source_Port</th>\n",
       "      <th>Fwd_Packet_Length_Max</th>\n",
       "      <th>Subflow_Bwd_Packets</th>\n",
       "      <th>Subflow_Fwd_Bytes</th>\n",
       "      <th>ACK_Flag_Count</th>\n",
       "      <th>Max_Packet_Length</th>\n",
       "    </tr>\n",
       "  </thead>\n",
       "  <tbody>\n",
       "    <tr>\n",
       "      <th>201254</th>\n",
       "      <td>0.0</td>\n",
       "      <td>3232248327</td>\n",
       "      <td>0.0</td>\n",
       "      <td>0</td>\n",
       "      <td>70.294118</td>\n",
       "      <td>70.294118</td>\n",
       "      <td>175.565217</td>\n",
       "      <td>443</td>\n",
       "      <td>2899905250</td>\n",
       "      <td>35</td>\n",
       "      <td>173.057143</td>\n",
       "      <td>64240</td>\n",
       "      <td>2390.0</td>\n",
       "      <td>0</td>\n",
       "      <td>52852</td>\n",
       "      <td>517.0</td>\n",
       "      <td>35</td>\n",
       "      <td>2390</td>\n",
       "      <td>1</td>\n",
       "      <td>2860.0</td>\n",
       "    </tr>\n",
       "    <tr>\n",
       "      <th>35156</th>\n",
       "      <td>0.0</td>\n",
       "      <td>3232248573</td>\n",
       "      <td>0.0</td>\n",
       "      <td>0</td>\n",
       "      <td>0.000000</td>\n",
       "      <td>0.000000</td>\n",
       "      <td>0.000000</td>\n",
       "      <td>0</td>\n",
       "      <td>3758096389</td>\n",
       "      <td>0</td>\n",
       "      <td>0.000000</td>\n",
       "      <td>-1</td>\n",
       "      <td>0.0</td>\n",
       "      <td>0</td>\n",
       "      <td>0</td>\n",
       "      <td>0.0</td>\n",
       "      <td>0</td>\n",
       "      <td>0</td>\n",
       "      <td>0</td>\n",
       "      <td>0.0</td>\n",
       "    </tr>\n",
       "    <tr>\n",
       "      <th>60005</th>\n",
       "      <td>0.0</td>\n",
       "      <td>3232248326</td>\n",
       "      <td>0.0</td>\n",
       "      <td>0</td>\n",
       "      <td>148.500000</td>\n",
       "      <td>148.500000</td>\n",
       "      <td>207.375000</td>\n",
       "      <td>80</td>\n",
       "      <td>2100873577</td>\n",
       "      <td>4</td>\n",
       "      <td>184.333333</td>\n",
       "      <td>255</td>\n",
       "      <td>594.0</td>\n",
       "      <td>1</td>\n",
       "      <td>58160</td>\n",
       "      <td>297.0</td>\n",
       "      <td>4</td>\n",
       "      <td>594</td>\n",
       "      <td>0</td>\n",
       "      <td>384.0</td>\n",
       "    </tr>\n",
       "    <tr>\n",
       "      <th>89133</th>\n",
       "      <td>0.0</td>\n",
       "      <td>3232248326</td>\n",
       "      <td>0.0</td>\n",
       "      <td>0</td>\n",
       "      <td>227.200000</td>\n",
       "      <td>227.200000</td>\n",
       "      <td>447.172414</td>\n",
       "      <td>443</td>\n",
       "      <td>2637688958</td>\n",
       "      <td>14</td>\n",
       "      <td>432.266667</td>\n",
       "      <td>8192</td>\n",
       "      <td>3408.0</td>\n",
       "      <td>0</td>\n",
       "      <td>56818</td>\n",
       "      <td>805.0</td>\n",
       "      <td>14</td>\n",
       "      <td>3408</td>\n",
       "      <td>1</td>\n",
       "      <td>1460.0</td>\n",
       "    </tr>\n",
       "    <tr>\n",
       "      <th>150182</th>\n",
       "      <td>47.0</td>\n",
       "      <td>3232248328</td>\n",
       "      <td>47.0</td>\n",
       "      <td>0</td>\n",
       "      <td>47.000000</td>\n",
       "      <td>47.000000</td>\n",
       "      <td>101.250000</td>\n",
       "      <td>53</td>\n",
       "      <td>67240452</td>\n",
       "      <td>2</td>\n",
       "      <td>81.000000</td>\n",
       "      <td>-1</td>\n",
       "      <td>94.0</td>\n",
       "      <td>0</td>\n",
       "      <td>61560</td>\n",
       "      <td>47.0</td>\n",
       "      <td>2</td>\n",
       "      <td>94</td>\n",
       "      <td>0</td>\n",
       "      <td>132.0</td>\n",
       "    </tr>\n",
       "    <tr>\n",
       "      <th>...</th>\n",
       "      <td>...</td>\n",
       "      <td>...</td>\n",
       "      <td>...</td>\n",
       "      <td>...</td>\n",
       "      <td>...</td>\n",
       "      <td>...</td>\n",
       "      <td>...</td>\n",
       "      <td>...</td>\n",
       "      <td>...</td>\n",
       "      <td>...</td>\n",
       "      <td>...</td>\n",
       "      <td>...</td>\n",
       "      <td>...</td>\n",
       "      <td>...</td>\n",
       "      <td>...</td>\n",
       "      <td>...</td>\n",
       "      <td>...</td>\n",
       "      <td>...</td>\n",
       "      <td>...</td>\n",
       "      <td>...</td>\n",
       "    </tr>\n",
       "    <tr>\n",
       "      <th>121999</th>\n",
       "      <td>229.0</td>\n",
       "      <td>2886729733</td>\n",
       "      <td>229.0</td>\n",
       "      <td>1</td>\n",
       "      <td>229.000000</td>\n",
       "      <td>229.000000</td>\n",
       "      <td>343.500000</td>\n",
       "      <td>9913</td>\n",
       "      <td>3232248321</td>\n",
       "      <td>0</td>\n",
       "      <td>229.000000</td>\n",
       "      <td>-1</td>\n",
       "      <td>458.0</td>\n",
       "      <td>0</td>\n",
       "      <td>638</td>\n",
       "      <td>229.0</td>\n",
       "      <td>0</td>\n",
       "      <td>458</td>\n",
       "      <td>0</td>\n",
       "      <td>229.0</td>\n",
       "    </tr>\n",
       "    <tr>\n",
       "      <th>105534</th>\n",
       "      <td>32.0</td>\n",
       "      <td>3232248328</td>\n",
       "      <td>32.0</td>\n",
       "      <td>0</td>\n",
       "      <td>32.000000</td>\n",
       "      <td>32.000000</td>\n",
       "      <td>88.000000</td>\n",
       "      <td>53</td>\n",
       "      <td>67240452</td>\n",
       "      <td>2</td>\n",
       "      <td>70.400000</td>\n",
       "      <td>-1</td>\n",
       "      <td>64.0</td>\n",
       "      <td>0</td>\n",
       "      <td>54418</td>\n",
       "      <td>32.0</td>\n",
       "      <td>2</td>\n",
       "      <td>64</td>\n",
       "      <td>0</td>\n",
       "      <td>128.0</td>\n",
       "    </tr>\n",
       "    <tr>\n",
       "      <th>134275</th>\n",
       "      <td>0.0</td>\n",
       "      <td>2899902566</td>\n",
       "      <td>0.0</td>\n",
       "      <td>1</td>\n",
       "      <td>25.333333</td>\n",
       "      <td>25.333333</td>\n",
       "      <td>22.800000</td>\n",
       "      <td>59152</td>\n",
       "      <td>3232248328</td>\n",
       "      <td>2</td>\n",
       "      <td>19.000000</td>\n",
       "      <td>246</td>\n",
       "      <td>76.0</td>\n",
       "      <td>1</td>\n",
       "      <td>443</td>\n",
       "      <td>38.0</td>\n",
       "      <td>2</td>\n",
       "      <td>76</td>\n",
       "      <td>0</td>\n",
       "      <td>38.0</td>\n",
       "    </tr>\n",
       "    <tr>\n",
       "      <th>149486</th>\n",
       "      <td>401.0</td>\n",
       "      <td>2886729733</td>\n",
       "      <td>401.0</td>\n",
       "      <td>1</td>\n",
       "      <td>401.000000</td>\n",
       "      <td>401.000000</td>\n",
       "      <td>601.500000</td>\n",
       "      <td>15561</td>\n",
       "      <td>3232248321</td>\n",
       "      <td>0</td>\n",
       "      <td>401.000000</td>\n",
       "      <td>-1</td>\n",
       "      <td>802.0</td>\n",
       "      <td>0</td>\n",
       "      <td>35928</td>\n",
       "      <td>401.0</td>\n",
       "      <td>0</td>\n",
       "      <td>802</td>\n",
       "      <td>0</td>\n",
       "      <td>401.0</td>\n",
       "    </tr>\n",
       "    <tr>\n",
       "      <th>124116</th>\n",
       "      <td>211.0</td>\n",
       "      <td>2886729733</td>\n",
       "      <td>211.0</td>\n",
       "      <td>1</td>\n",
       "      <td>211.000000</td>\n",
       "      <td>211.000000</td>\n",
       "      <td>316.500000</td>\n",
       "      <td>59186</td>\n",
       "      <td>3232248321</td>\n",
       "      <td>0</td>\n",
       "      <td>211.000000</td>\n",
       "      <td>-1</td>\n",
       "      <td>422.0</td>\n",
       "      <td>0</td>\n",
       "      <td>656</td>\n",
       "      <td>211.0</td>\n",
       "      <td>0</td>\n",
       "      <td>422</td>\n",
       "      <td>0</td>\n",
       "      <td>211.0</td>\n",
       "    </tr>\n",
       "  </tbody>\n",
       "</table>\n",
       "<p>150315 rows × 20 columns</p>\n",
       "</div>"
      ],
      "text/plain": [
       "        Min_Packet_Length   Source_IP  Fwd_Packet_Length_Min  Inbound  \\\n",
       "201254                0.0  3232248327                    0.0        0   \n",
       "35156                 0.0  3232248573                    0.0        0   \n",
       "60005                 0.0  3232248326                    0.0        0   \n",
       "89133                 0.0  3232248326                    0.0        0   \n",
       "150182               47.0  3232248328                   47.0        0   \n",
       "...                   ...         ...                    ...      ...   \n",
       "121999              229.0  2886729733                  229.0        1   \n",
       "105534               32.0  3232248328                   32.0        0   \n",
       "134275                0.0  2899902566                    0.0        1   \n",
       "149486              401.0  2886729733                  401.0        1   \n",
       "124116              211.0  2886729733                  211.0        1   \n",
       "\n",
       "        Fwd_Packet_Length_Mean  Avg_Fwd_Segment_Size  Average_Packet_Size  \\\n",
       "201254               70.294118             70.294118           175.565217   \n",
       "35156                 0.000000              0.000000             0.000000   \n",
       "60005               148.500000            148.500000           207.375000   \n",
       "89133               227.200000            227.200000           447.172414   \n",
       "150182               47.000000             47.000000           101.250000   \n",
       "...                        ...                   ...                  ...   \n",
       "121999              229.000000            229.000000           343.500000   \n",
       "105534               32.000000             32.000000            88.000000   \n",
       "134275               25.333333             25.333333            22.800000   \n",
       "149486              401.000000            401.000000           601.500000   \n",
       "124116              211.000000            211.000000           316.500000   \n",
       "\n",
       "        Destination_Port  Destination_IP  Total_Backward_Packets  \\\n",
       "201254               443      2899905250                      35   \n",
       "35156                  0      3758096389                       0   \n",
       "60005                 80      2100873577                       4   \n",
       "89133                443      2637688958                      14   \n",
       "150182                53        67240452                       2   \n",
       "...                  ...             ...                     ...   \n",
       "121999              9913      3232248321                       0   \n",
       "105534                53        67240452                       2   \n",
       "134275             59152      3232248328                       2   \n",
       "149486             15561      3232248321                       0   \n",
       "124116             59186      3232248321                       0   \n",
       "\n",
       "        Packet_Length_Mean  Init_Win_bytes_forward  \\\n",
       "201254          173.057143                   64240   \n",
       "35156             0.000000                      -1   \n",
       "60005           184.333333                     255   \n",
       "89133           432.266667                    8192   \n",
       "150182           81.000000                      -1   \n",
       "...                    ...                     ...   \n",
       "121999          229.000000                      -1   \n",
       "105534           70.400000                      -1   \n",
       "134275           19.000000                     246   \n",
       "149486          401.000000                      -1   \n",
       "124116          211.000000                      -1   \n",
       "\n",
       "        Total_Length_of_Fwd_Packets  URG_Flag_Count  Source_Port  \\\n",
       "201254                       2390.0               0        52852   \n",
       "35156                           0.0               0            0   \n",
       "60005                         594.0               1        58160   \n",
       "89133                        3408.0               0        56818   \n",
       "150182                         94.0               0        61560   \n",
       "...                             ...             ...          ...   \n",
       "121999                        458.0               0          638   \n",
       "105534                         64.0               0        54418   \n",
       "134275                         76.0               1          443   \n",
       "149486                        802.0               0        35928   \n",
       "124116                        422.0               0          656   \n",
       "\n",
       "        Fwd_Packet_Length_Max  Subflow_Bwd_Packets  Subflow_Fwd_Bytes  \\\n",
       "201254                  517.0                   35               2390   \n",
       "35156                     0.0                    0                  0   \n",
       "60005                   297.0                    4                594   \n",
       "89133                   805.0                   14               3408   \n",
       "150182                   47.0                    2                 94   \n",
       "...                       ...                  ...                ...   \n",
       "121999                  229.0                    0                458   \n",
       "105534                   32.0                    2                 64   \n",
       "134275                   38.0                    2                 76   \n",
       "149486                  401.0                    0                802   \n",
       "124116                  211.0                    0                422   \n",
       "\n",
       "        ACK_Flag_Count  Max_Packet_Length  \n",
       "201254               1             2860.0  \n",
       "35156                0                0.0  \n",
       "60005                0              384.0  \n",
       "89133                1             1460.0  \n",
       "150182               0              132.0  \n",
       "...                ...                ...  \n",
       "121999               0              229.0  \n",
       "105534               0              128.0  \n",
       "134275               0               38.0  \n",
       "149486               0              401.0  \n",
       "124116               0              211.0  \n",
       "\n",
       "[150315 rows x 20 columns]"
      ]
     },
     "execution_count": 40,
     "metadata": {},
     "output_type": "execute_result"
    }
   ],
   "source": [
    "X_train"
   ]
  },
  {
   "cell_type": "markdown",
   "id": "185335b5-77fa-48c3-b064-2119d498755c",
   "metadata": {},
   "source": [
    " ## Decision Tree"
   ]
  },
  {
   "cell_type": "code",
   "execution_count": 31,
   "id": "5e4a6456-a891-4828-9e19-046f7990ae20",
   "metadata": {},
   "outputs": [
    {
     "name": "stdout",
     "output_type": "stream",
     "text": [
      "Confusion Matrix: \n",
      "Accuracy :  99.96274506760217\n",
      "Report :                precision    recall  f1-score   support\n",
      "\n",
      "           0       1.00      1.00      1.00     32559\n",
      "           1       1.00      1.00      1.00     31862\n",
      "\n",
      "    accuracy                           1.00     64421\n",
      "   macro avg       1.00      1.00      1.00     64421\n",
      "weighted avg       1.00      1.00      1.00     64421\n",
      "\n"
     ]
    },
    {
     "data": {
      "image/png": "[encoded data removed]",
      "text/plain": [
       "<Figure size 432x288 with 2 Axes>"
      ]
     },
     "metadata": {
      "needs_background": "light"
     },
     "output_type": "display_data"
    }
   ],
   "source": [
    "from sklearn.tree import DecisionTreeClassifier \n",
    "clf_entropy = DecisionTreeClassifier(criterion = 'entropy', random_state = 0)\n",
    "clf_entropy.fit(X_train, y_train) \n",
    "y_pred_entropy = clf_entropy.predict(X_test)\n",
    "cal_accuracy(y_test, y_pred_entropy)"
   ]
  },
  {
   "cell_type": "markdown",
   "id": "d98990a9-131a-4e1f-9ec9-8b9bbaaa02ce",
   "metadata": {},
   "source": [
    "## Naive Bayesian"
   ]
  },
  {
   "cell_type": "code",
   "execution_count": 37,
   "id": "6ed58cc8-d3a4-4b94-a8a5-1a52b3242b47",
   "metadata": {},
   "outputs": [
    {
     "name": "stdout",
     "output_type": "stream",
     "text": [
      "-----------Naive Bayes----------\n",
      "Confusion Matrix: \n",
      "Accuracy :  96.17981714037349\n",
      "Report :                precision    recall  f1-score   support\n",
      "\n",
      "           0       1.00      0.92      0.96     32559\n",
      "           1       0.93      1.00      0.96     31862\n",
      "\n",
      "    accuracy                           0.96     64421\n",
      "   macro avg       0.96      0.96      0.96     64421\n",
      "weighted avg       0.96      0.96      0.96     64421\n",
      "\n"
     ]
    },
    {
     "data": {
      "image/png": "[encoded data removed]",
      "text/plain": [
       "<Figure size 432x288 with 2 Axes>"
      ]
     },
     "metadata": {
      "needs_background": "light"
     },
     "output_type": "display_data"
    }
   ],
   "source": [
    "#Naive Bayes\n",
    "print(\"-----------Naive Bayes----------\")\n",
    "from sklearn.naive_bayes import GaussianNB \n",
    "gnb = GaussianNB() \n",
    "gnb.fit(X_train, y_train) \n",
    "y_pred_nb = gnb.predict(X_test)\n",
    "cal_accuracy(y_test, y_pred_nb)"
   ]
  },
  {
   "cell_type": "markdown",
   "id": "334be6ed-fddb-49d1-9183-bea3120b814d",
   "metadata": {},
   "source": [
    "## Logistic Regression"
   ]
  },
  {
   "cell_type": "code",
   "execution_count": 39,
   "id": "a23872cd-4d58-4e4b-a9d5-4080b89d9271",
   "metadata": {},
   "outputs": [
    {
     "name": "stdout",
     "output_type": "stream",
     "text": [
      "-----------Logistic Regression----------\n",
      "Confusion Matrix: \n",
      "Accuracy :  77.16427872898589\n",
      "Report :                precision    recall  f1-score   support\n",
      "\n",
      "           0       1.00      0.55      0.71     32559\n",
      "           1       0.68      1.00      0.81     31862\n",
      "\n",
      "    accuracy                           0.77     64421\n",
      "   macro avg       0.84      0.77      0.76     64421\n",
      "weighted avg       0.84      0.77      0.76     64421\n",
      "\n"
     ]
    },
    {
     "data": {
      "image/png": "[encoded data removed]",
      "text/plain": [
       "<Figure size 432x288 with 2 Axes>"
      ]
     },
     "metadata": {
      "needs_background": "light"
     },
     "output_type": "display_data"
    }
   ],
   "source": [
    "#Logistic Regression\n",
    "print(\"-----------Logistic Regression----------\")\n",
    "from sklearn.linear_model import LogisticRegression\n",
    "logreg = LogisticRegression(solver='lbfgs', random_state = 0)\n",
    "logreg.fit(X_train, y_train)\n",
    "y_pred_lr = logreg.predict(X_test)\n",
    "cal_accuracy(y_test, y_pred_lr)"
   ]
  },
  {
   "cell_type": "markdown",
   "id": "100c8e13-17ac-4398-b50b-d87081f8293c",
   "metadata": {},
   "source": [
    "## SVM"
   ]
  },
  {
   "cell_type": "code",
   "execution_count": 41,
   "id": "553168ff-ed30-43c7-9dee-dac355f8ab01",
   "metadata": {},
   "outputs": [
    {
     "name": "stdout",
     "output_type": "stream",
     "text": [
      "-----------Support Vector Machine----------\n",
      "Confusion Matrix: \n",
      "Accuracy :  95.51233293491252\n",
      "Report :                precision    recall  f1-score   support\n",
      "\n",
      "           0       1.00      0.91      0.95     32559\n",
      "           1       0.92      1.00      0.96     31862\n",
      "\n",
      "    accuracy                           0.96     64421\n",
      "   macro avg       0.96      0.96      0.96     64421\n",
      "weighted avg       0.96      0.96      0.96     64421\n",
      "\n"
     ]
    },
    {
     "data": {
      "image/png": "[encoded data removed]",
      "text/plain": [
       "<Figure size 432x288 with 2 Axes>"
      ]
     },
     "metadata": {
      "needs_background": "light"
     },
     "output_type": "display_data"
    }
   ],
   "source": [
    "#Support Vector Machine\n",
    "print(\"-----------Support Vector Machine----------\")\n",
    "from sklearn.svm import SVC\n",
    "clf = SVC(kernel = 'poly', random_state = 0)\n",
    "clf.fit(X_train, y_train)\n",
    "y_pred_svc = clf.predict(X_test)\n",
    "cal_accuracy(y_test, y_pred_svc)"
   ]
  }
 ],
 "metadata": {
  "kernelspec": {
   "display_name": "prim_ml",
   "language": "python",
   "name": "prim_ml"
  },
  "language_info": {
   "codemirror_mode": {
    "name": "ipython",
    "version": 3
   },
   "file_extension": ".py",
   "mimetype": "text/x-python",
   "name": "python",
   "nbconvert_exporter": "python",
   "pygments_lexer": "ipython3",
   "version": "3.8.10"
  }
 },
 "nbformat": 4,
 "nbformat_minor": 5
}
