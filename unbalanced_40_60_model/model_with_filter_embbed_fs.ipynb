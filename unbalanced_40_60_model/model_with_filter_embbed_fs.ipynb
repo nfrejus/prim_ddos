{
 "cells": [
  {
   "cell_type": "code",
   "execution_count": 2,
   "id": "88da351b-389c-421b-adc9-7b938adc4b20",
   "metadata": {},
   "outputs": [],
   "source": [
    "import numpy as np\n",
    "import pandas as pd\n",
    "import seaborn as sns\n",
    "import matplotlib.pyplot as plt\n",
    "from sklearn.utils import shuffle\n",
    "from sklearn.metrics import confusion_matrix, accuracy_score,  classification_report\n",
    "from sklearn.model_selection import train_test_split\n",
    "from sklearn.metrics import ConfusionMatrixDisplay\n",
    "from sklearn.preprocessing import StandardScaler\n",
    "from sklearn.model_selection import GridSearchCV,StratifiedKFold\n",
    "from sklearn.metrics import roc_curve, roc_auc_score\n",
    "from sklearn import preprocessing\n",
    "import ipaddress\n",
    "\n",
    "import warnings\n",
    "warnings.simplefilter('ignore')"
   ]
  },
  {
   "cell_type": "markdown",
   "id": "f79ce844-2a87-4844-b838-4757ce10c000",
   "metadata": {},
   "source": [
    "## Data preprocessing"
   ]
  },
  {
   "cell_type": "code",
   "execution_count": 3,
   "id": "4052382a-dd5a-4c21-b12a-fbad482a594b",
   "metadata": {},
   "outputs": [],
   "source": [
    "#DATADIR = '/home/infres/abiapo/prim/data'\n",
    "DATADIR = '/home/infres/sagbo-21/Documents/PRIM/PRIM/data'"
   ]
  },
  {
   "cell_type": "code",
   "execution_count": 4,
   "id": "0b1746bb-76b2-4d8f-8d78-2bce0015bf75",
   "metadata": {},
   "outputs": [
    {
     "data": {
      "text/html": [
       "<div>\n",
       "<style scoped>\n",
       "    .dataframe tbody tr th:only-of-type {\n",
       "        vertical-align: middle;\n",
       "    }\n",
       "\n",
       "    .dataframe tbody tr th {\n",
       "        vertical-align: top;\n",
       "    }\n",
       "\n",
       "    .dataframe thead th {\n",
       "        text-align: right;\n",
       "    }\n",
       "</style>\n",
       "<table border=\"1\" class=\"dataframe\">\n",
       "  <thead>\n",
       "    <tr style=\"text-align: right;\">\n",
       "      <th></th>\n",
       "      <th>Unnamed:_0</th>\n",
       "      <th>Flow_ID</th>\n",
       "      <th>Source_IP</th>\n",
       "      <th>Source_Port</th>\n",
       "      <th>Destination_IP</th>\n",
       "      <th>Destination_Port</th>\n",
       "      <th>Protocol</th>\n",
       "      <th>Timestamp</th>\n",
       "      <th>Flow_Duration</th>\n",
       "      <th>Total_Fwd_Packets</th>\n",
       "      <th>...</th>\n",
       "      <th>Active_Max</th>\n",
       "      <th>Active_Min</th>\n",
       "      <th>Idle_Mean</th>\n",
       "      <th>Idle_Std</th>\n",
       "      <th>Idle_Max</th>\n",
       "      <th>Idle_Min</th>\n",
       "      <th>SimillarHTTP</th>\n",
       "      <th>Inbound</th>\n",
       "      <th>Label</th>\n",
       "      <th>label</th>\n",
       "    </tr>\n",
       "  </thead>\n",
       "  <tbody>\n",
       "    <tr>\n",
       "      <th>0</th>\n",
       "      <td>63090</td>\n",
       "      <td>172.16.0.5-192.168.50.1-53886-52313-17</td>\n",
       "      <td>172.16.0.5</td>\n",
       "      <td>53886</td>\n",
       "      <td>192.168.50.1</td>\n",
       "      <td>52313</td>\n",
       "      <td>17</td>\n",
       "      <td>2018-12-01 12:55:39.691985</td>\n",
       "      <td>1</td>\n",
       "      <td>2</td>\n",
       "      <td>...</td>\n",
       "      <td>0.0</td>\n",
       "      <td>0.0</td>\n",
       "      <td>0.0</td>\n",
       "      <td>0.0</td>\n",
       "      <td>0.0</td>\n",
       "      <td>0.0</td>\n",
       "      <td>0</td>\n",
       "      <td>1</td>\n",
       "      <td>DrDoS_UDP</td>\n",
       "      <td>1</td>\n",
       "    </tr>\n",
       "    <tr>\n",
       "      <th>1</th>\n",
       "      <td>331646</td>\n",
       "      <td>172.16.0.5-192.168.50.4-8761-40089-6</td>\n",
       "      <td>172.16.0.5</td>\n",
       "      <td>8761</td>\n",
       "      <td>192.168.50.4</td>\n",
       "      <td>40089</td>\n",
       "      <td>6</td>\n",
       "      <td>2018-11-03 11:29:59.315895</td>\n",
       "      <td>1</td>\n",
       "      <td>2</td>\n",
       "      <td>...</td>\n",
       "      <td>0.0</td>\n",
       "      <td>0.0</td>\n",
       "      <td>0.0</td>\n",
       "      <td>0.0</td>\n",
       "      <td>0.0</td>\n",
       "      <td>0.0</td>\n",
       "      <td>0</td>\n",
       "      <td>1</td>\n",
       "      <td>Syn</td>\n",
       "      <td>1</td>\n",
       "    </tr>\n",
       "    <tr>\n",
       "      <th>2</th>\n",
       "      <td>23868</td>\n",
       "      <td>172.16.0.5-192.168.50.1-62707-26320-17</td>\n",
       "      <td>172.16.0.5</td>\n",
       "      <td>62707</td>\n",
       "      <td>192.168.50.1</td>\n",
       "      <td>26320</td>\n",
       "      <td>17</td>\n",
       "      <td>2018-12-01 13:53:58.779233</td>\n",
       "      <td>6004043</td>\n",
       "      <td>6</td>\n",
       "      <td>...</td>\n",
       "      <td>0.0</td>\n",
       "      <td>0.0</td>\n",
       "      <td>0.0</td>\n",
       "      <td>0.0</td>\n",
       "      <td>0.0</td>\n",
       "      <td>0.0</td>\n",
       "      <td>0</td>\n",
       "      <td>1</td>\n",
       "      <td>TFTP</td>\n",
       "      <td>1</td>\n",
       "    </tr>\n",
       "    <tr>\n",
       "      <th>3</th>\n",
       "      <td>47275</td>\n",
       "      <td>172.16.0.5-192.168.50.1-62519-8952-17</td>\n",
       "      <td>172.16.0.5</td>\n",
       "      <td>62519</td>\n",
       "      <td>192.168.50.1</td>\n",
       "      <td>8952</td>\n",
       "      <td>17</td>\n",
       "      <td>2018-12-01 13:56:35.445012</td>\n",
       "      <td>0</td>\n",
       "      <td>2</td>\n",
       "      <td>...</td>\n",
       "      <td>0.0</td>\n",
       "      <td>0.0</td>\n",
       "      <td>0.0</td>\n",
       "      <td>0.0</td>\n",
       "      <td>0.0</td>\n",
       "      <td>0.0</td>\n",
       "      <td>0</td>\n",
       "      <td>1</td>\n",
       "      <td>TFTP</td>\n",
       "      <td>1</td>\n",
       "    </tr>\n",
       "    <tr>\n",
       "      <th>4</th>\n",
       "      <td>115481</td>\n",
       "      <td>172.16.0.5-192.168.50.1-62543-55990-17</td>\n",
       "      <td>172.16.0.5</td>\n",
       "      <td>62543</td>\n",
       "      <td>192.168.50.1</td>\n",
       "      <td>55990</td>\n",
       "      <td>17</td>\n",
       "      <td>2018-12-01 13:45:14.614697</td>\n",
       "      <td>3001833</td>\n",
       "      <td>4</td>\n",
       "      <td>...</td>\n",
       "      <td>0.0</td>\n",
       "      <td>0.0</td>\n",
       "      <td>0.0</td>\n",
       "      <td>0.0</td>\n",
       "      <td>0.0</td>\n",
       "      <td>0.0</td>\n",
       "      <td>0</td>\n",
       "      <td>1</td>\n",
       "      <td>TFTP</td>\n",
       "      <td>1</td>\n",
       "    </tr>\n",
       "  </tbody>\n",
       "</table>\n",
       "<p>5 rows × 89 columns</p>\n",
       "</div>"
      ],
      "text/plain": [
       "   Unnamed:_0                                 Flow_ID   Source_IP  \\\n",
       "0       63090  172.16.0.5-192.168.50.1-53886-52313-17  172.16.0.5   \n",
       "1      331646    172.16.0.5-192.168.50.4-8761-40089-6  172.16.0.5   \n",
       "2       23868  172.16.0.5-192.168.50.1-62707-26320-17  172.16.0.5   \n",
       "3       47275   172.16.0.5-192.168.50.1-62519-8952-17  172.16.0.5   \n",
       "4      115481  172.16.0.5-192.168.50.1-62543-55990-17  172.16.0.5   \n",
       "\n",
       "   Source_Port Destination_IP  Destination_Port  Protocol  \\\n",
       "0        53886   192.168.50.1             52313        17   \n",
       "1         8761   192.168.50.4             40089         6   \n",
       "2        62707   192.168.50.1             26320        17   \n",
       "3        62519   192.168.50.1              8952        17   \n",
       "4        62543   192.168.50.1             55990        17   \n",
       "\n",
       "                    Timestamp  Flow_Duration  Total_Fwd_Packets  ...  \\\n",
       "0  2018-12-01 12:55:39.691985              1                  2  ...   \n",
       "1  2018-11-03 11:29:59.315895              1                  2  ...   \n",
       "2  2018-12-01 13:53:58.779233        6004043                  6  ...   \n",
       "3  2018-12-01 13:56:35.445012              0                  2  ...   \n",
       "4  2018-12-01 13:45:14.614697        3001833                  4  ...   \n",
       "\n",
       "   Active_Max  Active_Min  Idle_Mean  Idle_Std  Idle_Max  Idle_Min  \\\n",
       "0         0.0         0.0        0.0       0.0       0.0       0.0   \n",
       "1         0.0         0.0        0.0       0.0       0.0       0.0   \n",
       "2         0.0         0.0        0.0       0.0       0.0       0.0   \n",
       "3         0.0         0.0        0.0       0.0       0.0       0.0   \n",
       "4         0.0         0.0        0.0       0.0       0.0       0.0   \n",
       "\n",
       "   SimillarHTTP  Inbound      Label  label  \n",
       "0             0        1  DrDoS_UDP      1  \n",
       "1             0        1        Syn      1  \n",
       "2             0        1       TFTP      1  \n",
       "3             0        1       TFTP      1  \n",
       "4             0        1       TFTP      1  \n",
       "\n",
       "[5 rows x 89 columns]"
      ]
     },
     "execution_count": 4,
     "metadata": {},
     "output_type": "execute_result"
    }
   ],
   "source": [
    "data = pd.read_csv(DATADIR+'/unbalance_mix_data_40_60.csv')\n",
    "data.head()"
   ]
  },
  {
   "cell_type": "code",
   "execution_count": 5,
   "id": "2a792fde-7a7d-4133-bae1-899082cbca8d",
   "metadata": {},
   "outputs": [],
   "source": [
    "data = data.drop(['Unnamed:_0'],axis=1)\n",
    "data['Source_IP'] = data['Source_IP'].apply(lambda ip: int(ipaddress.ip_address(ip)))\n",
    "data['Destination_IP'] = data['Destination_IP'].apply(lambda ip: int(ipaddress.ip_address(ip)))\n",
    "data = data.drop(['Flow_ID'],axis=1)\n",
    "data = data.drop(['Timestamp'],axis=1)\n",
    "data = data.drop(['SimillarHTTP'],axis=1)"
   ]
  },
  {
   "cell_type": "code",
   "execution_count": 6,
   "id": "f5411756-ca5c-439d-8083-857addb60987",
   "metadata": {},
   "outputs": [],
   "source": [
    "data = data[~data.isin([np.nan, np.inf, -np.inf]).any(1)]"
   ]
  },
  {
   "cell_type": "code",
   "execution_count": 7,
   "id": "ed112190-2adb-4c31-ab0c-ef5380bdb113",
   "metadata": {},
   "outputs": [],
   "source": [
    "X = data.iloc[:,:-2]\n",
    "y = data.iloc[:,-1].to_numpy()"
   ]
  },
  {
   "cell_type": "code",
   "execution_count": 8,
   "id": "0b6516d1-6706-4e24-b3a9-f9efbd8c3b14",
   "metadata": {},
   "outputs": [],
   "source": [
    "principal_feature = ['Inbound', 'URG_Flag_Count', 'Min_Packet_Length', 'Destination_IP', \n",
    "                     'CWE_Flag_Count', 'Destination_Port', 'Protocol', 'Avg_Fwd_Segment_Size', \n",
    "                     'Average_Packet_Size', 'Flow_Packets_s', 'Fwd_Packets_s', 'Fwd_Packet_Length_Mean', \n",
    "                     'Flow_Bytes_s', 'Fwd_PSH_Flags', 'Packet_Length_Mean', 'Fwd_Packet_Length_Min', \n",
    "                     'Down_Up_Ratio', 'RST_Flag_Count', 'Fwd_Packet_Length_Max', 'Init_Win_bytes_forward']"
   ]
  },
  {
   "cell_type": "code",
   "execution_count": 9,
   "id": "1009186d-0226-468e-83d7-512e42342800",
   "metadata": {},
   "outputs": [],
   "source": [
    "X = X[principal_feature]"
   ]
  },
  {
   "cell_type": "markdown",
   "id": "80a8d0ad-88f0-44e6-a64a-15d31432326f",
   "metadata": {
    "tags": []
   },
   "source": [
    "## Models"
   ]
  },
  {
   "cell_type": "code",
   "execution_count": 10,
   "id": "d5a69587-675c-4d5e-ad04-1579e5fb3d2b",
   "metadata": {},
   "outputs": [],
   "source": [
    "def cal_accuracy(y_test, y_pred): \n",
    "    print(\"Confusion Matrix: \")\n",
    "    ConfusionMatrixDisplay.from_predictions(y_test, y_pred)\n",
    "    print (\"Accuracy : \", accuracy_score(y_test,y_pred)*100) \n",
    "    print(\"Report : \", classification_report(y_test, y_pred))"
   ]
  },
  {
   "cell_type": "code",
   "execution_count": 11,
   "id": "b8f4f91d-88f7-4d44-b960-f7a3ce3aaa16",
   "metadata": {},
   "outputs": [],
   "source": [
    "X_train, X_test, y_train, y_test = train_test_split(X, y, test_size = 0.3, random_state = 42)   "
   ]
  },
  {
   "cell_type": "code",
   "execution_count": 12,
   "id": "92d5b037-39a6-4b7a-ac0e-522bd490534f",
   "metadata": {},
   "outputs": [],
   "source": [
    "std_scaler = StandardScaler()\n",
    "std_scaler.fit(X_train)\n",
    "X_train = std_scaler.transform(X_train)\n",
    "X_test = std_scaler.transform(X_test)"
   ]
  },
  {
   "cell_type": "markdown",
   "id": "af751e38-6d5a-40bf-a213-dd6408f950ae",
   "metadata": {},
   "source": [
    "#### Decision Tree"
   ]
  },
  {
   "cell_type": "code",
   "execution_count": 13,
   "id": "045ede4c-c29d-4ccd-94a3-957f8188ed41",
   "metadata": {},
   "outputs": [
    {
     "name": "stdout",
     "output_type": "stream",
     "text": [
      "Confusion Matrix: \n",
      "Accuracy :  99.98755739153155\n",
      "Report :                precision    recall  f1-score   support\n",
      "\n",
      "           0       1.00      1.00      1.00     32546\n",
      "           1       1.00      1.00      1.00     47823\n",
      "\n",
      "    accuracy                           1.00     80369\n",
      "   macro avg       1.00      1.00      1.00     80369\n",
      "weighted avg       1.00      1.00      1.00     80369\n",
      "\n"
     ]
    },
    {
     "data": {
      "image/png": "[encoded data removed]",
      "text/plain": [
       "<Figure size 432x288 with 2 Axes>"
      ]
     },
     "metadata": {
      "needs_background": "light"
     },
     "output_type": "display_data"
    }
   ],
   "source": [
    "from sklearn.tree import DecisionTreeClassifier \n",
    "clf_entropy = DecisionTreeClassifier(criterion = 'entropy', random_state = 0)\n",
    "clf_entropy.fit(X_train, y_train) \n",
    "y_pred_entropy = clf_entropy.predict(X_test)\n",
    "cal_accuracy(y_test, y_pred_entropy)"
   ]
  },
  {
   "cell_type": "markdown",
   "id": "1bd77758-b309-4752-a83b-b7a582a019b5",
   "metadata": {},
   "source": [
    "#### Naive Bayes"
   ]
  },
  {
   "cell_type": "code",
   "execution_count": 14,
   "id": "55cea6ea-d8c0-4ab5-b5dd-df537d809586",
   "metadata": {},
   "outputs": [
    {
     "name": "stdout",
     "output_type": "stream",
     "text": [
      "Confusion Matrix: \n",
      "Accuracy :  98.20950864139158\n",
      "Report :                precision    recall  f1-score   support\n",
      "\n",
      "           0       0.96      0.99      0.98     32546\n",
      "           1       1.00      0.97      0.98     47823\n",
      "\n",
      "    accuracy                           0.98     80369\n",
      "   macro avg       0.98      0.98      0.98     80369\n",
      "weighted avg       0.98      0.98      0.98     80369\n",
      "\n"
     ]
    },
    {
     "data": {
      "image/png": "[encoded data removed]",
      "text/plain": [
       "<Figure size 432x288 with 2 Axes>"
      ]
     },
     "metadata": {
      "needs_background": "light"
     },
     "output_type": "display_data"
    }
   ],
   "source": [
    "from sklearn.naive_bayes import GaussianNB \n",
    "gnb = GaussianNB() \n",
    "gnb.fit(X_train, y_train) \n",
    "y_pred_nb = gnb.predict(X_test)\n",
    "cal_accuracy(y_test, y_pred_nb)"
   ]
  },
  {
   "cell_type": "code",
   "execution_count": 15,
   "id": "4a46eca9-d3c2-4c74-8db9-2af27faea889",
   "metadata": {},
   "outputs": [
    {
     "name": "stdout",
     "output_type": "stream",
     "text": [
      "0.9998660018927541 0.9991265355085656\n"
     ]
    }
   ],
   "source": [
    "pred_prob_dt = clf_entropy.predict_proba(X_test)\n",
    "pred_prob_nb = gnb.predict_proba(X_test)\n",
    "\n",
    "# roc curve for models\n",
    "fpr_dt, tpr_dt, thresh_dt = roc_curve(y_test, pred_prob_dt[:,1], pos_label=1)\n",
    "fpr_nb, tpr_nb, thresh_nb = roc_curve(y_test, pred_prob_nb[:,1], pos_label=1)\n",
    "\n",
    "# roc curve for tpr = fpr \n",
    "random_probs = [0 for i in range(len(y_test))]\n",
    "p_fpr, p_tpr, _ = roc_curve(y_test, random_probs, pos_label=1)\n",
    "\n",
    "\n",
    "# auc scores\n",
    "auc_score_dt = roc_auc_score(y_test, pred_prob_dt[:,1])\n",
    "auc_score_nb = roc_auc_score(y_test, pred_prob_nb[:,1])\n",
    "\n",
    "print(auc_score_dt, auc_score_nb)"
   ]
  },
  {
   "cell_type": "code",
   "execution_count": 16,
   "id": "e85036ab-3dc9-46b8-b096-41222c065342",
   "metadata": {},
   "outputs": [
    {
     "data": {
      "image/png": "[encoded data removed]",
      "text/plain": [
       "<Figure size 432x288 with 1 Axes>"
      ]
     },
     "metadata": {
      "needs_background": "light"
     },
     "output_type": "display_data"
    }
   ],
   "source": [
    "# plot roc curves\n",
    "plt.plot(fpr_dt, tpr_dt, linestyle='--',color='orange', label='Decision Tree')\n",
    "plt.plot(fpr_nb, tpr_nb, linestyle='--',color='green', label='Naive Bayes')\n",
    "plt.plot(p_fpr, p_tpr, linestyle='--', color='blue')\n",
    "# title\n",
    "plt.title('ROC curve')\n",
    "# x label\n",
    "plt.xlabel('False Positive Rate')\n",
    "# y label\n",
    "plt.ylabel('True Positive rate')\n",
    "\n",
    "plt.legend(loc='best')\n",
    "plt.show();"
   ]
  },
  {
   "cell_type": "markdown",
   "id": "e19fb966-f269-4e04-ae43-f104027e9008",
   "metadata": {},
   "source": [
    "#### Logistic Regression"
   ]
  },
  {
   "cell_type": "code",
   "execution_count": 17,
   "id": "cc51b671-a77d-403c-8a3e-0bdeebb57a34",
   "metadata": {},
   "outputs": [
    {
     "name": "stdout",
     "output_type": "stream",
     "text": [
      "Confusion Matrix: \n",
      "Accuracy :  99.7337281787754\n",
      "Report :                precision    recall  f1-score   support\n",
      "\n",
      "           0       1.00      0.99      1.00     32546\n",
      "           1       1.00      1.00      1.00     47823\n",
      "\n",
      "    accuracy                           1.00     80369\n",
      "   macro avg       1.00      1.00      1.00     80369\n",
      "weighted avg       1.00      1.00      1.00     80369\n",
      "\n"
     ]
    },
    {
     "data": {
      "image/png": "[encoded data removed]",
      "text/plain": [
       "<Figure size 432x288 with 2 Axes>"
      ]
     },
     "metadata": {
      "needs_background": "light"
     },
     "output_type": "display_data"
    }
   ],
   "source": [
    "from sklearn.linear_model import LogisticRegression\n",
    "logreg = LogisticRegression(solver='lbfgs', random_state = 0)\n",
    "logreg.fit(X_train, y_train)\n",
    "y_pred_lr = logreg.predict(X_test)\n",
    "cal_accuracy(y_test, y_pred_lr)"
   ]
  },
  {
   "cell_type": "markdown",
   "id": "cc07d54f-d303-438c-808a-c17378b9d8d3",
   "metadata": {},
   "source": [
    "#### Support Vector Machine with gaussian kernel"
   ]
  },
  {
   "cell_type": "code",
   "execution_count": 18,
   "id": "b96e85bd-9449-409f-ab69-3893699d7999",
   "metadata": {},
   "outputs": [
    {
     "name": "stdout",
     "output_type": "stream",
     "text": [
      "Confusion Matrix: \n",
      "Accuracy :  99.97760330475681\n",
      "Report :                precision    recall  f1-score   support\n",
      "\n",
      "           0       1.00      1.00      1.00     32546\n",
      "           1       1.00      1.00      1.00     47823\n",
      "\n",
      "    accuracy                           1.00     80369\n",
      "   macro avg       1.00      1.00      1.00     80369\n",
      "weighted avg       1.00      1.00      1.00     80369\n",
      "\n"
     ]
    },
    {
     "data": {
      "image/png": "[encoded data removed]",
      "text/plain": [
       "<Figure size 432x288 with 2 Axes>"
      ]
     },
     "metadata": {
      "needs_background": "light"
     },
     "output_type": "display_data"
    }
   ],
   "source": [
    "from sklearn.svm import SVC\n",
    "clf_svm = SVC(kernel = 'rbf', random_state = 0,C=10.0, gamma=0.1,probability= True)\n",
    "clf_svm.fit(X_train, y_train)\n",
    "y_pred_svc = clf_svm.predict(X_test)\n",
    "cal_accuracy(y_test, y_pred_svc)"
   ]
  },
  {
   "cell_type": "code",
   "execution_count": 19,
   "id": "218e1902-4eeb-46f9-a38d-ed566e76167f",
   "metadata": {},
   "outputs": [
    {
     "name": "stdout",
     "output_type": "stream",
     "text": [
      "0.9997474620661086 0.9999410079630846\n"
     ]
    }
   ],
   "source": [
    "pred_prob_logreg = logreg.predict_proba(X_test)\n",
    "pred_prob_svm = clf_svm.predict_proba(X_test)\n",
    "\n",
    "# roc curve for models\n",
    "fpr_logreg, tpr_logreg, thresh_logreg = roc_curve(y_test, pred_prob_logreg[:,1], pos_label=1)\n",
    "fpr_svm, tpr_svm, thresh_svm = roc_curve(y_test, pred_prob_svm[:,1], pos_label=1)\n",
    "\n",
    "# roc curve for tpr = fpr \n",
    "random_probs = [0 for i in range(len(y_test))]\n",
    "p_fpr, p_tpr, _ = roc_curve(y_test, random_probs, pos_label=1)\n",
    "\n",
    "\n",
    "# auc scores\n",
    "auc_score_logreg = roc_auc_score(y_test, pred_prob_logreg[:,1])\n",
    "auc_score_svm = roc_auc_score(y_test, pred_prob_svm[:,1])\n",
    "\n",
    "print(auc_score_logreg, auc_score_svm)"
   ]
  },
  {
   "cell_type": "code",
   "execution_count": 20,
   "id": "f184aded-5100-4df7-af25-a5475e1a9027",
   "metadata": {},
   "outputs": [
    {
     "data": {
      "image/png": "[encoded data removed]",
      "text/plain": [
       "<Figure size 432x288 with 1 Axes>"
      ]
     },
     "metadata": {
      "needs_background": "light"
     },
     "output_type": "display_data"
    }
   ],
   "source": [
    "# plot roc curves\n",
    "plt.plot(fpr_logreg, tpr_logreg, linestyle='--',color='orange', label='Logistic Regression')\n",
    "plt.plot(fpr_svm, tpr_svm, linestyle='--',color='green', label='SVM')\n",
    "plt.plot(p_fpr, p_tpr, linestyle='--', color='blue')\n",
    "# title\n",
    "plt.title('ROC curve')\n",
    "# x label\n",
    "plt.xlabel('False Positive Rate')\n",
    "# y label\n",
    "plt.ylabel('True Positive rate')\n",
    "\n",
    "plt.legend(loc='best')\n",
    "plt.show();"
   ]
  },
  {
   "cell_type": "markdown",
   "id": "0315fbff-4c08-4437-a596-98acdc23aec9",
   "metadata": {},
   "source": [
    "#### K Nearest Neighbor"
   ]
  },
  {
   "cell_type": "code",
   "execution_count": 21,
   "id": "5006ad79-f632-4fb1-b112-bc75580958e8",
   "metadata": {},
   "outputs": [
    {
     "name": "stdout",
     "output_type": "stream",
     "text": [
      "Confusion Matrix: \n",
      "Accuracy :  99.9800918264505\n",
      "Report :                precision    recall  f1-score   support\n",
      "\n",
      "           0       1.00      1.00      1.00     32546\n",
      "           1       1.00      1.00      1.00     47823\n",
      "\n",
      "    accuracy                           1.00     80369\n",
      "   macro avg       1.00      1.00      1.00     80369\n",
      "weighted avg       1.00      1.00      1.00     80369\n",
      "\n"
     ]
    },
    {
     "data": {
      "image/png": "[encoded data removed]",
      "text/plain": [
       "<Figure size 432x288 with 2 Axes>"
      ]
     },
     "metadata": {
      "needs_background": "light"
     },
     "output_type": "display_data"
    }
   ],
   "source": [
    "from sklearn.neighbors import KNeighborsClassifier\n",
    "knn = KNeighborsClassifier(n_neighbors = 5, metric = 'minkowski', p = 2)\n",
    "knn.fit(X_train, y_train)\n",
    "y_pred_knn = knn.predict(X_test)\n",
    "cal_accuracy(y_test, y_pred_knn)"
   ]
  },
  {
   "cell_type": "markdown",
   "id": "41d935e2-d41e-4650-98ad-2613cd2e4b5c",
   "metadata": {},
   "source": [
    "#### Random Forest"
   ]
  },
  {
   "cell_type": "code",
   "execution_count": 22,
   "id": "d223f28a-3313-42a7-a07d-f2a9eb09bd4b",
   "metadata": {},
   "outputs": [
    {
     "name": "stdout",
     "output_type": "stream",
     "text": [
      "Confusion Matrix: \n",
      "Accuracy :  99.99004591322525\n",
      "Report :                precision    recall  f1-score   support\n",
      "\n",
      "           0       1.00      1.00      1.00     32546\n",
      "           1       1.00      1.00      1.00     47823\n",
      "\n",
      "    accuracy                           1.00     80369\n",
      "   macro avg       1.00      1.00      1.00     80369\n",
      "weighted avg       1.00      1.00      1.00     80369\n",
      "\n"
     ]
    },
    {
     "data": {
      "image/png": "[encoded data removed]",
      "text/plain": [
       "<Figure size 432x288 with 2 Axes>"
      ]
     },
     "metadata": {
      "needs_background": "light"
     },
     "output_type": "display_data"
    }
   ],
   "source": [
    "from sklearn.ensemble import RandomForestClassifier\n",
    "rndForest =RandomForestClassifier(n_estimators = 100, criterion = 'entropy', random_state = 0)\n",
    "rndForest.fit(X_train,y_train)\n",
    "y_pred_rf = rndForest.predict(X_test)\n",
    "cal_accuracy(y_test, y_pred_rf)"
   ]
  },
  {
   "cell_type": "code",
   "execution_count": 23,
   "id": "6de1d0e4-2e53-4f8c-9de0-6943630f83b3",
   "metadata": {},
   "outputs": [
    {
     "name": "stdout",
     "output_type": "stream",
     "text": [
      "0.9998966701320329 0.9999845362582446\n"
     ]
    }
   ],
   "source": [
    "pred_prob_knn = knn.predict_proba(X_test)\n",
    "pred_prob_rf = rndForest.predict_proba(X_test)\n",
    "\n",
    "# roc curve for models\n",
    "fpr_knn, tpr_knn, thresh_knn = roc_curve(y_test, pred_prob_knn[:,1], pos_label=1)\n",
    "fpr_rf, tpr_rf, thresh_rf = roc_curve(y_test, pred_prob_rf[:,1], pos_label=1)\n",
    "\n",
    "# roc curve for tpr = fpr \n",
    "random_probs = [0 for i in range(len(y_test))]\n",
    "p_fpr, p_tpr, _ = roc_curve(y_test, random_probs, pos_label=1)\n",
    "\n",
    "\n",
    "# auc scores\n",
    "auc_score_knn = roc_auc_score(y_test, pred_prob_knn[:,1])\n",
    "auc_score_rf = roc_auc_score(y_test, pred_prob_rf[:,1])\n",
    "\n",
    "print(auc_score_knn, auc_score_rf)"
   ]
  },
  {
   "cell_type": "code",
   "execution_count": 24,
   "id": "aa2fa8fb-335b-4917-a1da-1bd23e795a09",
   "metadata": {},
   "outputs": [
    {
     "data": {
      "image/png": "[encoded data removed]",
      "text/plain": [
       "<Figure size 432x288 with 1 Axes>"
      ]
     },
     "metadata": {
      "needs_background": "light"
     },
     "output_type": "display_data"
    }
   ],
   "source": [
    "# plot roc curves\n",
    "plt.plot(fpr_knn, tpr_knn, linestyle='--',color='orange', label='KNN')\n",
    "plt.plot(fpr_rf, tpr_rf, linestyle='--',color='green', label='Random Forest')\n",
    "plt.plot(p_fpr, p_tpr, linestyle='--', color='blue')\n",
    "# title\n",
    "plt.title('ROC curve')\n",
    "# x label\n",
    "plt.xlabel('False Positive Rate')\n",
    "# y label\n",
    "plt.ylabel('True Positive rate')\n",
    "\n",
    "plt.legend(loc='best')\n",
    "plt.show();"
   ]
  },
  {
   "cell_type": "markdown",
   "id": "110a161f-01dd-4e8a-aaa8-7aafde5962f1",
   "metadata": {},
   "source": [
    " #### LightGBM"
   ]
  },
  {
   "cell_type": "code",
   "execution_count": 25,
   "id": "77da692f-ed56-4ee0-b088-b2ab570cc3a7",
   "metadata": {},
   "outputs": [
    {
     "name": "stdout",
     "output_type": "stream",
     "text": [
      "Confusion Matrix: \n",
      "Accuracy :  99.99377869576578\n",
      "Report :                precision    recall  f1-score   support\n",
      "\n",
      "           0       1.00      1.00      1.00     32546\n",
      "           1       1.00      1.00      1.00     47823\n",
      "\n",
      "    accuracy                           1.00     80369\n",
      "   macro avg       1.00      1.00      1.00     80369\n",
      "weighted avg       1.00      1.00      1.00     80369\n",
      "\n"
     ]
    },
    {
     "data": {
      "image/png": "[encoded data removed]",
      "text/plain": [
       "<Figure size 432x288 with 2 Axes>"
      ]
     },
     "metadata": {
      "needs_background": "light"
     },
     "output_type": "display_data"
    }
   ],
   "source": [
    "from lightgbm import LGBMClassifier\n",
    "lgb = LGBMClassifier()\n",
    "lgb.fit(X_train, y_train)\n",
    "y_pred_lgb = lgb.predict(X_test)\n",
    "cal_accuracy(y_test, y_pred_lgb)"
   ]
  },
  {
   "cell_type": "code",
   "execution_count": 26,
   "id": "f341e3bc-c0d7-40e3-8a89-08d05346de9a",
   "metadata": {},
   "outputs": [
    {
     "name": "stdout",
     "output_type": "stream",
     "text": [
      "Training set score: 1.0000\n",
      "Test set score: 0.9999\n"
     ]
    }
   ],
   "source": [
    "print('Training set score: {:.4f}'.format(lgb.score(X_train, y_train)))\n",
    "\n",
    "print('Test set score: {:.4f}'.format(lgb.score(X_test, y_test)))"
   ]
  },
  {
   "cell_type": "markdown",
   "id": "a1ce7e41-07a7-4e50-934d-bc0ca0065530",
   "metadata": {},
   "source": [
    "#### XGBoost"
   ]
  },
  {
   "cell_type": "code",
   "execution_count": 27,
   "id": "e2c490c1-0c90-474b-a07f-046f17576da8",
   "metadata": {},
   "outputs": [
    {
     "name": "stdout",
     "output_type": "stream",
     "text": [
      "Confusion Matrix: \n",
      "Accuracy :  99.99253443491894\n",
      "Report :                precision    recall  f1-score   support\n",
      "\n",
      "           0       1.00      1.00      1.00     32546\n",
      "           1       1.00      1.00      1.00     47823\n",
      "\n",
      "    accuracy                           1.00     80369\n",
      "   macro avg       1.00      1.00      1.00     80369\n",
      "weighted avg       1.00      1.00      1.00     80369\n",
      "\n"
     ]
    },
    {
     "data": {
      "image/png": "[encoded data removed]",
      "text/plain": [
       "<Figure size 432x288 with 2 Axes>"
      ]
     },
     "metadata": {
      "needs_background": "light"
     },
     "output_type": "display_data"
    }
   ],
   "source": [
    "from xgboost import XGBClassifier\n",
    "xgb = XGBClassifier()\n",
    "xgb.fit(X_train, y_train)\n",
    "y_pred_xgb = xgb.predict(X_test)\n",
    "cal_accuracy(y_test, y_pred_xgb)"
   ]
  },
  {
   "cell_type": "code",
   "execution_count": 28,
   "id": "90fbfc32-6a4d-4870-8de5-e3e16c94fa1d",
   "metadata": {},
   "outputs": [
    {
     "name": "stdout",
     "output_type": "stream",
     "text": [
      "Training set score: 1.0000\n",
      "Test set score: 0.9999\n"
     ]
    }
   ],
   "source": [
    "print('Training set score: {:.4f}'.format(xgb.score(X_train, y_train)))\n",
    "\n",
    "print('Test set score: {:.4f}'.format(xgb.score(X_test, y_test)))"
   ]
  },
  {
   "cell_type": "code",
   "execution_count": 29,
   "id": "5cd6505c-0e64-4137-be3e-754283130aef",
   "metadata": {},
   "outputs": [
    {
     "name": "stdout",
     "output_type": "stream",
     "text": [
      "0.9999972919096953 0.9999489998813051\n"
     ]
    }
   ],
   "source": [
    "pred_prob_xgb = xgb.predict_proba(X_test)\n",
    "pred_prob_lgb = lgb.predict_proba(X_test)\n",
    "\n",
    "# roc curve for models\n",
    "fpr_xgb, tpr_xgb, thresh_xgb = roc_curve(y_test, pred_prob_xgb[:,1], pos_label=1)\n",
    "fpr_lgb, tpr_lgb, thresh_lgb = roc_curve(y_test, pred_prob_lgb[:,1], pos_label=1)\n",
    "\n",
    "# roc curve for tpr = fpr \n",
    "random_probs = [0 for i in range(len(y_test))]\n",
    "p_fpr, p_tpr, _ = roc_curve(y_test, random_probs, pos_label=1)\n",
    "\n",
    "\n",
    "# auc scores\n",
    "auc_score_xgb = roc_auc_score(y_test, pred_prob_xgb[:,1])\n",
    "auc_score_lgb = roc_auc_score(y_test, pred_prob_lgb[:,1])\n",
    "\n",
    "print(auc_score_xgb, auc_score_lgb)"
   ]
  },
  {
   "cell_type": "code",
   "execution_count": 30,
   "id": "b1cdb131-9d28-4699-a72f-caecd8ca0bf6",
   "metadata": {},
   "outputs": [
    {
     "data": {
      "image/png": "[encoded data removed]",
      "text/plain": [
       "<Figure size 432x288 with 1 Axes>"
      ]
     },
     "metadata": {
      "needs_background": "light"
     },
     "output_type": "display_data"
    }
   ],
   "source": [
    "# plot roc curves\n",
    "plt.plot(fpr_xgb, tpr_xgb, linestyle='--',color='orange', label='Xgboost')\n",
    "plt.plot(fpr_lgb, tpr_lgb, linestyle='--',color='green', label='Lightgbm')\n",
    "plt.plot(p_fpr, p_tpr, linestyle='--', color='blue')\n",
    "# title\n",
    "plt.title('ROC curve')\n",
    "# x label\n",
    "plt.xlabel('False Positive Rate')\n",
    "# y label\n",
    "plt.ylabel('True Positive rate')\n",
    "\n",
    "plt.legend(loc='best')\n",
    "plt.show();"
   ]
  },
  {
   "cell_type": "markdown",
   "id": "54ae2030-738a-48a2-85bf-8686e534b309",
   "metadata": {},
   "source": [
    "#### Multi Layer Perceptron"
   ]
  },
  {
   "cell_type": "code",
   "execution_count": 31,
   "id": "4867b16c-cc52-4e75-9d41-f350bcd59acf",
   "metadata": {},
   "outputs": [
    {
     "name": "stdout",
     "output_type": "stream",
     "text": [
      "Confusion Matrix: \n",
      "Accuracy :  99.9825803481442\n",
      "Report :                precision    recall  f1-score   support\n",
      "\n",
      "           0       1.00      1.00      1.00     32546\n",
      "           1       1.00      1.00      1.00     47823\n",
      "\n",
      "    accuracy                           1.00     80369\n",
      "   macro avg       1.00      1.00      1.00     80369\n",
      "weighted avg       1.00      1.00      1.00     80369\n",
      "\n"
     ]
    },
    {
     "data": {
      "image/png": "[encoded data removed]",
      "text/plain": [
       "<Figure size 432x288 with 2 Axes>"
      ]
     },
     "metadata": {
      "needs_background": "light"
     },
     "output_type": "display_data"
    }
   ],
   "source": [
    "from sklearn.neural_network import MLPClassifier\n",
    "mlp_clf = MLPClassifier(hidden_layer_sizes=(150,100),\n",
    "                        max_iter = 300,activation = 'relu',\n",
    "                        solver = 'adam')\n",
    "mlp_clf.fit(X_train, y_train)\n",
    "y_pred_mlp = mlp_clf.predict(X_test)\n",
    "cal_accuracy(y_test, y_pred_mlp)"
   ]
  },
  {
   "cell_type": "code",
   "execution_count": 32,
   "id": "415cc733-fade-4d06-bf69-b3655d2605d1",
   "metadata": {},
   "outputs": [
    {
     "data": {
      "image/png": "[encoded data removed]",
      "text/plain": [
       "<Figure size 432x288 with 1 Axes>"
      ]
     },
     "metadata": {
      "needs_background": "light"
     },
     "output_type": "display_data"
    }
   ],
   "source": [
    "plt.plot(mlp_clf.loss_curve_)\n",
    "plt.title(\"Loss Curve\", fontsize=14)\n",
    "plt.xlabel('Iterations')\n",
    "plt.ylabel('Cost')\n",
    "plt.show()"
   ]
  },
  {
   "cell_type": "code",
   "execution_count": 33,
   "id": "3a9ec271-8de5-47b4-a34f-0e8066cd80a1",
   "metadata": {},
   "outputs": [
    {
     "name": "stdout",
     "output_type": "stream",
     "text": [
      "Training set score: 0.9999\n",
      "Test set score: 0.9998\n"
     ]
    }
   ],
   "source": [
    "print('Training set score: {:.4f}'.format(mlp_clf.score(X_train, y_train)))\n",
    "\n",
    "print('Test set score: {:.4f}'.format(mlp_clf.score(X_test, y_test)))"
   ]
  },
  {
   "cell_type": "code",
   "execution_count": 34,
   "id": "15c43df7-876c-48fd-b123-fb0a6ab85e5b",
   "metadata": {},
   "outputs": [
    {
     "name": "stdout",
     "output_type": "stream",
     "text": [
      "0.9999794769801653\n"
     ]
    }
   ],
   "source": [
    "pred_prob_mlp = mlp_clf.predict_proba(X_test)\n",
    "\n",
    "# roc curve for models\n",
    "fpr_mlp, tpr_mlp, thresh_mlp = roc_curve(y_test, pred_prob_mlp[:,1], pos_label=1)\n",
    "\n",
    "# roc curve for tpr = fpr \n",
    "random_probs = [0 for i in range(len(y_test))]\n",
    "p_fpr, p_tpr, _ = roc_curve(y_test, random_probs, pos_label=1)\n",
    "\n",
    "\n",
    "# auc scores\n",
    "auc_score_mlp = roc_auc_score(y_test, pred_prob_mlp[:,1])\n",
    "\n",
    "print(auc_score_mlp)"
   ]
  },
  {
   "cell_type": "code",
   "execution_count": 35,
   "id": "9d176f2f-7a90-4957-94be-61975a02b376",
   "metadata": {},
   "outputs": [
    {
     "data": {
      "image/png": "[encoded data removed]",
      "text/plain": [
       "<Figure size 432x288 with 1 Axes>"
      ]
     },
     "metadata": {
      "needs_background": "light"
     },
     "output_type": "display_data"
    }
   ],
   "source": [
    "# plot roc curves\n",
    "plt.plot(fpr_mlp, tpr_mlp, linestyle='--',color='orange', label='Multi Layer Perceptron')\n",
    "plt.plot(p_fpr, p_tpr, linestyle='--', color='blue')\n",
    "# title\n",
    "plt.title('ROC curve')\n",
    "# x label\n",
    "plt.xlabel('False Positive Rate')\n",
    "# y label\n",
    "plt.ylabel('True Positive rate')\n",
    "\n",
    "plt.legend(loc='best')\n",
    "plt.show();"
   ]
  },
  {
   "cell_type": "code",
   "execution_count": null,
   "id": "e5bb335d-e51b-4aa1-9662-35e0df82f764",
   "metadata": {},
   "outputs": [],
   "source": []
  },
  {
   "cell_type": "code",
   "execution_count": null,
   "id": "f99ccba7-1c63-4b6b-8788-5b66c211f3f1",
   "metadata": {},
   "outputs": [],
   "source": []
  }
 ],
 "metadata": {
  "kernelspec": {
   "display_name": "prim_venv",
   "language": "python",
   "name": "prim_venv"
  },
  "language_info": {
   "codemirror_mode": {
    "name": "ipython",
    "version": 3
   },
   "file_extension": ".py",
   "mimetype": "text/x-python",
   "name": "python",
   "nbconvert_exporter": "python",
   "pygments_lexer": "ipython3",
   "version": "3.8.10"
  }
 },
 "nbformat": 4,
 "nbformat_minor": 5
}
